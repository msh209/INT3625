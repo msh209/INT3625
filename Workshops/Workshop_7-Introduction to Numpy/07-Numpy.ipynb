{
 "cells": [
  {
   "cell_type": "markdown",
   "metadata": {},
   "source": [
    "# Workshop 7\n",
    "###  some useful things: importing modules & docstrings\n",
    "###  A basic Introduction to Numpy (the Python linear algebra library)\n",
    "\n",
    "**<div class=\"alert alert-block alert-info\">\n",
    "KEY POINT -\n",
    "    Text in a blue background will be important things you NEED to know.**\n",
    "</div>\n",
    "\n",
    "**<div class=\"alert alert-block alert-success\">\n",
    "EXAMPLE - Text in a green background will be examples of code that you SHOULD study and run.**\n",
    "</div>\n",
    "\n",
    "**<div class=\"alert alert-block alert-danger\">\n",
    "EXERCISE - Text in a red background will be exercises you SHOULD attempt.**\n",
    "</div>\n",
    "\n",
    "**<div class=\"alert alert-block alert-info\">\n",
    "KEY POINT - When you get stuck, wave your hand and ask for help!**\n",
    "</div>"
   ]
  },
  {
   "cell_type": "markdown",
   "metadata": {},
   "source": [
    "## Modules\n",
    "\n",
    "**Cooking analogue**\n",
    "\n",
    "Most of the time, when cooking, we do not rely exclusively on raw ingredients and our cooking skills. Rather, we might use ingredients that we have prepared in advance or even pre made ingredients that we bought. For example, we might prepare a sauce and store it for later use, or buy ice cream instead of making our own from milk and vanilla sticks. This way we can rely on work done by other people, who are often more experienced than us and have more resources available.\n",
    "\n",
    "**Programming**\n",
    "\n",
    "Similarly, In programming, we don't always rely exclusively on our coding skills and the built in features of the language we might be using. Instead, we can also rely on code we might have already written or code that other people have written and made available to us or in public.\n",
    "\n",
    "\n",
    "Luckily, for most programming languages and python in particular, code is typically open source, i.e. freely available. Meaning, that unlike actual ice cream, coding ice cream is for free! 😄\n"
   ]
  },
  {
   "cell_type": "markdown",
   "metadata": {},
   "source": [
    "## Python modules\n",
    "### Defining and importing modules\n",
    "In python we can re-use code that we have already written by storing it in files and appropriately loading these files before using any of the code they contain. These files should be of type `.py` and can contain, among others, function definitions. They can be loaded as follows:\n",
    "\n",
    "```Python\n",
    "import moduleName\n",
    "```\n",
    "\n",
    "Objects contained in modules can be accessed as follows:\n",
    "\n",
    "```Python\n",
    "moduleName.moduleObject\n",
    "```\n",
    "\n",
    "\n",
    "**<div class=\"alert alert-block alert-success\">\n",
    "EXAMPLE - As an example, the attached file `numericalOperations.py` (you can open this in a different tab) contains functions for performing numerical operations:**\n",
    "</div>\n",
    "\n",
    "````Python\n",
    "'''A totally useless module for performing numerical operations using functions'''\n",
    "\n",
    "def addition(a,b):\n",
    "    '''A totally useless function for adding numbers'''\n",
    "    return a+b\n",
    "\n",
    "def subtraction(a,b):\n",
    "    '''A totally useless function for subtracting numbers'''\n",
    "    return a-b\n",
    "\n",
    "def multiplication(a,b):\n",
    "    '''A totally useless function for multiplying numbers'''\n",
    "    return a*b\n",
    "\n",
    "def division(a,b):\n",
    "    '''A totally useless function for dividing numbers'''\n",
    "    return a/b\n",
    "\n",
    "````\n",
    "\n",
    "Once saved at the same directory as the notebook it can be accessed as a module:"
   ]
  },
  {
   "cell_type": "code",
   "execution_count": null,
   "metadata": {},
   "outputs": [],
   "source": [
    "import numericalOperations #import module\n",
    "\n",
    "#Call module functions and print result\n",
    "print(numericalOperations.addition(5,6))\n",
    "print(numericalOperations.subtraction(4,9))\n",
    "print(numericalOperations.multiplication(6,9))\n",
    "print(numericalOperations.division(6,3))"
   ]
  },
  {
   "cell_type": "markdown",
   "metadata": {},
   "source": [
    "**<div class=\"alert alert-block alert-info\">\n",
    "KEY POINT - Using `import moduleName` allows us to access predefined functions from the package/library `moduleName`.**\n",
    "</div>\n",
    "\n",
    "**<div class=\"alert alert-block alert-info\">\n",
    "KEY POINT - We can call those functions by writing `moduleName.function1(inputArguments)`.**\n",
    "</div>"
   ]
  },
  {
   "cell_type": "markdown",
   "metadata": {},
   "source": [
    "### Using aliases and importing objects selectively\n",
    "\n",
    "If a module's name is too long, you can use a shorter name as an alias when importing it for easier use. This can be done as follows:\n",
    "\n",
    "```Python\n",
    "import moduleName as alias\n",
    "```\n",
    "\n",
    "**<div class=\"alert alert-block alert-success\">\n",
    "EXAMPLE - For example:**\n",
    "</div>"
   ]
  },
  {
   "cell_type": "code",
   "execution_count": null,
   "metadata": {},
   "outputs": [],
   "source": [
    "import numericalOperations as no #import module with alias\n",
    "\n",
    "print(no.addition(3.6,5.8)) #call module function and print result"
   ]
  },
  {
   "cell_type": "markdown",
   "metadata": {},
   "source": [
    "### If only some objects from a module are needed, they can be imported as follows:\n",
    "\n",
    "```Python\n",
    "from moduleName import object1, object2, etc\n",
    "```\n",
    "\n",
    "Objects imported like that can be used directly, without using the name of the module.\n",
    "\n",
    "For example:"
   ]
  },
  {
   "cell_type": "code",
   "execution_count": null,
   "metadata": {},
   "outputs": [],
   "source": [
    "from numericalOperations import addition, subtraction #import the addition and subtraction functions from the numerical Operations module\n",
    "\n",
    "print(addition(7.6,9.8)) #call module function and print result\n",
    "print(subtraction(7.6,9.8)) #call module function and print result"
   ]
  },
  {
   "cell_type": "markdown",
   "metadata": {},
   "source": [
    "**<div class=\"alert alert-block alert-info\">\n",
    "KEY POINT - We can be lazy! If we write `import moduleName as abc` we don't have to type `moduleName.function1(inputArguments)`, we can just type `abc.function1(inputArguments)`.**\n",
    "</div>\n",
    "\n",
    "**<div class=\"alert alert-block alert-info\">\n",
    "KEY POINT - We can be efficient (and therefore even lazier!). If we only want certain functions, we can write `from moduleName import function1`. Now instead of writing `moduleName.function1(inputArguments)`, we can just write `function1(inputArguments)`.**\n",
    "</div>"
   ]
  },
  {
   "cell_type": "markdown",
   "metadata": {},
   "source": [
    "### Adding docstrings\n",
    "\n",
    "Ddocstrings can be used to make your modules easier to use for other users. These are short descriptions of the module, typically placed in triple quotes in the very beginning of the file, for instance:\n",
    "\n",
    "```Python\n",
    "'''This is a docstring'''\n",
    "```\n",
    "\n",
    "You can also include docstrings in your functions to briefly explain their purpose. Once a module has been imported or a function defined, you can access its docstring as follows:\n",
    "\n",
    "```Python\n",
    "moduleName.__doc__\n",
    "\n",
    "functionName.__doc__\n",
    "```\n",
    "\n",
    "In the previous example, docstrings were added both at the beginning of the module and at every function. \n",
    "\n",
    "**<div class=\"alert alert-block alert-success\">\n",
    "EXAMPLE - Once the module is loaded they can be accessed as follows:**\n",
    "</div>"
   ]
  },
  {
   "cell_type": "code",
   "execution_count": null,
   "metadata": {},
   "outputs": [],
   "source": [
    "import numericalOperations as no #import module\n",
    "\n",
    "print(no.__doc__) #print module docstring\n",
    "print(no.addition.__doc__) #print docstring of addition function"
   ]
  },
  {
   "cell_type": "markdown",
   "metadata": {},
   "source": [
    "**<div class=\"alert alert-block alert-info\">\n",
    "KEY POINT - A docstring (or document string) is just some text that explains what is contained within the code below it. It is like a comment, but can be accessed via the commands above.**\n",
    "</div>"
   ]
  },
  {
   "cell_type": "markdown",
   "metadata": {},
   "source": [
    "### Built-in modules\n",
    "\n",
    "Python comes with several useful built-in modules. You can find more information about them on the [Python website](https://docs.python.org/3/library/).\n",
    "\n",
    "As an example, you can find several mathematical functions and constants in the math module:"
   ]
  },
  {
   "cell_type": "code",
   "execution_count": null,
   "metadata": {},
   "outputs": [],
   "source": [
    "import math #import math module\n",
    "\n",
    "print(math.pi) #print pi from the math module\n",
    "print(math.cos(0.25*math.pi)) #use the cos function from the math module to compute the cosine of an angle"
   ]
  },
  {
   "cell_type": "markdown",
   "metadata": {},
   "source": [
    "**<div class=\"alert alert-block alert-info\">\n",
    "KEY POINT - Like defining a variable, once we have imported a module, we don't have to do it again as long as we remain in the same environment.**\n",
    "</div>\n",
    "\n",
    "<div class=\"alert alert-block alert-danger\">\n",
    "<b>EXERCISE - Use the previously imported math package to confirm that $1101<\\sqrt{7} + e^7 + \\cos(7\\pi) + \\log(7e)<1111$.\n",
    "    \n",
    "Hint: [this might be useful](https://docs.python.org/3/library/math.html).\n",
    "    \n",
    "LPT: Use CTRL + F to search a webpage for matching text.</b>\n",
    "</div>"
   ]
  },
  {
   "cell_type": "markdown",
   "metadata": {},
   "source": [
    "### Now the Numpy Stuff - lets get started!"
   ]
  },
  {
   "cell_type": "markdown",
   "metadata": {},
   "source": [
    "## NumPy\n",
    "\n",
    "[NumPy](https://numpy.org/) is a package offering an array of objects and functions that allow to efficiently perform **Num**erical operations in **Py**thon.\n",
    "\n",
    "Today we will only scratch the surface of what Numpy can do, but we will keep coming back to it in the future. A brief overview of its capabilities would involve:\n",
    "\n",
    "* Arrays of arbitrary dimensions\n",
    "* Numerical computing tools such as linear algebra operations, curve fitting, Fourier transforms etc.\n",
    "* Ease of use through high level syntax\n",
    "* High performance\n",
    "\n",
    "### Importing Numpy\n",
    "\n",
    "Numpy typically comes pre-installed with anaconda, so to access all of the above capabilities you just need to import it. Typically, we use an alias for easier access:\n",
    "\n",
    "<b>By The Way</b>: Pandas and many other Python Packages are built on top of Numpy. Knowing a bit about Numpy is as important as bread is to breakfast "
   ]
  },
  {
   "cell_type": "code",
   "execution_count": null,
   "metadata": {},
   "outputs": [],
   "source": [
    "import numpy as np"
   ]
  },
  {
   "cell_type": "markdown",
   "metadata": {},
   "source": [
    "### NumPy arrays\n",
    "\n",
    "NumPy arrays:\n",
    "\n",
    "* Are objects implementing data structures for storing elements of the ***same type*** in a multi dimensional grid, for example:\n",
    "  - 1d arrays are sequences of elements (similar to lists) of the same type (unlike lists)\n",
    "  - 2d arrays can be seen as sequences of 1d arrays of the same size and type\n",
    "  - 3d arrays can be seen as sequences of 2d arrays of the same size and type\n",
    "* Can be of arbitrary dimensions\n",
    "* Apart from storing data, they offer methods for accessing and modifying data\n",
    "* Cannot be resized once created (in contrast to lists)\n",
    "* Are much faster than lists\n",
    "\n",
    "#### Creating Numpy arrays\n",
    "\n",
    "There are several ways to create arrays, the simplest one is from lists or lists of lists. This can be done using the following syntax:\n",
    "\n",
    "```Python\n",
    "    someArray = numpy.array(someList)\n",
    "```\n",
    "\n",
    "\n",
    "**<div class=\"alert alert-block alert-success\">\n",
    "EXAMPLE - For example: (make sure you have run the previous cell to import numpy before you run the below cell!)**\n",
    "</div>"
   ]
  },
  {
   "cell_type": "code",
   "execution_count": null,
   "metadata": {},
   "outputs": [],
   "source": [
    "array1=np.array([1,0,3,5,6,7])                   #Create a 1d array of size 6 from a list\n",
    "array2=np.array([[28.4,32.2],[17.6,5]])          #Create a 2d array of size 2x2 from a list of lists\n",
    "array3=np.array([[[1,2],[3,4]],[[5,6],[7,8]]])   #Create a 2d array of size  from a list of lists\n",
    "\n",
    "print('1d array:\\n', array1)\n",
    "print('2d array:\\n', array2)\n",
    "print('3d array:\\n', array3)"
   ]
  },
  {
   "cell_type": "markdown",
   "metadata": {},
   "source": [
    "Numpy also offers ways to easily initialise some frequently used arrays.\n",
    "\n",
    "**<div class=\"alert alert-block alert-success\">\n",
    "EXAMPLE - For example:**\n",
    "</div>"
   ]
  },
  {
   "cell_type": "code",
   "execution_count": null,
   "metadata": {},
   "outputs": [],
   "source": [
    "zeros2 = np.zeros([2,2])    #2x2 array of zeros, [2,2] sets the size of the array, for example [2,2,2] would give a 2x2x2 array\n",
    "ones1 = np.ones(7)          #array of ones of size 7\n",
    "fives = np.full([3,2],5)    #array of size 3x2 filled with the number 5\n",
    "\n",
    "print('2x2 array of zeros:\\n', zeros2)\n",
    "print('Array of ones:\\n', ones1)\n",
    "print('Array of fives:\\n',fives)"
   ]
  },
  {
   "cell_type": "markdown",
   "metadata": {},
   "source": [
    "\n",
    "\n",
    "**<div class=\"alert alert-block alert-success\">\n",
    "EXAMPLE - Some other useful initializations involve ranges of numbers or evenly divided intervals:**\n",
    "</div>"
   ]
  },
  {
   "cell_type": "code",
   "execution_count": null,
   "metadata": {},
   "outputs": [],
   "source": [
    "oneToTen = np.arange(1,11)  #array including numbers from 1 to 10, arange is similar to range!\n",
    "minusOneToOne = np.linspace(-1,1,10) #array containing 10 evenly spaced numbers in the -1 to 1 interval\n",
    "\n",
    "print('Array with numbers from 1 to 10:\\n',oneToTen)\n",
    "print('Array containing 10 evenly spaced numbers in the -1 to 1 interval:\\n', minusOneToOne)"
   ]
  },
  {
   "cell_type": "markdown",
   "metadata": {},
   "source": [
    "#### Accessing and slicing Numpy arrays\n",
    "\n",
    "Elements on Numpy arrays can be accessed in the same way as lists, while slicing is also possible.<br>\n",
    "List variables `[]` can be easily turned into Numpy arrays by `np.array([])` then we can utilise the full power of Numpy to process them:"
   ]
  },
  {
   "cell_type": "code",
   "execution_count": null,
   "metadata": {},
   "outputs": [],
   "source": [
    "a = np.array([0,1,2,3,4,5,6,7,8,9]) #define array from list"
   ]
  },
  {
   "cell_type": "markdown",
   "metadata": {},
   "source": [
    "note the formatted print statement below. You can just use `print(' The 1st 3 elemenst are ',a[0:3] )` if you like but you will notice these formatted print statements `print (f' {}') `are heavily used when searching for code online.  "
   ]
  },
  {
   "cell_type": "code",
   "execution_count": null,
   "metadata": {},
   "outputs": [],
   "source": [
    "print(f'The first three elements are {a[0:3]}.')"
   ]
  },
  {
   "cell_type": "code",
   "execution_count": null,
   "metadata": {},
   "outputs": [],
   "source": [
    "print(f'The second to last element is {a[-2]}.')"
   ]
  },
  {
   "cell_type": "markdown",
   "metadata": {},
   "source": [
    "<div class=\"alert alert-block alert-danger\">\n",
    "<b>EXERCISE - Print the non-negative even numbers less than 10.</b>\n",
    "</div>"
   ]
  },
  {
   "cell_type": "code",
   "execution_count": null,
   "metadata": {},
   "outputs": [],
   "source": [
    "print(f'The second to last element is {a[0:9:2]}.')"
   ]
  },
  {
   "cell_type": "markdown",
   "metadata": {},
   "source": [
    "<div class=\"alert alert-block alert-danger\">\n",
    "<b>EXERCISE - Print all numbers that are less than 8 but greater than 2 in descending order.</b>\n",
    "</div>"
   ]
  },
  {
   "cell_type": "code",
   "execution_count": null,
   "metadata": {},
   "outputs": [],
   "source": [
    "print(a[8:2:-1])\n"
   ]
  },
  {
   "cell_type": "markdown",
   "metadata": {},
   "source": [
    "#### Numpy array operations\n",
    "\n",
    "Numpy arrays support all numerical operations, performed element by element (element wise). <br>\n",
    "I have included a cheat sheet you may have noticed!!\n",
    "\n",
    "\n",
    "**<div class=\"alert alert-block alert-success\">\n",
    "EXAMPLE - For example:**\n",
    "</div>"
   ]
  },
  {
   "cell_type": "code",
   "execution_count": null,
   "metadata": {},
   "outputs": [],
   "source": [
    "#define and print two arrays\n",
    "a = np.array([1,2,3,4,5], dtype=float) # dtype=float defines an array of floats\n",
    "b = np.zeros(5)\n",
    "c = np.array([2,2,2,2,2])\n",
    "\n",
    "print(a)\n",
    "print(b)\n",
    "print(c)"
   ]
  },
  {
   "cell_type": "code",
   "execution_count": null,
   "metadata": {},
   "outputs": [],
   "source": [
    "#add a number to an array, remember b+=1 is the same as b = b +1\n",
    "b+=1\n",
    "\n",
    "print(b)"
   ]
  },
  {
   "cell_type": "code",
   "execution_count": null,
   "metadata": {},
   "outputs": [],
   "source": [
    "2.25*b #multiply array with number element by element"
   ]
  },
  {
   "cell_type": "code",
   "execution_count": null,
   "metadata": {},
   "outputs": [],
   "source": [
    "a+c #add arrays element by element"
   ]
  },
  {
   "cell_type": "code",
   "execution_count": null,
   "metadata": {},
   "outputs": [],
   "source": [
    "a*c #multiply arrays element by element"
   ]
  },
  {
   "cell_type": "code",
   "execution_count": null,
   "metadata": {},
   "outputs": [],
   "source": [
    "2**a #raise 2 to the power of each element in the array"
   ]
  },
  {
   "cell_type": "markdown",
   "metadata": {},
   "source": [
    "#### Numpy array methods\n",
    "\n",
    "Similar to strings and lists, Numpy arrays are objects and offer several methods. Here are some useful ones:"
   ]
  },
  {
   "cell_type": "code",
   "execution_count": null,
   "metadata": {},
   "outputs": [],
   "source": [
    "a=np.array([6.4, 0.3, 9.2, 5.8]) #define an array from a list\n"
   ]
  },
  {
   "cell_type": "code",
   "execution_count": null,
   "metadata": {},
   "outputs": [],
   "source": [
    "a.min() #minimum"
   ]
  },
  {
   "cell_type": "code",
   "execution_count": null,
   "metadata": {},
   "outputs": [],
   "source": [
    "a.mean() #mean value of the elements of the array"
   ]
  },
  {
   "cell_type": "markdown",
   "metadata": {},
   "source": [
    "<div class=\"alert alert-block alert-danger\">\n",
    "<b>EXERCISE - Find the maximum value in the array using a NumPy function.</b>\n",
    "</div>"
   ]
  },
  {
   "cell_type": "code",
   "execution_count": null,
   "metadata": {},
   "outputs": [],
   "source": []
  },
  {
   "cell_type": "markdown",
   "metadata": {},
   "source": [
    "<div class=\"alert alert-block alert-danger\">\n",
    "<b>EXERCISE - Find the sum of the values in the array using a NumPy function.</b>\n",
    "</div>"
   ]
  },
  {
   "cell_type": "code",
   "execution_count": null,
   "metadata": {},
   "outputs": [],
   "source": []
  },
  {
   "cell_type": "markdown",
   "metadata": {},
   "source": [
    "<div class=\"alert alert-block alert-danger\">\n",
    "<b>EXERCISE - Sort the array using a NumPy function, then print the array.</b>\n",
    "</div>"
   ]
  },
  {
   "cell_type": "code",
   "execution_count": null,
   "metadata": {},
   "outputs": [],
   "source": []
  },
  {
   "cell_type": "markdown",
   "metadata": {},
   "source": [
    "#### NumPy functions for arrays\n",
    "\n",
    "[Here is a complete list of NumPy functions](https://numpy.org/doc/stable/reference/routines.math.html)"
   ]
  },
  {
   "cell_type": "markdown",
   "metadata": {},
   "source": [
    "## Summary\n",
    "\n",
    "In this workshop we:\n",
    "\n",
    "- Learned how to create and import modules\n",
    "- Learned how to add docstrings to our modules and functions\n",
    "- Learned about basic operations with NumPy arrays (slicing is important) and note that we can perform data manipulations (like modifying the elements of an array) without the need to loop over all the elements.\n",
    "- Numpy is fantastically useful when writing code to perform numerical operations. It makes it easier to write that code and it is extremely fast.\n",
    "\n",
    "Resources:\n",
    "\n",
    "- [Python website](https://docs.python.org/3/) and [tutorial](https://docs.python.org/3/tutorial/interpreter.html)\n",
    "- [Python website - Standard Library](https://docs.python.org/3/library/)\n",
    "- [NumPy website](https://numpy.org/)\n",
    "\n",
    "**<div class=\"alert alert-block alert-info\">\n",
    "KEY POINT - Notice there is further material below the Assignments. This material should be worked through in your own time.**\n",
    "</div>\n",
    "\n",
    "<div class=\"alert alert-block alert-danger\">\n",
    " <b>EXERCISE - Now try the assignments below.\n",
    "    </b>\n",
    "</div>\n",
    "    \n",
    "<div class=\"alert alert-block alert-danger\">\n",
    " <b>EXERCISE - Ask lots of questions.\n",
    "    </b>\n",
    "</div>"
   ]
  },
  {
   "cell_type": "markdown",
   "metadata": {},
   "source": [
    "## Assignment - NumPy Arrays\n",
    "\n",
    "**1.** Write a program using NumPy functions to create a 1D array of 30 evenly spaced elements between 2.5. and 6.5, inclusive.\n",
    "\n",
    "**2.** Write a program using NumPy functions to create a 2D array of size $n \\times n$ with ones on the diagonal and zeros elsewhere, i.e., the $n \\times n$ identity matrix. Test your code with a few values of $n$.\n",
    "\n",
    "**3.** Write a program using NumPy functions to create an $n \\times n$ 2D array (matrix) and fill it with a checkerboard pattern, i.e. each row and column alternates between 1 and 0."
   ]
  },
  {
   "cell_type": "code",
   "execution_count": null,
   "metadata": {},
   "outputs": [],
   "source": [
    "# Part 1"
   ]
  },
  {
   "cell_type": "code",
   "execution_count": null,
   "metadata": {},
   "outputs": [],
   "source": [
    "# Part 2"
   ]
  },
  {
   "cell_type": "code",
   "execution_count": null,
   "metadata": {},
   "outputs": [],
   "source": [
    "# Part 3"
   ]
  },
  {
   "cell_type": "markdown",
   "metadata": {},
   "source": [
    "## Assignment - Basic NumPy operations/Ellipse circumference \n",
    "\n",
    "**Problem description**\n",
    "\n",
    "<img src=\"./Figures/ellipse1.png\"  width=\"400\"/>\n",
    "\n",
    "An ellipse is defined as a set of points for which, the sum of the distances from two points, called focal points, is constant.\n",
    "\n",
    "The equation of an ellipse in Cartesian coordinates is:\n",
    "\n",
    "$\\dfrac{x^2}{a^2} + \\dfrac{y^2}{b^2} = 1$\n",
    "\n",
    "where $a$ and $b$ are called the axes of the ellipse and their geometrical interpretation is shown in the figure:\n",
    "\n",
    "<img src=\"./Figures/ellipse2.png\"  width=\"400\"/>\n",
    "\n",
    "For the case where $a=b$, the ellipse becomes a circle with radius $r=a=b$\n",
    "\n",
    "A parametric expression can also be derived:\n",
    "\n",
    "$x = a \\cos\\left( \\theta \\right)$\n",
    "\n",
    "$y = b \\sin\\left( \\theta \\right)$\n",
    "\n",
    "with the angle $\\theta$ defined in the figure:\n",
    "\n",
    "<img src=\"./Figures/ellipse3.png\"  width=\"400\"/>\n",
    "\n",
    "The area of the ellipse can be computed as: $A = \\pi a b$\n",
    "\n",
    "For the circumference, different methods exist. In our case, we will try to approximate it with a series of linear segments as shown in the figure:\n",
    "\n",
    "<img src=\"./Figures/ellipse4.png\"  width=\"800\"/>\n",
    "\n",
    "<img src=\"./Figures/ellipse5.png\"  width=\"400\"/>\n",
    "\n",
    "The coordinates of each point can be obtained as:\n",
    "\n",
    "$x_i = a \\cos\\left( \\theta_i \\right)$\n",
    "\n",
    "$y_i = b \\sin\\left( \\theta_i \\right)$\n",
    "\n",
    "where the angles $\\theta_i$ are uniformly distributed in the interval $\\left[0, 2\\pi \\right]$.\n",
    "\n",
    "The length of each interval is:\n",
    "\n",
    "$l_i = \\sqrt{\\left(x_{i+1} - x_{i} \\right)^2 + \\left(y_{i+1} - y_{i} \\right)^2}$\n",
    "\n",
    "Then, the circumference of the ellipse is approximately:\n",
    "\n",
    "$C \\approx \\sum\\limits_{i=0}^{n} l_i$\n",
    "\n",
    "**Tasks**\n",
    "\n",
    "Write a program to compute the circumference of an ellipse given the axes $a$ and $b$ using $n$ points. The program should completely avoid loops by employing Numpy arrays as detailed in the following tasks:\n",
    "\n",
    "- **Task 1:** Define variables `a`, `b` and `n` with initial values of your choice\n",
    "- **Task 2:** Create a Numpy array with `n` evenly spaced values in the interval $\\left[0, 2\\pi\\right]$ to store angles $\\theta_i$. You can create this array using `linspace`.\n",
    "- **Task 3:** Using Numpy trigonometric functions and operations, compute the coordinates of points on the ellipse circumference. These coordinates should be stored in two individual Numpy arrays.\n",
    "- **Task 4:** Use Numpy operations and slicing to compute the differences $x_{i+1} - x_{i}$ and $y_{i+1} - y_{i}$ that are required for the evaluation of the linear segment lengths. These differences should be stored in new Numpy arrays.\n",
    "- **Task 5:** Compute the lengths of the linear segments using the previously obtained difference arrays and Numpy operations. These lengths should also be stored in a Numpy array.\n",
    "- **Task 6:** Compute and print the circumference of the ellipse as the sum of the previously computed lengths. You can do that using the `sum` Numpy function.\n",
    "- **Task 7:** Compare the obtained circumference with the one computed using the tool in this [link](https://www.google.com/search?q=ellipse+circumference&oq=ellipse+&aqs=chrome.1.69i57j35i39j0i131i433i457j0i433l2j0j46j0.2661j0j15&sourceid=chrome&ie=UTF-8). Check whether the accuracy of your approximation increases by increasing the number of points used."
   ]
  },
  {
   "cell_type": "code",
   "execution_count": null,
   "metadata": {},
   "outputs": [],
   "source": []
  },
  {
   "cell_type": "markdown",
   "metadata": {},
   "source": [
    "### Array and list performance comparison\n",
    "\n",
    "We mentioned that Numpy provides high performance, but let's illustrate that. A useful tool for doing that is the `%timeit` command provided by Jupyter notebooks, which executes the code following the command repeatedly and times the execution.\n",
    "\n",
    "In out comparison, we will consider the simple case multiplying a vector with a scalar. In the first case, lists will be used, and a function similar to that used in a previous assignment will be defined to perform the multiplication:"
   ]
  },
  {
   "cell_type": "code",
   "execution_count": null,
   "metadata": {},
   "outputs": [],
   "source": [
    "def listMultiply(aList,aNumber):\n",
    "    # A function that loops through aList, multiplying each element by aNumber\n",
    "    \n",
    "    result = []\n",
    "    \n",
    "    for i in aList:\n",
    "        result.append(i*aNumber)\n",
    "        \n",
    "    return result"
   ]
  },
  {
   "cell_type": "markdown",
   "metadata": {},
   "source": [
    "In the second case Numpy arrays will be used, where multiplication with a number is already defined.\n",
    "\n",
    "Let's set up the comparison.\n",
    "\n",
    "Note: This code will take a little bit of time to run!"
   ]
  },
  {
   "cell_type": "code",
   "execution_count": null,
   "metadata": {},
   "outputs": [],
   "source": [
    "n = 10000000 #size of the list/array\n",
    "\n",
    "initialList = [1]*n #define list with n elements equal to 1\n",
    "\n",
    "initialArray = np.array(initialList) #create a numpy array from the defined list\n",
    "\n",
    "#time execution of listMultiply function\n",
    "print('Our function takes:')\n",
    "%timeit finalList = listMultiply(initialList,2)\n",
    "\n",
    "#time execution of numpy multiplication\n",
    "print('The built in NumPy function takes:')\n",
    "%timeit finalArray = 2*initialArray"
   ]
  },
  {
   "cell_type": "markdown",
   "metadata": {},
   "source": [
    "**Numpy is much faster! Notice these times may not seem accurate as your machine will be doing other things in the background, but this will represent the amount of time used to execute each line of code.**"
   ]
  },
  {
   "cell_type": "code",
   "execution_count": null,
   "metadata": {},
   "outputs": [],
   "source": []
  }
 ],
 "metadata": {
  "kernelspec": {
   "display_name": "Python 3 (ipykernel)",
   "language": "python",
   "name": "python3"
  },
  "language_info": {
   "codemirror_mode": {
    "name": "ipython",
    "version": 3
   },
   "file_extension": ".py",
   "mimetype": "text/x-python",
   "name": "python",
   "nbconvert_exporter": "python",
   "pygments_lexer": "ipython3",
   "version": "3.10.4"
  }
 },
 "nbformat": 4,
 "nbformat_minor": 4
}
