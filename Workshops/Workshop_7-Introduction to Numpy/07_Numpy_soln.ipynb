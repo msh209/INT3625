{
 "cells": [
  {
   "cell_type": "markdown",
   "metadata": {},
   "source": [
    "# Workshop 7\n",
    "# Solutions Introduction to Numpy"
   ]
  },
  {
   "cell_type": "markdown",
   "metadata": {},
   "source": [
    "## Assignment - NumPy Arrays\n",
    "\n",
    "**1.** Write a program using NumPy functions to create a 1D array of 30 evenly spaced elements between 2.5. and 6.5, inclusive.\n",
    "\n",
    "**2.** Write a program using NumPy functions to create a 2D array of size $n \\times n$ with ones on the diagonal and zeros elsewhere, i.e., the $n \\times n$ identity matrix. Test your code with a few values of $n$.\n",
    "\n",
    "**3.** Write a program using NumPy functions to create an $n \\times n$ 2D array (matrix) and fill it with a checkerboard pattern, i.e. each row and column alternates between 1 and 0."
   ]
  },
  {
   "cell_type": "code",
   "execution_count": null,
   "metadata": {},
   "outputs": [],
   "source": [
    "# Part 1\n",
    "import numpy as np\n",
    "x = np.linspace(2.5, 6.5, 30)\n",
    "print(x)"
   ]
  },
  {
   "cell_type": "code",
   "execution_count": null,
   "metadata": {},
   "outputs": [],
   "source": [
    "# Part 2\n",
    "n = 5\n",
    "x = np.eye(n)\n",
    "print(x)"
   ]
  },
  {
   "cell_type": "code",
   "execution_count": null,
   "metadata": {},
   "outputs": [],
   "source": [
    "# Part 3\n",
    "n=8\n",
    "x = np.zeros((n,n),dtype=int)\n",
    "x[1::2,::2] = 1\n",
    "x[::2,1::2] = 1\n",
    "print(x)"
   ]
  },
  {
   "cell_type": "markdown",
   "metadata": {},
   "source": [
    "## Assignment - Basic NumPy operations/Ellipse circumference \n",
    "\n",
    "**Problem description**\n",
    "\n",
    "<img src=\"./Figures/ellipse1.png\"  width=\"400\"/>\n",
    "\n",
    "An ellipse is defined as a set of points for which, the sum of the distances from two points, called focal points, is constant.\n",
    "\n",
    "The equation of an ellipse in Cartesian coordinates is:\n",
    "\n",
    "$\\dfrac{x^2}{a^2} + \\dfrac{y^2}{b^2} = 1$\n",
    "\n",
    "where $a$ and $b$ are called the axes of the ellipse and their geometrical interpretation is shown in the figure:\n",
    "\n",
    "<img src=\"./Figures/ellipse2.png\"  width=\"400\"/>\n",
    "\n",
    "For the case where $a=b$, the ellipse becomes a circle with radius $r=a=b$\n",
    "\n",
    "A parametric expression can also be derived:\n",
    "\n",
    "$x = a \\cos\\left( \\theta \\right)$\n",
    "\n",
    "$y = b \\sin\\left( \\theta \\right)$\n",
    "\n",
    "with the angle $\\theta$ defined in the figure:\n",
    "\n",
    "<img src=\"./Figures/ellipse3.png\"  width=\"400\"/>\n",
    "\n",
    "The area of the ellipse can be computed as: $A = \\pi a b$\n",
    "\n",
    "For the circumference, different methods exist. In our case, we will try to approximate it with a series of linear segments as shown in the figure:\n",
    "\n",
    "<img src=\"./Figures/ellipse4.png\"  width=\"800\"/>\n",
    "\n",
    "<img src=\"./Figures/ellipse5.png\"  width=\"400\"/>\n",
    "\n",
    "The coordinates of each point can be obtained as:\n",
    "\n",
    "$x_i = a \\cos\\left( \\theta_i \\right)$\n",
    "\n",
    "$y_i = b \\sin\\left( \\theta_i \\right)$\n",
    "\n",
    "where the angles $\\theta_i$ are uniformly distributed in the interval $\\left[0, 2\\pi \\right]$.\n",
    "\n",
    "The length of each interval is:\n",
    "\n",
    "$l_i = \\sqrt{\\left(x_{i+1} - x_{i} \\right)^2 + \\left(y_{i+1} - y_{i} \\right)^2}$\n",
    "\n",
    "Then, the circumference of the ellipse is approximately:\n",
    "\n",
    "$C \\approx \\sum\\limits_{i=0}^{n} l_i$\n",
    "\n",
    "**Tasks**\n",
    "\n",
    "Write a program to compute the circumference of an ellipse given the axes $a$ and $b$ using $n$ points. The program should completely avoid loops by employing Numpy arrays as detailed in the following tasks:\n",
    "\n",
    "- **Task 1:** Define variables `a`, `b` and `n` with initial values of your choice\n",
    "- **Task 2:** Create a Numpy array with `n` evenly spaced values in the interval $\\left[0, 2\\pi\\right]$ to store angles $\\theta_i$. You can create this array using `linspace`.\n",
    "- **Task 3:** Using Numpy trigonometric functions and operations, compute the coordinates of points on the ellipse circumference. These coordinates should be stored in two individual Numpy arrays.\n",
    "- **Task 4:** Use Numpy operations and slicing to compute the differences $x_{i+1} - x_{i}$ and $y_{i+1} - y_{i}$ that are required for the evaluation of the linear segment lengths. These differences should be stored in new Numpy arrays.\n",
    "- **Task 5:** Compute the lengths of the linear segments using the previously obtained difference arrays and Numpy operations. These lengths should also be stored in a Numpy array.\n",
    "- **Task 6:** Compute and print the circumference of the ellipse as the sum of the previously computed lengths. You can do that using the `sum` Numpy function.\n",
    "- **Task 7:** Compare the obtained circumference with the one computed using the tool in this [link](https://www.google.com/search?q=ellipse+circumference&oq=ellipse+&aqs=chrome.1.69i57j35i39j0i131i433i457j0i433l2j0j46j0.2661j0j15&sourceid=chrome&ie=UTF-8). Check whether the accuracy of your approximation increases by increasing the number of points used."
   ]
  },
  {
   "cell_type": "code",
   "execution_count": null,
   "metadata": {},
   "outputs": [],
   "source": [
    "import numpy as np\n",
    "import math\n",
    "\n",
    "#Task 1\n",
    "#Create variables for the axes of the ellipse and the number of points\n",
    "a=2\n",
    "b=1\n",
    "n=1001\n",
    "\n",
    "#Task 2\n",
    "#Create array including n evenly distributed values in the interval[0,2*pi]\n",
    "thetai = np.linspace(0,2*math.pi,n)\n",
    "\n",
    "#Task 3\n",
    "#Compute point coordinates using numpy functions\n",
    "xi = a*np.cos(thetai)\n",
    "yi = b*np.sin(thetai)\n",
    "\n",
    "#Task 4\n",
    "#Compute the differences in coordinates required using slicing\n",
    "# You can print out the individual components here like xi[:-1] if you are wondering what it does \n",
    "# But make the value of \"n\" above small first so that you can inspect properly.\n",
    "dxi = xi[1:] - xi[:-1]\n",
    "dyi = yi[1:] - yi[:-1]\n",
    "\n",
    "#Task 5\n",
    "#Compute the length of each interval using the previously computed differences\n",
    "li = (dxi**2+dyi**2)**0.5\n",
    "\n",
    "#Task 6\n",
    "#Compute the sum of all the lengths using np.sum\n",
    "C = np.sum(li)\n",
    "\n",
    "#print the computed circumference\n",
    "print(C)"
   ]
  },
  {
   "cell_type": "code",
   "execution_count": null,
   "metadata": {},
   "outputs": [],
   "source": []
  }
 ],
 "metadata": {
  "kernelspec": {
   "display_name": "Python 3 (ipykernel)",
   "language": "python",
   "name": "python3"
  },
  "language_info": {
   "codemirror_mode": {
    "name": "ipython",
    "version": 3
   },
   "file_extension": ".py",
   "mimetype": "text/x-python",
   "name": "python",
   "nbconvert_exporter": "python",
   "pygments_lexer": "ipython3",
   "version": "3.10.4"
  }
 },
 "nbformat": 4,
 "nbformat_minor": 4
}
