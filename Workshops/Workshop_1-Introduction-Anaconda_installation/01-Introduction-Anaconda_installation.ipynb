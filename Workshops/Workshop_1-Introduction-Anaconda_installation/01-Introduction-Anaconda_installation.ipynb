{
 "cells": [
  {
   "cell_type": "markdown",
   "metadata": {},
   "source": [
    "# Workshop 1\n",
    "# Introduction - Welcome to Jupyter (notebooks) and 'Hello, world!'"
   ]
  },
  {
   "cell_type": "markdown",
   "metadata": {
    "jp-MarkdownHeadingCollapsed": true,
    "slideshow": {
     "slide_type": "slide"
    },
    "tags": []
   },
   "source": [
    "## Overview - Objectives\n",
    "\n",
    "Our main objectives (<b>on this course not today</b>) are to:\n",
    "\n",
    "* Gain some Python coding experience\n",
    "* Get an insight into Machine Learning techniques using python Scikit-learn.\n",
    "* Introduce some basic tools and programming skills that could prove useful for the remainder of your studies.\n",
    "\n",
    "* <b>The objective of THIS notebook is to get you successfully installing Anaconda.</b>"
   ]
  },
  {
   "cell_type": "markdown",
   "metadata": {
    "slideshow": {
     "slide_type": "slide"
    }
   },
   "source": [
    "## Workshops - to be updated\n",
    "\n",
    "The content of the programming workshops for this term is planned (generally) as follows:\n",
    "\n",
    "|Task     |      Workshop Topics              |  Workshop                                |\n",
    "|--------------- |-----------------------------------|------------------------------------------|\n",
    "| Learning Python| Installing Anaconda               |    Workshop 1                            |\n",
    "|        | Data Types and operations         |    Workshop 2                            |\n",
    "|        | More data types and operations    |    Workshop 3                            |\n",
    "|        | Loops & Conditionals              |    Workshop 4                            |\n",
    "|        | Writing Functions                 |    Workshop 5                            |       \n",
    "|        | Function practice                 |    Workshop 6                            |\n",
    "|        | Numpy                             |    Workshop 7                            |  \n",
    "| Learning Pandas| Introduction to Pandas            |    Workshop 8                            |\n",
    "|        | Pandas Data Structures            |    Workshop 9                            |\n",
    "|        | Pandas Data Assembly              |    Workshop 10                           |\n",
    "|        | Pandas Data Transformations       |    Workshop 11                           |\n",
    "|        | Data Plotting in Pandas           |    Workshop 12                           |\n",
    "| Other Learning- | Regression                      --  |                                          |\n",
    "|        | Neural Networks                   |      --                                    |"
   ]
  },
  {
   "cell_type": "markdown",
   "metadata": {
    "slideshow": {
     "slide_type": "slide"
    }
   },
   "source": [
    "## Format\n",
    "\n",
    "The format for the programming workshops will be roughly the following:\n",
    "\n",
    "* Every week the Jupyter notebooks may be made available, these will include:\n",
    "   - All the commands/theory needed, plus some additional related material\n",
    "   - Code examples\n",
    "   - Where necessary, useful resources for further reading\n",
    "   - The description of the problem to be solved\n",
    "* Alternatively, the exercises will be presented in the form of pdf, html or alternative file format such as markdown and the Spyder debugger will be used to code (I will show the Spyder IDE later in the classroom):\n",
    "   - If so; the commands/theory needed will be contained in the relative format as mentioned above. \n",
    "  \n",
    "* Workshops will usually begin with a review of the required theory and commands, these reviews:\n",
    "   - Will be more extensive in the first few workshops\n",
    "   - Will contain more example coding in further workbooks.\n",
    "\n",
    "* Some workshops will only involve short assignments to practice the material taught in previous workshops, these:\n",
    "    - Can range in difficulty from very basic to more advanced\n",
    "    - Will allow you to focus on the parts that you might find more challenging.\n",
    "\n",
    "* The main part of each of the first 5 workshops will involve the solution of some problem using python, these problems:\n",
    "   - Will not always be related to the corresponding theory lecture.\n",
    "   - Will aim at highlighting specific Python skills appropriate to data science.\n",
    "   - You will be learning the fundamentals of programming in these first weeks of workbooks. \n",
    "   - Will, hopefully, be interesting!\n",
    "\n",
    "\n",
    "<div class=\"alert alert-block alert-info\">\n",
    " We would like the workshops to be hands-on and focus on programming, rather than repeating theory/command syntax. These are still in development and subject to your feedback. We would like you to be involved in helping to shape some aspects of the course going forwards 😉  \n",
    "</div>"
   ]
  },
  {
   "cell_type": "markdown",
   "metadata": {
    "slideshow": {
     "slide_type": "slide"
    }
   },
   "source": [
    "## Programming\n",
    "\n",
    "### What is programming?\n",
    "\n",
    "Put in the simplest possible way, programming is:\n",
    "\n",
    "<div class=\"alert alert-block alert-info\">\n",
    " The process of composing a set of instructions, to be executed by a computer, for performing a certain task.\n",
    "</div>\n",
    "\n",
    "These instructions can be given in different ways, while the tasks that can be performed range from printing a few characters of text to simulating the creation of continents!\n",
    "\n",
    "Next we elaborate a bit more."
   ]
  },
  {
   "cell_type": "markdown",
   "metadata": {
    "slideshow": {
     "slide_type": "slide"
    }
   },
   "source": [
    "### Programming languages\n",
    "\n",
    "Computers only understand a very limited set of instructions, called machine code, which is not very easy to understand and manipulate by humans. In order to make programming a less painful task programming languages introduce commands that make more sense to humans and are thus easier to use.\n",
    "\n",
    "There are several programming languages, such as:\n",
    "\n",
    "* C, C++, C#\n",
    "* Fortran\n",
    "* Java\n",
    "* Matlab\n",
    "* Python\n",
    "* R\n",
    "\n",
    "See [Wikipedia](https://en.wikipedia.org/wiki/List_of_programming_languages) for a more comprehensive list.\n",
    "\n",
    "Each of these languages was created for different purposes and as a results they all have their individual advantages and disadvantages."
   ]
  },
  {
   "cell_type": "markdown",
   "metadata": {
    "slideshow": {
     "slide_type": "slide"
    }
   },
   "source": [
    "Programming languages can be categorised based on different characteristics. While the topic is quite complicated, here we will only mention two characteristics that are useful to know.\n",
    "\n",
    "The first characteristic is related to how the code written in each language is executed and, based on this, we can distinguish the following types of programming languages:\n",
    "\n",
    "- **Compiled**. In this category of languages, a software, known as **compiler**, reads a file or files containing the original code, known as **source code** and converts it into a machine-understandable executable file, which the user has to run.\n",
    "\n",
    "\n",
    "- **Interpreted**. In this category, each individual line of code is read by a software, known as **interpreter**, and executed directly. In this category, the user typically needs to run the interpreter in order to execute code.\n",
    "\n",
    "\n",
    "<div class=\"alert alert-block alert-info\">\n",
    " The difference between the above categories is similar to the difference between the translation of a document, which takes place once the original document has been written and results in another document (this is compiled), and the live translation of an interview, which is performed sentence by sentence while the interviewee is speaking (this is interpreted).\n",
    "</div>\n",
    "\n",
    "<div class=\"alert alert-block alert-warning\"> \n",
    "It should be mentioned that boundaries can be a bit blurry since, for example, code from interpreted languages can also be compiled into an executable. Python can be both but generally it is conbsidered to be an interpreted programming language.\n",
    "</div>"
   ]
  },
  {
   "cell_type": "markdown",
   "metadata": {
    "slideshow": {
     "slide_type": "slide"
    }
   },
   "source": [
    "A second characteristic, based on which we can distinguish programming languages, is related to the level of abstraction from details of the hardware, or in other words how close the language is to machine code. In general, higher level languages tend to use simpler syntax and are easier for humans to understand than low level languages. On the other hand, low level languages, being closer to the hardware, offer more control on how the code is executed and as a result can offer better performance. Python is a high level language and the constructs and syntax are familiar to other high level languages in that they will be recognisable to students that have some coding experience in other languages.\n",
    "\n",
    "In order to illustrate the difference between high and low level languages, here is the same program written in three different languages, ordered from high to low level:\n",
    "\n",
    "* Python:    This is less complicated - high level\n",
    "  ```Python\n",
    "     print('Hello, world!')\n",
    "  ```\n",
    "* C++:       More complicated than python as an input/output stream needs to be set up \n",
    "\n",
    "  ```C++\n",
    "     #include <iostream>\n",
    "     \n",
    "     int main(int argc, char **argv)\n",
    "     {\n",
    "         std::cout << \"Hello, world!\" << std::endl;\n",
    "         \n",
    "         return 0;\n",
    "     }\n",
    "  ```\n",
    "* Assembly:   This is very low level like \"machine code\" and complicated\n",
    "\n",
    "  ```Assembly\n",
    "     section .text   \n",
    "     global  _start\n",
    "     _start:\n",
    "     mov     edx, len\n",
    "     mov     ecx,msg\n",
    "     mov     ebx,1\n",
    "     mov     eax,4\n",
    "     int     0x80\n",
    "  \t mov     ebx,0\n",
    "     mov     eax,1\n",
    "     int     0x80\n",
    "\n",
    "     section .data\n",
    "     msg db      \"Hello, world!\",0xa\n",
    "     len equ $ - msg    \n",
    "  ```"
   ]
  },
  {
   "cell_type": "markdown",
   "metadata": {
    "slideshow": {
     "slide_type": "slide"
    }
   },
   "source": [
    "\n",
    "### Programming applications\n",
    "\n",
    "The range of applications is too wide for this introduction! Thus we will just list a few engineering applications:\n",
    "\n",
    "- Modelling and Simulation\n",
    "- Data analysis\n",
    "- CAD\n",
    "- Automation\n",
    "- Decision Making - ML (machine learning) - AI (Artificial Intelligence)"
   ]
  },
  {
   "cell_type": "markdown",
   "metadata": {
    "slideshow": {
     "slide_type": "slide"
    }
   },
   "source": [
    "## Jupyter Notebooks\n",
    "\n",
    "In this module we will be using them but they can take a long time to prepare so maybe not every week 🤣 Anyway, so here is some useful information regarding Jupyter Notebooks:\n",
    "\n",
    "### What are Jupyter Notebooks?\n",
    "\n",
    "Jupyter notebooks are documents that incorporate:\n",
    "\n",
    "* Code, in our case Python code, but could be other languages as well.\n",
    "* Code output, this can be as simple as plain text but also more complicated, for instance figures, videos etc.\n",
    "* Formatted text, equations, pictures, links and other media\n",
    "\n",
    "<div class=\"alert alert-block alert-info\">\n",
    " In fact, what you are looking at right now is a Jupyter Notebook! 😉\n",
    "</div>\n",
    "\n",
    "Next we will go briefly through the different elements of Jupyter notebooks, but you can find more information [here](https://jupyter-notebook.readthedocs.io/en/stable/)"
   ]
  },
  {
   "cell_type": "markdown",
   "metadata": {
    "slideshow": {
     "slide_type": "slide"
    }
   },
   "source": [
    "### Why are Jupyter Notebooks good?\n",
    "\n",
    "For a variety of reasons. Some of the most important are:\n",
    "\n",
    "* They allow for quick and easy experimentation\n",
    "* They allow for easy inclusion of additional media, therefore they are ideal for presenting code or, as in our case, educational purposes\n",
    "* They are portable\n",
    "* They are free!"
   ]
  },
  {
   "cell_type": "markdown",
   "metadata": {
    "slideshow": {
     "slide_type": "slide"
    }
   },
   "source": [
    "### How to install Jupyter Notebooks\n",
    "\n",
    "The simplest way to start working with Jupyter Notebooks in your machine is by installing anaconda.\n",
    "\n",
    "You can install anaconda by following this [link](https://www.anaconda.com/products/individual), downloading the installer corresponding to your OS and following the instructions.\n",
    "\n",
    "For more detailed instructions you can watch these very helpful videos from David Moxey for [Windows](https://recapexeter.cloud.panopto.eu/Panopto/Pages/Viewer.aspx?id=6bd29ed9-4b49-4b89-8065-ac370100f86b) and [Mac](https://recapexeter.cloud.panopto.eu/Panopto/Pages/Viewer.aspx?id=565abe57-0bec-4e0b-8a8a-ac380125c97c)\n",
    "\n",
    "If you are having trouble with the installation you can come to us and ask for help. "
   ]
  },
  {
   "cell_type": "markdown",
   "metadata": {
    "slideshow": {
     "slide_type": "slide"
    }
   },
   "source": [
    "### How to work with Jupyter Notebooks\n",
    "\n",
    "<div class=\"alert alert-block alert-warning\"> NOTE: If you are missing images like those below you must make sure that you are running the notebook from the same directory that you unzipped. Notice the folder called \"Figures\" when you unzip, it must be in the same place you are running this notebook from. Macbook users simply double click the zip file to unzip and sometimes students do not do that correctly and subsequently have an issue with image visibility 😉 </div>\n",
    "\n",
    "\n",
    "\n",
    "#### Creating or running Jupyter Notebooks - the Notebook dashboard\n",
    "\n",
    "To start managing your Jupyter Notebooks, simply launch Jupyter notebooks from the corresponding shortcut in your system.\n",
    "\n",
    "This should open a browser tab looking something like this:\n",
    "\n",
    "<div>\n",
    "<img src=\"./Figures/jupyter.png\" width=\"600\">\n",
    "</div>\n",
    "    \n",
    "This is the Notebook dashboard. From there, you can navigate to different folders and, among others:\n",
    "\n",
    "* Run existing notebooks. These are files of type .ipynb and you can run them just by clicking on them, for instance:\n",
    "\n",
    "<div>\n",
    "<img src=\"./Figures/jupyter_run.png\" width=\"600\">\n",
    "</div>"
   ]
  },
  {
   "cell_type": "markdown",
   "metadata": {
    "slideshow": {
     "slide_type": "slide"
    }
   },
   "source": [
    "* Inspect whether notebooks are running. Notebooks that are running have a different color and they are denoted as running next to the date they were last modified:\n",
    "\n",
    "<div>\n",
    "<img src=\"./Figures/jupyter_running.png\" width=\"600\">\n",
    "</div>"
   ]
  },
  {
   "cell_type": "markdown",
   "metadata": {
    "slideshow": {
     "slide_type": "slide"
    }
   },
   "source": [
    "* Rename existing notebooks by selecting a notebook, clicking rename and typing the new name:\n",
    "\n",
    "<div>\n",
    "<img src=\"./Figures/jupyter_rename.png\" width=\"600\">\n",
    "</div>"
   ]
  },
  {
   "cell_type": "markdown",
   "metadata": {
    "slideshow": {
     "slide_type": "slide"
    }
   },
   "source": [
    "* Create new ones by clicking on new &rarr; Python 3:\n",
    "\n",
    "<div>\n",
    "<img src=\"./Figures/jupyter_new.png\" width=\"600\">\n",
    "</div>"
   ]
  },
  {
   "cell_type": "markdown",
   "metadata": {
    "slideshow": {
     "slide_type": "slide"
    }
   },
   "source": [
    "### The environment\n",
    "\n",
    "One you have created a new notebook, you should see something like this:\n",
    "\n",
    "<img src=\"./Figures/jupyter_new_notebook.png\" width=\"600\">\n",
    "\n",
    "There are a few distinct elements in this tab. Firstly, the menus and toolbar</ins>\n",
    "\n",
    "<img src=\"./Figures/jupyter_toolbar.png\" width=\"400\"> \n",
    "\n",
    "These include:\n",
    "- Standard menus like file, view, edit. These are, to an extent, common to other programs and shouldn't be completely foreign (hopefully!)\n",
    "- Some notebook specific menus such as Cell and Kernel. Cells are the core of a notebook and will be explained in more detail in what follows. Kernel refers to the engine used to run code, in our case Python.\n",
    "- A toolbar with:\n",
    "    - Common tools such as save, cut, paste etc. These work in a similar way to e.g. a text editor\n",
    "    - Some notebook specific tools such as insert cell below, run cell etc. These allow us to manipulate cells as we will see in what follows "
   ]
  },
  {
   "cell_type": "markdown",
   "metadata": {
    "slideshow": {
     "slide_type": "slide"
    }
   },
   "source": [
    "#### Saving Notebooks\n",
    "\n",
    "Progress made on a Notebook can be saved using:\n",
    "\n",
    "* The save tool from the toolbar <img src=\"./Figures/jupyter_save_tool.png\" width=\"40\">\n",
    "\n",
    "* The Save and Checkpoint option from the File menu: <img src=\"./Figures/jupyter_save.png\" width=\"200\">\n",
    "\n",
    "\n",
    "* The `Control+S` keyboard shortcut"
   ]
  },
  {
   "cell_type": "markdown",
   "metadata": {
    "slideshow": {
     "slide_type": "slide"
    }
   },
   "source": [
    "#### Cells\n",
    "\n",
    "Another main element of a new notebook is an empty cell:\n",
    "\n",
    "<img src=\"./Figures/jupyter_empty_cell.png\" width=\"600\">\n",
    "\n",
    "Cells are containers for code or unformatted text, which can be ran to produce code output, formatted text and other media."
   ]
  },
  {
   "cell_type": "markdown",
   "metadata": {
    "slideshow": {
     "slide_type": "slide"
    }
   },
   "source": [
    "**Edit and Command Mode**\n",
    "\n",
    "There two different modes in which you can use a Notebook:\n",
    "\n",
    "* **Edit mode:** it allows you to edit cell contents. It can be identified by a green border around cells and it can be activated by clicking in a cell or pressing `Enter` <img src=\"./Figures/jupyter_empty_cell.png\" width=\"600\">\n",
    "\n",
    "* **Command mode** it allows you to edit the notebook by adding/removing cells, changing cell types etc. It is particularly useful if you prefer to use keyboard shortcuts rather than the graphical interface. It is identified by a blue border around cells and can be activated by clicking outside cells or pressing `Esc` <img src=\"./Figures/jupyter_cell_command.png\" width=\"600\">"
   ]
  },
  {
   "cell_type": "markdown",
   "metadata": {
    "slideshow": {
     "slide_type": "slide"
    }
   },
   "source": [
    "**Cell types**\n",
    "\n",
    "There are different types of cells, but mainly two that we will be working with:\n",
    "\n",
    "* **Code Cells**. These contain code and can be run to execute it and produce output. In these cells Python or other programming languages can be used.\n",
    "\n",
    "\n",
    "* **Markdown Cells**. These are cells where you can insert formatted text and other media accompanying your code. In these cells, Markdown is used, which is a simple markup language for formatting text.\n",
    "\n",
    "All new cells are by default Code Cells.\n",
    "\n",
    "The type of the current (selected) cell can be changed in one of the following ways:\n",
    "\n",
    "- By selecting a type from the dropdown menu in the toolbar\n",
    "\n",
    "<img src=\"./Figures/jupyter_toolbar_dropdown.png\" width=\"400\">\n",
    "\n",
    "- By switching to command mode and using the keyboard shortcut `M` for Markdown and `Y` for Python"
   ]
  },
  {
   "cell_type": "markdown",
   "metadata": {
    "slideshow": {
     "slide_type": "slide"
    }
   },
   "source": [
    "**Creating and deleting cells**\n",
    "\n",
    "New cells can be created either below or above the current cell by:\n",
    "\n",
    "- Using the new cell tool from the toolbar ![new cell tool](./Figures/jupyter_new_cell_tool.png)\n",
    "- Selecting `Insert Cell Above` or `Insert Cell Below` from the insert menu:\n",
    "  <img src=\"./Figures/jupyter_insert.png\" width=\"120\">\n",
    "- Switching to command mode and using the `A` or `B` keyboard shortcuts for inserting cells above or below the current one\n",
    "\n",
    "Once multiple cells have been created you can navigate them:\n",
    "\n",
    "- Either with the mouse by clicking the cell you want to edit\n",
    "\n",
    "- Or with the keyboard using up and down arrows `⇧ `  `⇩`"
   ]
  },
  {
   "cell_type": "markdown",
   "metadata": {
    "slideshow": {
     "slide_type": "slide"
    }
   },
   "source": [
    "**Running cells**\n",
    "\n",
    "You can run cells in different ways:\n",
    "\n",
    "- Through the toolbar, using the Run tool to run and optionally select or create the next cell : <img src=\"./Figures/jupyter_run_tool.png\" width=\"70\">\n",
    "\n",
    "- Through the different options provided in the Cell menu:\n",
    "  <img src=\"./Figures/jupyter_cell_menu.png\" width=\"200\">\n",
    "\n",
    "\n",
    "- Through the keyboard using the shortcuts: `Control+Enter`, `Shift+Enter`, `Alt+Enter` to run and create/select the next cell (the same options as in the menu are available)"
   ]
  },
  {
   "cell_type": "markdown",
   "metadata": {},
   "source": [
    "**Interrupting cell execution**\n",
    "You may need to interupt the python interpretor if for example you do something in error like write a while loop that is infinite by mistake.\n",
    "You can interrupt the execution of a cell in one of the following ways:\n",
    "\n",
    "- Through the toolbar, using the Interrupt Kernel tool: <img src=\"./Figures/jupyter_interrupt.png\" width=\"40\">\n",
    "\n",
    "- Through the Interrupt option from the Kernel menu:\n",
    "  <img src=\"./Figures/jupyter_interrupt_kernel.png\" width=\"160\">\n",
    "\n",
    "\n",
    "- Through the keyboard using the shortcut `I, I` in command mode"
   ]
  },
  {
   "cell_type": "markdown",
   "metadata": {
    "slideshow": {
     "slide_type": "slide"
    }
   },
   "source": [
    "**Keyboard shortcuts**\n",
    "\n",
    "A complete list of keyboard shortcuts can be displayed by clicking Keyboard Shortcuts in the Help menu or pressing `H` in command mode:\n",
    "\n",
    "<img src=\"./Figures/jupyter_keyboard_shortcuts.png\" width=\"500\">"
   ]
  },
  {
   "cell_type": "markdown",
   "metadata": {
    "slideshow": {
     "slide_type": "slide"
    }
   },
   "source": [
    "## **Markdown cells**\n",
    "Markdown is the language used to write the text cells. Markdown files have the extension .md\n",
    "More information about Markdown, can be found in the following resources:\n",
    "\n",
    "- [Markdown guide](https://www.markdownguide.org/) and the [Basic Syntax](https://www.markdownguide.org/basic-syntax/) page in particular\n",
    "- [Github Markdown Cheatsheet](https://github.com/adam-p/markdown-here/wiki/Markdown-Cheatsheet)\n",
    "\n",
    "Also here are some examples of what you can do with it (enter edit mode in each cell to see the code):"
   ]
  },
  {
   "cell_type": "markdown",
   "metadata": {
    "slideshow": {
     "slide_type": "slide"
    }
   },
   "source": [
    "Headers of different levels:\n",
    "\n",
    "# Header 1\n",
    "## Header 2\n",
    "### Header 3"
   ]
  },
  {
   "cell_type": "markdown",
   "metadata": {
    "slideshow": {
     "slide_type": "slide"
    }
   },
   "source": [
    "Text highlighting like:\n",
    "\n",
    "*italics*\n",
    "\n",
    "**bold**\n",
    "\n",
    "~~strikethrough~~"
   ]
  },
  {
   "cell_type": "markdown",
   "metadata": {
    "slideshow": {
     "slide_type": "slide"
    }
   },
   "source": [
    "Ordered lists:\n",
    "\n",
    "1. Item 1\n",
    "2. Item 2\n",
    "3. Item 3\n",
    "\n",
    "Unordered lists:\n",
    "\n",
    "* Item\n",
    "* Item\n",
    "* Item\n",
    "\n",
    "Nested lists:\n",
    "\n",
    "1. Item 1\n",
    "    * Sub item\n",
    "    * Sub item\n",
    "        - Sub sub item\n",
    "        - Sub sub item\n",
    "2. Item 2\n",
    "3. Item 3"
   ]
  },
  {
   "cell_type": "markdown",
   "metadata": {
    "slideshow": {
     "slide_type": "slide"
    }
   },
   "source": [
    "Equations:\n",
    "\n",
    "$$\\int\\limits_a^b \\dfrac{\\sin{x}}{\\sqrt{x}} dx$$"
   ]
  },
  {
   "cell_type": "markdown",
   "metadata": {
    "slideshow": {
     "slide_type": "slide"
    }
   },
   "source": [
    "# Python\n",
    "\n",
    "Based on the distinctions that we mentioned above, Python is a high level, interpreted language.\n",
    "\n",
    "In a more general setting, you can use the Python interpreter, called Python, to execute either single lines of code directly from the command line, or multiple lines of code stored in a file referred to as a script file.\n",
    "\n",
    "**Additional information**\n",
    "\n",
    "You can visit Python's website by following [this link](https://docs.python.org/3/)\n",
    "\n",
    "There you will also find a [tutorial](https://docs.python.org/3/tutorial/interpreter.html) covering a lot of the material of the following lectures and more.\n",
    "\n",
    "W3 Schools is a fantastic resource for both python and machine learning here is a link to [Machine Learning materials](https://www.w3schools.com/python/python_ml_getting_started.asp)\n",
    "\n",
    "Another excellent resource, from which this Notebook has borrowed more than a few ideas, is the material from the \"Programming for Engineering\" [(ECMM171)](https://vle.exeter.ac.uk/course/view.php?id=10511&section=2) module. (With the new ELE installed in September 2023 it may not be possible to access this).\n",
    "\n",
    "## Why Python?\n",
    "\n",
    "Here are a few reasons for using Python in this course:\n",
    "\n",
    "* **It is high level.** This means it is very simple and thus easy to learn, especially for beginners.\n",
    "* **It is open source.** This means it is free and also, most of the code developed for Python is made available for free\n",
    "* **It is very widely used.** This, in combination to the previous point, means that a lot of people use it and create tools for it that you can use for free. It is the language of choice for Google developers.\n",
    "* **It is general purpose.** This means it has a very wide array of applications and it is interfaced to several software packages.\n",
    "* **It is cross platform.** This means it can be used in different operational systems."
   ]
  },
  {
   "cell_type": "markdown",
   "metadata": {
    "slideshow": {
     "slide_type": "slide"
    }
   },
   "source": [
    "## Python and Jupyter notebooks\n",
    "\n",
    "As already mentioned, python is a interpreted language, meaning that individual code lines are executed by the interpreter to produce some result. This creates potential for interactive use and facilitates quick prototyping, which is a very important element for the development of new scientific ideas.\n",
    "\n",
    "Jupyter Notebooks complement the above with a user friendly interface and the possibility to include formatted text and additional media.\n",
    "\n",
    "Just as a short demonstration of how interactive and easy to use Notebooks can be, in the following cells, python is used as a calculator to perform some basic numerical operations:\n",
    "\n",
    "<div class=\"alert alert-block alert-info\">\n",
    " Spoiler alert! In the next workshop we will look into these operations extensively. Run the cells below!\n",
    "</div>"
   ]
  },
  {
   "cell_type": "code",
   "execution_count": null,
   "metadata": {
    "slideshow": {
     "slide_type": "subslide"
    }
   },
   "outputs": [],
   "source": [
    "154+235"
   ]
  },
  {
   "cell_type": "code",
   "execution_count": null,
   "metadata": {
    "slideshow": {
     "slide_type": "subslide"
    }
   },
   "outputs": [],
   "source": [
    "1035/67"
   ]
  },
  {
   "cell_type": "markdown",
   "metadata": {
    "slideshow": {
     "slide_type": "slide"
    }
   },
   "source": [
    "## 'Hello, world!': your first Python program\n",
    "\n",
    "The first program in most programming books/courses for any language is typically 'Hello, world!'. This consists of simply printing 'Hello, world!' to screen. In Python you will need a single command to do that, which can be written as follows:\n",
    "\n",
    "```Python\n",
    "   print(itemToPrint)\n",
    "```\n",
    "\n",
    "In the above:\n",
    "* `print` is the command used for printing\n",
    "* Everything inside the brackets will be printed to screen\n",
    "* `itemToPrint` can be any Python object (more about that in upcoming lectures) such as numbers, strings, etc.\n",
    "\n",
    "For our 'Hello, world!' we will need to print text, which in Python is represented as strings, i.e. sequences of characters.\n",
    "\n",
    "To denote text as a string, we simply need to use single or double quotes, for example `'Orange'` and `\"Apple\"` are strings.\n",
    "\n",
    "Thus, we can print text as follows:\n",
    "\n",
    "```Python\n",
    "   print('Some text')\n",
    "```\n",
    "\n",
    "```Python\n",
    "# note from legacy resources and text, double quotes also work\n",
    "   print(\"Some text\")\n",
    "```\n",
    "\n",
    "Now, we should be ready to write our first program in the following cell, experiment with the print statement in the cell below:\n"
   ]
  },
  {
   "cell_type": "code",
   "execution_count": null,
   "metadata": {
    "slideshow": {
     "slide_type": "subslide"
    }
   },
   "outputs": [],
   "source": []
  },
  {
   "cell_type": "markdown",
   "metadata": {
    "slideshow": {
     "slide_type": "slide"
    }
   },
   "source": [
    "### Additional features of `print`\n",
    "\n",
    "Just to illustrate some additional capabilities of `print`, you can print multiple strings, numbers or combinations of the two as follows:"
   ]
  },
  {
   "cell_type": "code",
   "execution_count": null,
   "metadata": {
    "slideshow": {
     "slide_type": "subslide"
    }
   },
   "outputs": [],
   "source": [
    "print('Hello','world','!') #Print multiple strings"
   ]
  },
  {
   "cell_type": "code",
   "execution_count": null,
   "metadata": {
    "slideshow": {
     "slide_type": "subslide"
    }
   },
   "outputs": [],
   "source": [
    "print('This is my #',1, ' Python program') #Print a combination of strings and numbers"
   ]
  },
  {
   "cell_type": "markdown",
   "metadata": {
    "slideshow": {
     "slide_type": "slide"
    }
   },
   "source": [
    "### Comments\n",
    "\n",
    "In the examples above, apart from the actual commands, some additional text was used which didn't affect the output of the code. These are comments and are typically used in programming to explain to others, or our future selves, what exactly our code is doing.\n",
    "\n",
    "<div class=\"alert alert-block alert-warning\">\n",
    "In python you can introduce comments to your code using the `#` symbol. More specifically, once the `#` symbol is introduced, the remainder of the line becomes a comment and is ignored by the interpreter. <br><br>\n",
    "    <b>Note:</b> You can highlight a line or lines and press `CRTL /` to quickly comment out the code and apply the #'s </div>"
   ]
  },
  {
   "cell_type": "markdown",
   "metadata": {
    "slideshow": {
     "slide_type": "slide"
    }
   },
   "source": [
    "## Summary\n",
    "\n",
    "In this workshop we:\n",
    "\n",
    "- Briefly introduced programming\n",
    "- Learned some basic features of Jupyter Notebooks\n",
    "- Introduced Python and wrote our first program\n",
    "\n",
    "Resources:\n",
    "\n",
    "- [Jupyter Notebook documentation](https://jupyter-notebook.readthedocs.io/en/stable/)\n",
    "- [Anaconda download website](https://www.anaconda.com/products/individual)\n",
    "- [Markdown guide](https://www.markdownguide.org/) and [Basic Syntax](https://www.markdownguide.org/basic-syntax/) page\n",
    "- [Github Markdown Cheetsheet](https://github.com/adam-p/markdown-here/wiki/Markdown-Cheatsheet)\n",
    "- [Python website](https://docs.python.org/3/) and [tutorial](https://docs.python.org/3/tutorial/interpreter.html)\n",
    "- [Codecademy](https://www.codecademy.com/)\n",
    "- [W3 Schools - An excellent online source for learning to code!](https://www.w3schools.com/python/default.asp)"
   ]
  },
  {
   "cell_type": "code",
   "execution_count": null,
   "metadata": {},
   "outputs": [],
   "source": []
  },
  {
   "cell_type": "code",
   "execution_count": null,
   "metadata": {},
   "outputs": [],
   "source": []
  }
 ],
 "metadata": {
  "kernelspec": {
   "display_name": "Python 3 (ipykernel)",
   "language": "python",
   "name": "python3"
  },
  "language_info": {
   "codemirror_mode": {
    "name": "ipython",
    "version": 3
   },
   "file_extension": ".py",
   "mimetype": "text/x-python",
   "name": "python",
   "nbconvert_exporter": "python",
   "pygments_lexer": "ipython3",
   "version": "3.9.12"
  }
 },
 "nbformat": 4,
 "nbformat_minor": 4
}
