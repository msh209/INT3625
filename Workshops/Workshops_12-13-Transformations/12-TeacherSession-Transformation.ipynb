{
 "cells": [
  {
   "cell_type": "markdown",
   "metadata": {},
   "source": [
    "# Teacher Session 12 - Data Transformation\n"
   ]
  },
  {
   "cell_type": "markdown",
   "metadata": {},
   "source": [
    "## This session will cover:\n",
    "\n",
    "- Sorting dataframe\n",
    "- Groupby on temporal data\n",
    "- Pivoting/casting/spreading rows into columns (long to wide format)\n",
    "- Unpivoting/melting/gathering columns into rows (wide to long format)"
   ]
  },
  {
   "cell_type": "code",
   "execution_count": null,
   "metadata": {},
   "outputs": [],
   "source": [
    "import pandas as pd "
   ]
  },
  {
   "cell_type": "markdown",
   "metadata": {},
   "source": [
    "## Loading dataset"
   ]
  },
  {
   "cell_type": "code",
   "execution_count": null,
   "metadata": {},
   "outputs": [],
   "source": [
    "## The air_quality_no2_long.csv data set provides 𝑁𝑂2 values for the measurement stations FR04014, BETR801 and London Westminster in respectively Paris, Antwerp and London.\n",
    "air_quality_no2 = pd.read_csv('https://raw.githubusercontent.com/msh209/INT3625/main/data/air_quality_no2_long.csv'\\\n",
    "                              ,parse_dates=True)"
   ]
  },
  {
   "cell_type": "code",
   "execution_count": null,
   "metadata": {},
   "outputs": [],
   "source": [
    "## The air_quality_pm25_long.csv data set provides 𝑃𝑀25 values for the measurement stations FR04014, BETR801 and London Westminster in respectively Paris, Antwerp and London.\n",
    "air_quality_pm25 = pd.read_csv('https://raw.githubusercontent.com/msh209/INT3625/main/data/air_quality_pm25_long.csv',\\\n",
    "                               parse_dates=True)"
   ]
  },
  {
   "cell_type": "code",
   "execution_count": null,
   "metadata": {},
   "outputs": [],
   "source": [
    "air_quality_no2\n",
    "# air_quality_pm25"
   ]
  },
  {
   "cell_type": "code",
   "execution_count": null,
   "metadata": {},
   "outputs": [],
   "source": [
    "## we concatinate no2 and pm25 measures into a single dataset\n",
    "air_quality = pd.concat([air_quality_pm25, air_quality_no2], axis=0)\n",
    "air_quality"
   ]
  },
  {
   "cell_type": "markdown",
   "metadata": {},
   "source": [
    "## Sorting dataframe"
   ]
  },
  {
   "cell_type": "markdown",
   "metadata": {},
   "source": [
    "#### We can use sort_values to sort a dataframe based on a column or combination of columns:\n",
    "\n",
    "    df.sort_values(\n",
    "        by= <Name or list of names to sort by>,\n",
    "        ascending= <bool or list of bool, default True, Sort ascending vs. descending. Specify list for multiple sort orders. If this is a list of bools, must match the length of the by.>,\n",
    "        inplace=<If True, perform operation in-place. i.e the dataframe is overwitten with a sorted copy>\n",
    "    )\n",
    "\n",
    "Learn more about sorting dataframe here: https://pandas.pydata.org/docs/reference/api/pandas.DataFrame.sort_values.html"
   ]
  },
  {
   "cell_type": "markdown",
   "metadata": {},
   "source": [
    "#### The following sorts measurements by country in descending order"
   ]
  },
  {
   "cell_type": "code",
   "execution_count": null,
   "metadata": {},
   "outputs": [],
   "source": [
    "air_quality.sort_values(by='country',ascending=False)\n",
    "# air_quality.sort_values(by=['country','value'],ascending=False)  #MH added"
   ]
  },
  {
   "cell_type": "markdown",
   "metadata": {},
   "source": [
    "####  The following sorts measures by parameter then by the value; former in descending order and the latter ascending order"
   ]
  },
  {
   "cell_type": "code",
   "execution_count": null,
   "metadata": {},
   "outputs": [],
   "source": [
    "air_quality.sort_values(by=['parameter','value'],ascending=[False,True])"
   ]
  },
  {
   "cell_type": "markdown",
   "metadata": {},
   "source": [
    "## Groupby on temporal data"
   ]
  },
  {
   "cell_type": "markdown",
   "metadata": {},
   "source": [
    "Pandas \"to_datetime\" converts a scalar, array-like, Series or DataFrame/dict-like to a pandas datetime object.\n",
    "\n",
    "Read more here: https://pandas.pydata.org/docs/reference/api/pandas.to_datetime.html\n",
    "\n",
    "Here we convert date.utc to a pandas datetime object and use utc=True since the datetime is in universal Coordinated Time"
   ]
  },
  {
   "cell_type": "code",
   "execution_count": null,
   "metadata": {},
   "outputs": [],
   "source": [
    "air_quality['date_formatted']=pd.to_datetime(air_quality['date.utc'],utc=True)"
   ]
  },
  {
   "cell_type": "code",
   "execution_count": null,
   "metadata": {},
   "outputs": [],
   "source": [
    "air_quality.head()"
   ]
  },
  {
   "cell_type": "markdown",
   "metadata": {},
   "source": [
    "We can then use pandas grouper to set the frequency for group by operation on datetime object.\n",
    "\n",
    "Read more here: https://pandas.pydata.org/pandas-docs/stable/reference/api/pandas.Grouper.html\n",
    "\n",
    "The following code finds average value of measurements per each day for city, country, location, and parameter."
   ]
  },
  {
   "cell_type": "code",
   "execution_count": null,
   "metadata": {},
   "outputs": [],
   "source": [
    "air_quality_daily=air_quality.groupby(['city','country','location','parameter','unit',\\\n",
    "                                       pd.Grouper(key='date_formatted',freq='1D')])[['value']].mean().reset_index()\n",
    "air_quality_daily.head()"
   ]
  },
  {
   "cell_type": "markdown",
   "metadata": {},
   "source": [
    "## From long to wide Dataframes: Pivot operations "
   ]
  },
  {
   "cell_type": "markdown",
   "metadata": {},
   "source": [
    "#### The following figure provides a visual representation of the operation we want to perform\n",
    "<img src=\"https://github.com/mosleh-exeter/BEM1025/raw/main/images/session05-fig1.png\">\n",
    "\n"
   ]
  },
  {
   "cell_type": "markdown",
   "metadata": {},
   "source": [
    "pivot_table creates a spreadsheet-style pivot table as a DataFrame.\n",
    "\n",
    "The levels in the pivot table will be stored in MultiIndex objects (hierarchical indexes) on the index and columns of the result DataFrame.\n",
    "\n",
    "    pandas.pivot_table(data, values=None, index=None, columns=None)\n",
    "\n",
    "    data: DataFrame\n",
    "    \n",
    "    values: column to aggregate, optional\n",
    "    \n",
    "    index: column, Grouper, array, or list of the previous\n",
    "    If an array is passed, it must be the same length as the data. The list can contain any of the other types (except list). Keys to group by on the pivot table index. If an array is passed, it is being used as the same manner as column values.\n",
    "\n",
    "    columns: column, Grouper, array, or list of the previous\n",
    "    If an array is passed, it must be the same length as the data. The list can contain any of the other types (except list). Keys to group by on the pivot table column. If an array is passed, it is being used as the same manner as column values.\n",
    "\n",
    "Read more: https://pandas.pydata.org/docs/reference/api/pandas.pivot_table.html"
   ]
  },
  {
   "cell_type": "code",
   "execution_count": null,
   "metadata": {},
   "outputs": [],
   "source": [
    "air_quality.head()"
   ]
  },
  {
   "cell_type": "markdown",
   "metadata": {},
   "source": [
    "### What about having a dataframe where we have parameters as columns"
   ]
  },
  {
   "cell_type": "code",
   "execution_count": null,
   "metadata": {},
   "outputs": [],
   "source": [
    "air_quality_pivoted=air_quality.pivot_table(index=['date.utc','city','country','location','unit'], \n",
    "                                            columns='parameter', \n",
    "                                            values='value').reset_index()"
   ]
  },
  {
   "cell_type": "code",
   "execution_count": null,
   "metadata": {},
   "outputs": [],
   "source": [
    "air_quality_pivoted.shape,air_quality_pivoted.shape"
   ]
  },
  {
   "cell_type": "code",
   "execution_count": null,
   "metadata": {},
   "outputs": [],
   "source": [
    "air_quality_pivoted.head()"
   ]
  },
  {
   "cell_type": "markdown",
   "metadata": {},
   "source": [
    "### What about having a dataframe where we have cities and parameters as columns"
   ]
  },
  {
   "cell_type": "code",
   "execution_count": null,
   "metadata": {},
   "outputs": [],
   "source": [
    "#air_quality_pivoted=\n",
    "air_quality.pivot_table(\n",
    "        values='value', \n",
    "        index=[ 'date.utc','country','location'], \n",
    "        columns=['parameter','city'])"
   ]
  },
  {
   "cell_type": "markdown",
   "metadata": {},
   "source": [
    "## From wide to long form: Melt operations"
   ]
  },
  {
   "cell_type": "markdown",
   "metadata": {
    "tags": []
   },
   "source": [
    "### The following figure provides a visual representation of the operation we want to perform\n",
    "<img src=\"https://github.com/mosleh-exeter/BEM1025/raw/main/images/session05-fig2.png\">"
   ]
  },
  {
   "cell_type": "markdown",
   "metadata": {},
   "source": [
    "pandas melt unpivots a DataFrame from wide to long format, optionally leaving identifiers set.\n",
    "\n",
    "This function is useful to massage a DataFrame into a format where one or more columns are identifier variables (id_vars), while all other columns, considered measured variables (value_vars), are “unpivoted” to the row axis, leaving just two non-identifier columns, ‘variable’ and ‘value’.\n",
    "\n",
    "    pandas.melt(dataframe, id_vars=None, value_vars=None)\n",
    "\n",
    "    id_vars: tuple, list, or ndarray, optional\n",
    "            Column(s) to use as identifier variables.\n",
    "    \n",
    "    value_vars: tuple, list, or ndarray, optional\n",
    "            Column(s) to unpivot. If not specified, uses all columns that are not set as id_vars.\n",
    "\n"
   ]
  },
  {
   "cell_type": "markdown",
   "metadata": {},
   "source": [
    "### what about transform air_quality_pivoted into the original long format where we have parameter and values"
   ]
  },
  {
   "cell_type": "code",
   "execution_count": null,
   "metadata": {},
   "outputs": [],
   "source": [
    "air_quality_melted=air_quality_pivoted.melt(id_vars=['city','country','date.utc','location'],\n",
    "                                            value_vars=['no2','pm25'],\n",
    "                                            var_name='parameter',\n",
    "                                            value_name='value')\n",
    "\n",
    "air_quality_pivoted.shape,air_quality_melted.shape\n",
    "\n",
    "air_quality_melted.head()"
   ]
  },
  {
   "cell_type": "markdown",
   "metadata": {},
   "source": [
    "https://pandas.pydata.org/pandas-docs/stable/reference/api/pandas.DataFrame.groupby.html"
   ]
  },
  {
   "cell_type": "markdown",
   "metadata": {},
   "source": [
    "### See see more examples here: "
   ]
  },
  {
   "cell_type": "markdown",
   "metadata": {},
   "source": [
    "https://towardsdatascience.com/reshape-pandas-dataframe-with-pivot-table-in-python-tutorial-and-visualization-2248c2012a31"
   ]
  },
  {
   "cell_type": "markdown",
   "metadata": {},
   "source": [
    "https://towardsdatascience.com/reshape-pandas-dataframe-with-melt-in-python-tutorial-and-visualization-29ec1450bb02"
   ]
  },
  {
   "cell_type": "code",
   "execution_count": null,
   "metadata": {},
   "outputs": [],
   "source": []
  }
 ],
 "metadata": {
  "kernelspec": {
   "display_name": "Python 3 (ipykernel)",
   "language": "python",
   "name": "python3"
  },
  "language_info": {
   "codemirror_mode": {
    "name": "ipython",
    "version": 3
   },
   "file_extension": ".py",
   "mimetype": "text/x-python",
   "name": "python",
   "nbconvert_exporter": "python",
   "pygments_lexer": "ipython3",
   "version": "3.9.12"
  }
 },
 "nbformat": 4,
 "nbformat_minor": 4
}
