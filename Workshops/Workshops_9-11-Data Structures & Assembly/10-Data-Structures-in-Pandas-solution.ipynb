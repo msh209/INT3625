{
 "cells": [
  {
   "cell_type": "markdown",
   "metadata": {
    "tags": []
   },
   "source": [
    "# Workshop 10. Data Structures in to Pandas"
   ]
  },
  {
   "cell_type": "markdown",
   "metadata": {},
   "source": [
    "Content:\n",
    "- Review of main lecture \n",
    "- Practice creating dataframe\n",
    "- Practice subsetting\n",
    "- Practice operations on columns\n"
   ]
  },
  {
   "cell_type": "markdown",
   "metadata": {},
   "source": [
    "**Q1.**  Create a dataframe that contains the following data, (a) by combining seperate pandas series. (b) by transforming a python dictionary.\n",
    "\n",
    "| company_name | employees | state | layoffs|\n",
    "| --- | --- | --- |---|\n",
    "| Amazon | 613300 | WA |10000 |\n",
    "| Apple | 132000 | CA |1000 |\n",
    "| Facebook | 71970 | CA |11000 |\n",
    "| Tesla | 99000 | TX |500 |\n"
   ]
  },
  {
   "cell_type": "code",
   "execution_count": null,
   "metadata": {},
   "outputs": [],
   "source": [
    "import pandas as pd"
   ]
  },
  {
   "cell_type": "code",
   "execution_count": null,
   "metadata": {},
   "outputs": [],
   "source": [
    "company_name=pd.Series(['Amazon','Apple','Facebook','Tesla'])\n",
    "employees=pd.Series([613300,132000,71970,99000])\n",
    "states=pd.Series(['WA','CA','CA','TX'])\n",
    "laid_off=pd.Series([10000,1000,11000,500])\n",
    "\n",
    "df=pd.DataFrame()\n",
    "df['company_name']=company_name\n",
    "df['employees']=employees\n",
    "df['states']=states\n",
    "df['laid_off']=laid_off\n",
    "df"
   ]
  },
  {
   "cell_type": "code",
   "execution_count": null,
   "metadata": {},
   "outputs": [],
   "source": [
    "my_dict={'company_name':['Amazon','Apple','Facebook','Tesla'],\n",
    "         'employees':[613300,132000,71970,99000],\n",
    "         'states':['WA','CA','CA','TX'],\n",
    "         'laid_off':[10000,1000,11000,500]\n",
    "            }\n",
    "df=pd.DataFrame(my_dict)\n",
    "df"
   ]
  },
  {
   "cell_type": "markdown",
   "metadata": {},
   "source": [
    "**Q2.** (a) Find companies with more than 10000 employees. \n",
    "(b) Find companies in California, \n",
    "(c) Find companies that have \"Ap\" in their names or those that are in Texas"
   ]
  },
  {
   "cell_type": "code",
   "execution_count": null,
   "metadata": {},
   "outputs": [],
   "source": [
    "df[df['employees']>10000]"
   ]
  },
  {
   "cell_type": "code",
   "execution_count": null,
   "metadata": {},
   "outputs": [],
   "source": [
    "df[df['states']=='CA']"
   ]
  },
  {
   "cell_type": "code",
   "execution_count": null,
   "metadata": {},
   "outputs": [],
   "source": [
    "df[(df['company_name'].str.contains('Ap')) | (df['states']=='TX') ]"
   ]
  },
  {
   "cell_type": "markdown",
   "metadata": {},
   "source": [
    "**Q3.** Find average number of employees for companies in California"
   ]
  },
  {
   "cell_type": "code",
   "execution_count": null,
   "metadata": {},
   "outputs": [],
   "source": [
    "df[df['states']=='CA']['employees'].mean()"
   ]
  },
  {
   "cell_type": "markdown",
   "metadata": {},
   "source": [
    "**Q4.** For companies in California, find average value of fraction of employees who were laid off "
   ]
  },
  {
   "cell_type": "code",
   "execution_count": null,
   "metadata": {},
   "outputs": [],
   "source": [
    "df_CA=df[df['states']=='CA']\n",
    "df_CA"
   ]
  },
  {
   "cell_type": "code",
   "execution_count": null,
   "metadata": {},
   "outputs": [],
   "source": [
    "(df_CA['laid_off']/df_CA['employees']).mean()\n"
   ]
  },
  {
   "cell_type": "code",
   "execution_count": null,
   "metadata": {},
   "outputs": [],
   "source": []
  },
  {
   "cell_type": "code",
   "execution_count": null,
   "metadata": {},
   "outputs": [],
   "source": []
  }
 ],
 "metadata": {
  "kernelspec": {
   "display_name": "Python 3 (ipykernel)",
   "language": "python",
   "name": "python3"
  },
  "language_info": {
   "codemirror_mode": {
    "name": "ipython",
    "version": 3
   },
   "file_extension": ".py",
   "mimetype": "text/x-python",
   "name": "python",
   "nbconvert_exporter": "python",
   "pygments_lexer": "ipython3",
   "version": "3.9.12"
  }
 },
 "nbformat": 4,
 "nbformat_minor": 4
}
