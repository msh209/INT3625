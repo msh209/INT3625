{
 "cells": [
  {
   "cell_type": "markdown",
   "metadata": {},
   "source": [
    "# Workshop 11. Data Assembly in Pandas"
   ]
  },
  {
   "cell_type": "markdown",
   "metadata": {},
   "source": [
    "Content:\n",
    "\n",
    "1. Concatenating data\n",
    "2. Advance merging of data sets\n",
    "3. Grouping"
   ]
  },
  {
   "cell_type": "code",
   "execution_count": null,
   "metadata": {},
   "outputs": [],
   "source": [
    "import pandas as pd"
   ]
  },
  {
   "cell_type": "markdown",
   "metadata": {},
   "source": [
    "We will work with a airquality dataset for this excercise\n",
    "\n",
    "Reading No2 measurements data for weather stations"
   ]
  },
  {
   "cell_type": "code",
   "execution_count": null,
   "metadata": {},
   "outputs": [],
   "source": [
    "## The air_quality_no2_long.csv data set provides 𝑁𝑂2 values for the measurement stations FR04014, BETR801 and London Westminster in respectively Paris, Antwerp and London.\n",
    "air_quality_no2 = pd.read_csv('https://raw.githubusercontent.com/msh209/INT3625/main/data/air_quality_no2_long.csv',parse_dates=True)"
   ]
  },
  {
   "cell_type": "code",
   "execution_count": null,
   "metadata": {},
   "outputs": [],
   "source": [
    "air_quality_no2.head()"
   ]
  },
  {
   "cell_type": "markdown",
   "metadata": {},
   "source": [
    "Reading PM25 measurements data for weather stations"
   ]
  },
  {
   "cell_type": "code",
   "execution_count": 21,
   "metadata": {},
   "outputs": [],
   "source": [
    "## The air_quality_pm25_long.csv data set provides 𝑃𝑀25 values for the measurement stations FR04014, BETR801 and London Westminster in respectively Paris, Antwerp and London.\n",
    "# note the \"\\\" after \"data\" in the filename path, this is continuation for readability                               \n",
    "air_quality_pm25 = pd.read_csv('https://raw.githubusercontent.com/msh209/INT3625/main/data\\\n",
    "/air_quality_pm25_long.csv',parse_dates=True)"
   ]
  },
  {
   "cell_type": "code",
   "execution_count": null,
   "metadata": {},
   "outputs": [],
   "source": [
    "air_quality_pm25.head()"
   ]
  },
  {
   "cell_type": "markdown",
   "metadata": {},
   "source": [
    "Reading stations coordination data"
   ]
  },
  {
   "cell_type": "code",
   "execution_count": null,
   "metadata": {},
   "outputs": [],
   "source": [
    "## The air quality measurement station coordinates are stored in a data file air_quality_stations.csv\n",
    "\n",
    "stations_coord = pd.read_csv(\"https://raw.githubusercontent.com/msh209/INT3625/main/data/air_quality_stations.csv\")\n",
    "stations_coord=stations_coord.drop_duplicates(subset='location')"
   ]
  },
  {
   "cell_type": "code",
   "execution_count": null,
   "metadata": {},
   "outputs": [],
   "source": [
    "stations_coord.head()"
   ]
  },
  {
   "cell_type": "markdown",
   "metadata": {},
   "source": [
    "Reading description of airquality measurements"
   ]
  },
  {
   "cell_type": "code",
   "execution_count": null,
   "metadata": {},
   "outputs": [],
   "source": [
    "## The air quality parameters metadata are stored in a data file air_quality_parameters.csv\n",
    "\n",
    "air_quality_parameters = pd.read_csv(\"https://raw.githubusercontent.com/msh209/INT3625/main/data/air_quality_parameters.csv\")\n",
    "air_quality_parameters=air_quality_parameters.rename(columns={'id':'parameter'})"
   ]
  },
  {
   "cell_type": "code",
   "execution_count": null,
   "metadata": {},
   "outputs": [],
   "source": [
    "air_quality_parameters"
   ]
  },
  {
   "cell_type": "markdown",
   "metadata": {},
   "source": [
    "----"
   ]
  },
  {
   "cell_type": "markdown",
   "metadata": {
    "jp-MarkdownHeadingCollapsed": true,
    "tags": []
   },
   "source": [
    "**Q1.** Combine the measurements for 𝑁𝑂2 \"air_quality_no2\" and 𝑃𝑀25 \"air_quality_pm25\", such that the outcome is a dataframe with similar structure to the input dataframes and contains all rows from both dataframes. Call the outcome dataframe \"air_quality\""
   ]
  },
  {
   "cell_type": "code",
   "execution_count": null,
   "metadata": {},
   "outputs": [],
   "source": []
  },
  {
   "cell_type": "markdown",
   "metadata": {},
   "source": [
    "**Q2.** Add the station coordinates \"stations_coord\" to the corresponding rows in the measurements dataframe \"air_quality\". The outcome should be a dataframe that contains measurements data and station coordinate data. Compare the outcome when parameter how is 'left' and 'right' in the merge operation.\n"
   ]
  },
  {
   "cell_type": "code",
   "execution_count": null,
   "metadata": {},
   "outputs": [],
   "source": []
  },
  {
   "cell_type": "markdown",
   "metadata": {},
   "source": [
    "**Q3.** Add the parameters full description and name, provided by the parameters metadata dataframe \"air_quality_parameters\", to the measurements dataframe from the previous task. The outcome should be a dataframe containing measurement data, station locations, and parameters description\n"
   ]
  },
  {
   "cell_type": "code",
   "execution_count": null,
   "metadata": {},
   "outputs": [],
   "source": []
  },
  {
   "cell_type": "markdown",
   "metadata": {},
   "source": [
    "**Q4.** Find the average value of all measurements for pm25 and no2 in each city "
   ]
  },
  {
   "cell_type": "code",
   "execution_count": null,
   "metadata": {},
   "outputs": [],
   "source": []
  }
 ],
 "metadata": {
  "kernelspec": {
   "display_name": "Python 3 (ipykernel)",
   "language": "python",
   "name": "python3"
  },
  "language_info": {
   "codemirror_mode": {
    "name": "ipython",
    "version": 3
   },
   "file_extension": ".py",
   "mimetype": "text/x-python",
   "name": "python",
   "nbconvert_exporter": "python",
   "pygments_lexer": "ipython3",
   "version": "3.9.12"
  }
 },
 "nbformat": 4,
 "nbformat_minor": 4
}
