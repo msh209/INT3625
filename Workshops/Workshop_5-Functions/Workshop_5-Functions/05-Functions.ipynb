{
 "cells": [
  {
   "cell_type": "markdown",
   "metadata": {
    "slideshow": {
     "slide_type": "slide"
    }
   },
   "source": [
    "# Workshop 5\n",
    "# Functions\n",
    "\n",
    "First, a brief reminder on using these resources. These documents are called Jupyter Notebooks. They contain text, figures, and Python code that can be edited and executed within them.\n",
    "\n",
    "**<div class=\"alert alert-block alert-info\">\n",
    "KEY POINT -\n",
    "    Text in a blue background will be important things you NEED to know.**\n",
    "</div>\n",
    "\n",
    "**<div class=\"alert alert-block alert-success\">\n",
    "EXAMPLE - Text in a green background will be examples of code that you SHOULD study and run.**\n",
    "</div>\n",
    "\n",
    "**<div class=\"alert alert-block alert-danger\">\n",
    "EXERCISE - Text in a red background will be exercises you SHOULD attempt.**\n",
    "</div>\n",
    "\n",
    "**<div class=\"alert alert-block alert-info\">\n",
    "KEY POINT - You should read through these Notebooks, paying particularly close attention to the blocks as described above. Once you feel like things are making sense, you should attempt the Assignments at the bottom, which will involve the material in the first part. Remember you can always scroll back up to look up useful information.**\n",
    "</div>\n",
    "\n",
    "**<div class=\"alert alert-block alert-info\">\n",
    "KEY POINT - When you get stuck, wave your hand and ask for help!**\n",
    "</div>\n",
    "\n",
    "**Cooking analogue**\n",
    "\n",
    "The process of dicing onions consists of a set of simpler tasks, for instance:\n",
    "* Pick up knife\n",
    "* Place onions on the slicing board\n",
    "* Perform a vertical section\n",
    "* etc.\n",
    "\n",
    "However, every time a chef needs diced onions he/she doesn't ask his/her sous chef to perform each of these individual tasks. Instead, he goes through the steps with him/her once during training and then he/she simply asks him/her to dice onions.\n",
    "\n",
    "**Programming**\n",
    "\n",
    "Similarly to cooking, in programming, there might be sets of commands that need to be recalled often. These, can be turned into functions and then called as many times as needed.\n",
    "\n",
    "Advantages provided:\n",
    "\n",
    "* Code doesn't need to be repeated\n",
    "* Functions can be debugged and tested once and then used at will\n",
    "\n",
    "**A simple definition**\n",
    "\n",
    "**<div class=\"alert alert-block alert-info\">\n",
    "KEY POINT - A function is a block of code that (normally) takes a number of inputs, and (normally) returns a number of outputs. It can be called repeatedly with different inputs.**\n",
    "</div>\n"
   ]
  },
  {
   "cell_type": "markdown",
   "metadata": {
    "slideshow": {
     "slide_type": "slide"
    }
   },
   "source": [
    "## Built in functions\n",
    "\n",
    "Python provides built in functions to perform some basic tasks. In fact you have already used some !\n",
    "\n",
    "### Calling functions\n",
    "\n",
    "Functions can be called as:\n",
    "\n",
    "```py\n",
    "# if no input or output arguments are defined\n",
    "functionName()\n",
    "\n",
    "# if input and output arguments are defined\n",
    "outputArgument1, outputArgument2, etc. = functionName(inputArgument1, inputArgument2, etc.) \n",
    "```\n",
    "### Built in function example\n",
    "```py\n",
    "len() \n",
    "```  \n",
    "returns the length of a list (and other Python objects):\n",
    "\n",
    "**<div class=\"alert alert-block alert-success\">\n",
    "EXAMPLE - For example:**\n",
    "</div>"
   ]
  },
  {
   "cell_type": "code",
   "execution_count": null,
   "metadata": {},
   "outputs": [],
   "source": [
    "a=[1,2,3]      # define a list with 3 elements\n",
    "print(len(a))  # use len to compute the length of the list and print it. Here len is the function, and a is the input."
   ]
  },
  {
   "cell_type": "markdown",
   "metadata": {
    "slideshow": {
     "slide_type": "slide"
    }
   },
   "source": [
    "### Some more built in functions\n",
    "\n",
    "* Type of variable: `type(value)`\n",
    "* Absolute value: `abs(value)`\n",
    "* Maximum and minimum functions: `min(value1,value2,value3,etc,)`,`max(value1,value2,value3,etc,)`\n",
    "* Round to the nearest integer or to specified number of decimal places: `round(value)`, `round(value,n)`\n",
    "\n",
    "**<div class=\"alert alert-block alert-success\">\n",
    "EXAMPLE - For example:**\n",
    "</div>"
   ]
  },
  {
   "cell_type": "code",
   "execution_count": null,
   "metadata": {},
   "outputs": [],
   "source": [
    "type('some text')"
   ]
  },
  {
   "cell_type": "code",
   "execution_count": null,
   "metadata": {},
   "outputs": [],
   "source": [
    "abs(-9) #absolute value of -9"
   ]
  },
  {
   "cell_type": "code",
   "execution_count": null,
   "metadata": {},
   "outputs": [],
   "source": [
    "min(9,0.001,10,1e-32) #minimum of the numbers 9,0.001,10,1e-32"
   ]
  },
  {
   "cell_type": "code",
   "execution_count": null,
   "metadata": {},
   "outputs": [],
   "source": [
    "round(1.326598784512,5) #round 1.326598784512 to 5 significant digits"
   ]
  },
  {
   "cell_type": "markdown",
   "metadata": {
    "slideshow": {
     "slide_type": "slide"
    }
   },
   "source": [
    "## User defined functions\n",
    "\n",
    "You can define your own functions to tell your sous chef to dice onions.\n",
    "\n",
    "### Python syntax\n",
    "\n",
    "**<div class=\"alert alert-block alert-info\">\n",
    "KEY POINT - This syntax (the way we write things) is VERY important. Notice the \"def\" for define (we are defining the function), the function name (here it is called \"someFunction\"), and the colon at the end. All code included in the function must be indented.**\n",
    "</div>\n",
    "\n",
    "```py\n",
    "def someFunction():\n",
    "    someCode\n",
    "```\n",
    "\n",
    "where:\n",
    "\n",
    "* `someFunction` is the name of the function\n",
    "* `someCode` is the code to be executed inside the function\n",
    "* A block structure is used\n",
    "\n",
    "\n",
    "\n",
    "**<div class=\"alert alert-block alert-success\">\n",
    "EXAMPLE - For example, a 'Hello world!' function:**\n",
    "</div>\n"
   ]
  },
  {
   "cell_type": "code",
   "execution_count": null,
   "metadata": {},
   "outputs": [],
   "source": [
    "def helloWorld(): # define hello world function\n",
    "    print('Hello world!')\n",
    "\n",
    "# notice that running this cell does not produce anything - we have only defined the function, not \"called\" it."
   ]
  },
  {
   "cell_type": "code",
   "execution_count": null,
   "metadata": {},
   "outputs": [],
   "source": [
    "# so let's call the function:\n",
    "\n",
    "helloWorld() # call hello world function"
   ]
  },
  {
   "cell_type": "code",
   "execution_count": null,
   "metadata": {},
   "outputs": [],
   "source": [
    "# once a function is defined we can call it as much as we want:\n",
    "\n",
    "for j in range(20):\n",
    "    helloWorld()"
   ]
  },
  {
   "cell_type": "markdown",
   "metadata": {
    "slideshow": {
     "slide_type": "slide"
    }
   },
   "source": [
    "### Python syntax with input and output arguments\n",
    "\n",
    "**<div class=\"alert alert-block alert-info\">\n",
    "KEY POINT - Most functions will have input arguments. These are not to be confused with the input command, which is a different thing and is not recommended to be used in this course.**\n",
    "</div>\n",
    "\n",
    "Functions can also receive data as input and return data as output:\n",
    "\n",
    "```py\n",
    "def someFunction(inputArgument1, inputArgument2, etc.)\n",
    "    someCode\n",
    "    return outputArgument1, outputArgument2, etc.\n",
    "```\n",
    "\n",
    "where:\n",
    "\n",
    "* `inputArgument1, inputArgument2, etc.` are variables or data provided as input and are called input arguments\n",
    "* `outputArgument1, outputArgument2, etc.` are data returned as output and are called output arguments\n",
    "* It is not necessary to include output arguments after return\n",
    "* When calling the function it is important to use the correct order for input and output arguments\n",
    "\n",
    "**<div class=\"alert alert-block alert-info\">\n",
    "KEY POINT - The \"return\" command stops the function, and outputs the arguments after the command.**\n",
    "</div>\n",
    "\n",
    "**<div class=\"alert alert-block alert-success\">\n",
    "EXAMPLE - Here is a function that takes two numbers as input and returns their sum and difference as output:**\n",
    "</div>"
   ]
  },
  {
   "cell_type": "code",
   "execution_count": null,
   "metadata": {},
   "outputs": [],
   "source": [
    "def sumDiff(a,b):\n",
    "    return a+b, a-b\n",
    "\n",
    "# Again, running this cell produces no output - we have only defined a function here!"
   ]
  },
  {
   "cell_type": "code",
   "execution_count": null,
   "metadata": {},
   "outputs": [],
   "source": [
    "s,d = sumDiff(4,2)\n",
    "\n",
    "# This cell also produces no output - we have just used the function to assign values to two variables, s and d."
   ]
  },
  {
   "cell_type": "code",
   "execution_count": null,
   "metadata": {},
   "outputs": [],
   "source": [
    "print(s,d)\n",
    "\n",
    "# This cell does produce some output, as it displays the values of s and d to us."
   ]
  },
  {
   "cell_type": "code",
   "execution_count": null,
   "metadata": {
    "scrolled": true
   },
   "outputs": [],
   "source": [
    "# Of course, Python remembers our function, so we can call it again and again, with different inputs:\n",
    "\n",
    "print(sumDiff(5,2))\n",
    "\n",
    "print(sumDiff(20,10))\n",
    "\n",
    "# etc."
   ]
  },
  {
   "cell_type": "code",
   "execution_count": null,
   "metadata": {},
   "outputs": [],
   "source": [
    "# Notice that we only printed the output of the function in the above cell, we never overwrote the values of s and d, so...\n",
    "\n",
    "print(s,d)\n",
    "\n",
    "# ...s and d have not changed!"
   ]
  },
  {
   "cell_type": "markdown",
   "metadata": {},
   "source": [
    "**<div class=\"alert alert-block alert-danger\">\n",
    "EXERCISE - Write a function called myFirstFunction that has a single input, x. It should return the value of $x^2 + 5x + 6$.**\n",
    "</div>"
   ]
  },
  {
   "cell_type": "code",
   "execution_count": null,
   "metadata": {},
   "outputs": [],
   "source": []
  },
  {
   "cell_type": "markdown",
   "metadata": {},
   "source": [
    "**<div class=\"alert alert-block alert-danger\">\n",
    "EXERCISE - Test your function by running the cell below:**\n",
    "</div>"
   ]
  },
  {
   "cell_type": "code",
   "execution_count": null,
   "metadata": {},
   "outputs": [],
   "source": [
    "## DO NOT MODIFY THIS CELL - ONLY RUN IT\n",
    "\n",
    "try:\n",
    "    if myFirstFunction(-2) == 0:\n",
    "        print('The function seems to give us an appropriate value for x = -2.')\n",
    "    else:\n",
    "        print('The function should be zero for x = -2.')\n",
    "    if myFirstFunction(-3) == 0:\n",
    "        print('The function seems to give us an appropriate value for x = -3.')\n",
    "    else:\n",
    "        print('The function should be zero for x = -3.')\n",
    "except:\n",
    "    print('Are you sure you have defined your function correctly? You might need to ask for help!')"
   ]
  },
  {
   "cell_type": "markdown",
   "metadata": {},
   "source": [
    "**<div class=\"alert alert-block alert-danger\">\n",
    "EXERCISE - Call your function with the value $x=10$ in the cell below, assigning the value to the variable $y$.**\n",
    "</div>"
   ]
  },
  {
   "cell_type": "code",
   "execution_count": null,
   "metadata": {},
   "outputs": [],
   "source": []
  },
  {
   "cell_type": "markdown",
   "metadata": {},
   "source": [
    "**<div class=\"alert alert-block alert-danger\">\n",
    "EXERCISE - Test you have done this correctly by running the cell below:**\n",
    "</div>"
   ]
  },
  {
   "cell_type": "code",
   "execution_count": null,
   "metadata": {},
   "outputs": [],
   "source": [
    "## DO NOT MODIFY THIS CELL - ONLY RUN IT\n",
    "\n",
    "try:\n",
    "    if y == 156:\n",
    "        print('Looks good to me!')\n",
    "    else:\n",
    "        print('Something has gone wrong!')\n",
    "except:\n",
    "    print('Are you sure you have assigned the value to y?')"
   ]
  },
  {
   "cell_type": "markdown",
   "metadata": {},
   "source": [
    "**<div class=\"alert alert-block alert-danger\">\n",
    "EXERCISE - Complete the code below to write a function called collatzMethod that has a single input, $n$. If $n$ is odd, return $3n+1$, and if $n$ is even, return $n/2$.**\n",
    "</div>"
   ]
  },
  {
   "cell_type": "code",
   "execution_count": null,
   "metadata": {},
   "outputs": [],
   "source": []
  },
  {
   "cell_type": "markdown",
   "metadata": {},
   "source": [
    "**<div class=\"alert alert-block alert-danger\">\n",
    "EXERCISE - Test your function by calling it and printing the output in the cell below. Does it work for even and odd numbers?**\n",
    "</div>"
   ]
  },
  {
   "cell_type": "code",
   "execution_count": null,
   "metadata": {},
   "outputs": [],
   "source": []
  },
  {
   "cell_type": "markdown",
   "metadata": {},
   "source": [
    "### Keyword arguments\n",
    "\n",
    "The arguments used above are called **positional** arguments and, as mentioned, the order in which they are provided matters. These need to be provided when the function is called.\n",
    "\n",
    "There is another type of arguments, that have default values assigned to them, and as a result their values don't have to be provided necessarily. These are called **keyword** arguments and can be used as follows:\n",
    "\n",
    "```py\n",
    "def someFunction(keywordArgument1=defaultValue1,keywordArgument2=defaultValue2, etc.)\n",
    "    someCode\n",
    "    return outputArgument1, outputArgument2, etc.\n",
    "```\n",
    "\n",
    "where:\n",
    "\n",
    "* `keywordArgument1, keywordArgument2, etc.` are the names of the keyword arguments\n",
    "* `defaultValue1, defaultValue2, etc.` are the default values of the keyword arguments\n",
    "\n",
    "Functions with keyword arguments can be called as follows:\n",
    "\n",
    "```py\n",
    "\n",
    "functionName(keywordArgumentName=keywordArgumentValue)\n",
    "```\n",
    "\n",
    "If values are not supplied for some of the keyword arguments, then the default are used.\n",
    "\n",
    "**<div class=\"alert alert-block alert-success\">\n",
    "EXAMPLE - For example:**\n",
    "</div>"
   ]
  },
  {
   "cell_type": "code",
   "execution_count": null,
   "metadata": {},
   "outputs": [],
   "source": [
    "#Define a function with keyword arguments\n",
    "def functionWithKeywordArguments(argument1='Apples',argument2='Oranges'):\n",
    "    print(argument1, 'and', argument2)\n",
    "\n",
    "#Call function with default arguments\n",
    "functionWithKeywordArguments() \n",
    "\n",
    "#call function with default value for one of the arguments and a provided value for the other\n",
    "functionWithKeywordArguments(argument1 = 'Bananas')\n",
    "\n",
    "#call function with values for both arguments\n",
    "functionWithKeywordArguments(argument1 = 'Bananas',argument2='Strawberries')"
   ]
  },
  {
   "cell_type": "markdown",
   "metadata": {},
   "source": [
    "Keyword arguments can be combined with positional arguments. Also when calling a function, positional arguments can be provided as keyword arguments.\n",
    "\n",
    "**<div class=\"alert alert-block alert-success\">\n",
    "EXAMPLE - For example:**\n",
    "</div>"
   ]
  },
  {
   "cell_type": "code",
   "execution_count": null,
   "metadata": {},
   "outputs": [],
   "source": [
    "#Define a function with a positional and a keyword argument\n",
    "def functionWithBothTypesOfArguments(positionalArgument,keywordArgument=1):\n",
    "    print('\\nNew function call')\n",
    "    print('Positional argument:',positionalArgument)\n",
    "    print('Keyword argument:',keywordArgument)\n",
    "\n",
    "#call function by providing only positional argument\n",
    "functionWithBothTypesOfArguments(1)\n",
    "#call function by providing both arguments as positional\n",
    "functionWithBothTypesOfArguments(1,2)"
   ]
  },
  {
   "cell_type": "markdown",
   "metadata": {},
   "source": [
    "<div class=\"alert alert-block alert-danger\">\n",
    "<b>EXERCISE - Write a function to calculate the kinetic energy of the average first year university student travelling with a velocity of $v$.<b/></div>\n",
    "\n",
    "The kinetic energy (J) of a mass $m$ (kg) travelling at velocity $v$ (meters per second) (for small enough $v$) is given by the formula:\n",
    "\n",
    "$$E_k = \\frac12mv^2.$$\n",
    "\n",
    "Define a function kineticEnergy.\n",
    "    \n",
    "It should have 2 input arguments:\n",
    "    \n",
    "* The first, `v`, to represent $v$, a positional argument that needs to be defined when the function is called.\n",
    "* The second, `m`, to represent $m$, a keyword argument that has a default value of 65kg.\n",
    "\n",
    "Your function should return just one output argument, the kinetic energy, $E_k$, calculated from using the above formula.\n"
   ]
  },
  {
   "cell_type": "code",
   "execution_count": null,
   "metadata": {},
   "outputs": [],
   "source": []
  },
  {
   "cell_type": "markdown",
   "metadata": {},
   "source": [
    "<div class=\"alert alert-block alert-danger\">\n",
    "<b>EXERCISE - Test your function by running the below cell.<b/></div>"
   ]
  },
  {
   "cell_type": "code",
   "execution_count": null,
   "metadata": {},
   "outputs": [],
   "source": [
    "try:\n",
    "    if kineticEnergy(100) == 325000 and kineticEnergy(10, 100) == 5000:\n",
    "        print('Seems like things are working as required!')\n",
    "    else:\n",
    "        print('Something appears to be incorrect... Check your formula!')\n",
    "except:\n",
    "    print('Are you sure you have defined your function correctly? You might need to ask for help!')"
   ]
  },
  {
   "cell_type": "markdown",
   "metadata": {},
   "source": [
    "## Tuples\n",
    "\n",
    "When a Python function returns multiple outputs, it will return them as something called a \"Tuple\". Tuples are one more type of sequence provided by Python for storing items of different types.\n",
    "\n",
    "You can create a tuple like this:\n",
    "\n",
    "```Python\n",
    "    aTuple = (item1, item2, etc.)\n",
    "```\n",
    "\n",
    "And you can access tuple elements like this:\n",
    "\n",
    "```Python\n",
    "    element = aTuple[index]\n",
    "```\n",
    "\n",
    "For example:"
   ]
  },
  {
   "cell_type": "code",
   "execution_count": null,
   "metadata": {},
   "outputs": [],
   "source": [
    "a= (5,8,9,'salt')\n",
    "\n",
    "print(a[3])"
   ]
  },
  {
   "cell_type": "markdown",
   "metadata": {},
   "source": [
    "It seems that tuples are very similar to Lists. There are however some very important differences:\n",
    "\n",
    "* Tuples use round brackets instead of square brackets\n",
    "* Tuples are immutable. For example, the following will not work:"
   ]
  },
  {
   "cell_type": "code",
   "execution_count": null,
   "metadata": {},
   "outputs": [],
   "source": [
    "a= (5,8,9,'salt')\n",
    "a[3]='pepper'"
   ]
  },
  {
   "cell_type": "markdown",
   "metadata": {},
   "source": [
    "* Tuples can be unpacked as follows: `item1 , item2, etc. = aTuple`. For example:"
   ]
  },
  {
   "cell_type": "code",
   "execution_count": null,
   "metadata": {},
   "outputs": [],
   "source": [
    "a= (5,8,9,'salt')\n",
    "\n",
    "item1,item2,item3,item4 = a\n",
    "\n",
    "print(item1)\n",
    "print(item2)\n",
    "print(item3)\n",
    "print(item4)"
   ]
  },
  {
   "cell_type": "markdown",
   "metadata": {},
   "source": [
    "In fact, when a function returns multiple output arguments, these are returned as a tuple which is unpacked directly when assigning the result of the function to individual variables. The following example illustrates that:"
   ]
  },
  {
   "cell_type": "code",
   "execution_count": null,
   "metadata": {},
   "outputs": [],
   "source": [
    "#Define a function that computes the square and the cube of a number\n",
    "def squareCube(number):\n",
    "    return number**2,number**3\n",
    "\n",
    "#Call function and assign result to a tuple\n",
    "tupleResult = squareCube(2)\n",
    "\n",
    "#print tuple\n",
    "print(tupleResult)\n",
    "\n",
    "#unpack tuple\n",
    "square,cube = tupleResult\n",
    "\n",
    "#print individual items\n",
    "print(square)\n",
    "print(cube)\n",
    "\n",
    "#call and directly unpack the tuple (equivalent to the above)\n",
    "square1,cube1=squareCube(2)\n",
    "\n",
    "#print items\n",
    "print(square1)\n",
    "print(cube1)"
   ]
  },
  {
   "cell_type": "markdown",
   "metadata": {},
   "source": [
    "## Summary\n",
    "\n",
    "In this workshop we:\n",
    "\n",
    "- Learned how to create functions\n",
    "- Learned how to provide different types of arguments to functions\n",
    "- Learned about variable scope\n",
    "- Learned about tuples\n",
    "\n",
    "Resources:\n",
    "\n",
    "- [Python website](https://docs.python.org/3/) and [tutorial](https://docs.python.org/3/tutorial/interpreter.html)\n",
    "\n",
    "**<div class=\"alert alert-block alert-info\">\n",
    "KEY POINT - Notice there is further material below the Assignments. This material should be worked through in your own time.**\n",
    "</div>\n",
    "\n",
    "**<div class=\"alert alert-block alert-danger\">\n",
    "EXERCISE - For now, attempt the assignments.**\n",
    "</div>"
   ]
  },
  {
   "cell_type": "markdown",
   "metadata": {},
   "source": [
    "## Assignment - Root function\n",
    "\n",
    "* Numerical operations\n",
    "* Functions\n",
    "\n",
    "**Tasks**\n",
    "\n",
    "- **Task 1** Write a function, named `root` that takes a number as input and returns its square root.\n",
    "- **Task 2** Use the function to compute the square root of a few numbers, for instance 4,16,2, and verify it returns the correct results.\n",
    "- **Task 3** Add a keyword argument to the function, with default value 2, allowing to compute other general roots. For instance, if the value of this argument is set to 3, the function should compute the cubic root of the first argument etc.\n",
    "- **Task 4** Evaluate the function for different values of the arguments and verify it returns the correct results."
   ]
  },
  {
   "cell_type": "code",
   "execution_count": null,
   "metadata": {},
   "outputs": [],
   "source": [
    "## For your function \n"
   ]
  },
  {
   "cell_type": "code",
   "execution_count": null,
   "metadata": {},
   "outputs": [],
   "source": [
    "## For the other tasks\n"
   ]
  },
  {
   "cell_type": "markdown",
   "metadata": {},
   "source": [
    "## Assignment - Gravitational Force function\n",
    "\n",
    "* Numerical operations\n",
    "* Functions\n",
    "\n",
    "Newton's law of universal gravitation states that given two bodies, of mass $m_1$ and $m_2$, and distance $r$ from each other, they will be attracted to each other with a force of \n",
    "\n",
    "$$F=G\\frac{m_1m_2}{r^2}$$\n",
    "\n",
    "where $G$ is the gravitational constant in this universe.\n",
    "\n",
    "Write a function to calculate the gravitational force between any two objects, according to Newton's law of universal gravitation.\n",
    "\n",
    "- **Task 1** Define a function forceGrav, with 4 input arguments: `m1`, `r`, `m2`, and `G`.\n",
    "\n",
    "     - The first two arguments, `m1` and `r`, should be positional, i.e. they need to be defined when the function is called. \n",
    "\n",
    "     - The second two arguments, `m2` and `G`, should be keyword, i.e. they have a default value. The default value of `m2` should be that of Earth (5.972E24) , and the default value of `G` (6.6743E-11) is the gravitational constant in this universe.\n",
    "\n",
    "- **Task 2** Your function should return the gravitational force calculated from using the above formula.\n",
    "\n",
    "- **Task 3** Call your function with various values and confirm it is returning what you expected."
   ]
  },
  {
   "cell_type": "code",
   "execution_count": null,
   "metadata": {},
   "outputs": [],
   "source": [
    "## For your function\n",
    "\n",
    "    "
   ]
  },
  {
   "cell_type": "code",
   "execution_count": null,
   "metadata": {},
   "outputs": [],
   "source": [
    "## For your testing"
   ]
  },
  {
   "cell_type": "code",
   "execution_count": null,
   "metadata": {},
   "outputs": [],
   "source": [
    "# Now test your function by running this cell\n",
    "# Task 3 - Youll notice a different style of print statement here the brackets.\n",
    "#        - They are called f-strings. You dont need to use them but its nice to show what is possible.\n",
    "\n",
    "print(f'The force between a 70kg object on the surface of the Earth and the Earth is {forceGrav(70, 6371000)}N.')\n",
    "print(f'This is believable as 70 x 9.81 = 686.7N.')\n",
    "\n",
    "print(f'The force between a 70kg object on the surface of the Moon and the Moon is {forceGrav(70, 1737400, m2 = 7.35E22)}N.')\n",
    "print(f'This is believable as 70 x 1.62 = 113.4N.')\n",
    "\n",
    "print(f'In a universe where someone forgot the gravitational constant G (i.e. G = 1), the force between a 70kg object \\\n",
    "on the surface of the Earth and the Earth is {forceGrav(70, 6371000, G=1)}N.')\n",
    "print(f'This would cause problems.')"
   ]
  },
  {
   "cell_type": "markdown",
   "metadata": {},
   "source": [
    "## Assignment - List element by element multiplication\n",
    "\n",
    "**Prerequisites**\n",
    "\n",
    "* Numerical operations\n",
    "* Loops\n",
    "* Lists\n",
    "* Functions\n",
    "\n",
    "**Problem Description**\n",
    "\n",
    "As mentioned in previous workshops, when the multiplication (`*`) operator is used for lists, it creates a new list containing the original list repeated several times. However, there might be cases where we want to multiply all elements of a list by anumber, producing a list containing multiples of the elements of the initial list. For instance, this could be the case if the lists represented vectors and we needed to perform scalar-vector multiplication.\n",
    "\n",
    "**Tasks**\n",
    "\n",
    "- **Task 1** Write a function that takes a list and a number as input arguments and returns a list whose elements are equal to the elements of the input list multiplied by the provided number.\n",
    "- **Task 2** Test the function with a small list and a number to make sure it yields the correct results.\n",
    "- **Task 3** Modify the function such that the provided number is a keyword argument with default value 1.\n",
    "- **Task 4** Re-test the function by calling it with one and two input arguments\n",
    "- **Task 5** Make a copy of the function that multiplies the list, similar to the original function. This time however, the result should not be stored to a new list. Instead the original list should be modified.\n",
    "- **Task 6** Test the new function using a small list and verify the the original list is actually modified"
   ]
  },
  {
   "cell_type": "code",
   "execution_count": null,
   "metadata": {},
   "outputs": [],
   "source": [
    "## For your function\n"
   ]
  },
  {
   "cell_type": "code",
   "execution_count": null,
   "metadata": {},
   "outputs": [],
   "source": [
    "# For Task 2"
   ]
  },
  {
   "cell_type": "code",
   "execution_count": null,
   "metadata": {},
   "outputs": [],
   "source": [
    "# For Task 3"
   ]
  },
  {
   "cell_type": "code",
   "execution_count": null,
   "metadata": {},
   "outputs": [],
   "source": [
    "# For Task 4\n"
   ]
  },
  {
   "cell_type": "code",
   "execution_count": null,
   "metadata": {},
   "outputs": [],
   "source": [
    "# For Task 5\n"
   ]
  },
  {
   "cell_type": "code",
   "execution_count": null,
   "metadata": {},
   "outputs": [],
   "source": [
    "# For Task 6\n"
   ]
  },
  {
   "cell_type": "markdown",
   "metadata": {
    "slideshow": {
     "slide_type": "slide"
    }
   },
   "source": [
    "## Local variables and scope\n",
    "\n",
    "**<div class=\"alert alert-block alert-info\">\n",
    "KEY POINT - This section is important, but it is recommended you work through it in your own time.**\n",
    "</div>\n",
    "\n",
    "When writing functions, we often need to define variables inside these functions. Then the question rises:\n",
    "\n",
    "* Are variables defined inside a function available outside this function?\n",
    "\n",
    "or inversely:\n",
    "\n",
    "* Are variables defined outside a function available inside this function?\n",
    "\n",
    "\n",
    "**<div class=\"alert alert-block alert-success\">\n",
    "EXAMPLE - Let's first try to answer these questions with a few examples:**\n",
    "</div>\n"
   ]
  },
  {
   "cell_type": "code",
   "execution_count": null,
   "metadata": {},
   "outputs": [],
   "source": [
    "def someFunction1():        #define a function\n",
    "    insideVariable = 1      #define a variable inside the function\n",
    "\n",
    "someFunction1()             #call function\n",
    "\n",
    "print(insideVariable)       #try to access variable outside the function, what happens?"
   ]
  },
  {
   "cell_type": "code",
   "execution_count": null,
   "metadata": {},
   "outputs": [],
   "source": [
    "outsideVariable=10          #define a variable\n",
    "\n",
    "def someFunction2():        #define a function\n",
    "    print(outsideVariable)  #try to access this variable inside the function\n",
    "\n",
    "someFunction2()             #call function, what happens?"
   ]
  },
  {
   "cell_type": "code",
   "execution_count": null,
   "metadata": {},
   "outputs": [],
   "source": [
    "outsideVariable=10          #define a variable\n",
    "\n",
    "def someFunction3():        #define a function\n",
    "    outsideVariable=7       #modify outside variable inside function\n",
    "    print('OutsideVariable from inside function:', outsideVariable)  #print modified variable inside the function\n",
    "\n",
    "someFunction3()             #call function that modifies outside variable\n",
    "\n",
    "#print outside variable again to check whether it has been modified\n",
    "print('OutsideVariable from outside function:', outsideVariable)"
   ]
  },
  {
   "cell_type": "markdown",
   "metadata": {
    "slideshow": {
     "slide_type": "slide"
    }
   },
   "source": [
    "The above can be summarised as follows:\n",
    "\n",
    "<div class=\"alert alert-block alert-info\">\n",
    "<b>KEY POINT -\n",
    "\n",
    "Variables defined inside functions are of local scope, i.e. they only live inside this function.\n",
    "\n",
    "Variables defined outside a function might be accessible inside a function but cannot be modified.\n",
    "\n",
    "Inside a function, variables with the same name as variables defined outside the function can be defined without affecting the values of the original variables.</b>\n",
    "</div>\n"
   ]
  },
  {
   "cell_type": "markdown",
   "metadata": {},
   "source": [
    "### Input and output arguments\n",
    "\n",
    "Similar questions to the ones above, can also arise for the input arguments of functions:\n",
    "\n",
    "* If the input arguments of a function are modified inside the function, will they also be modified outside?\n",
    "\n",
    "\n",
    "**<div class=\"alert alert-block alert-success\">\n",
    "EXAMPLE - Let's find out:**\n",
    "</div>"
   ]
  },
  {
   "cell_type": "code",
   "execution_count": null,
   "metadata": {},
   "outputs": [],
   "source": [
    "outsideVariable=7 #define variable\n",
    "\n",
    "def someFunction5(input1): #define function with input argument\n",
    "    \n",
    "    #print input argument form inside function\n",
    "    print('Input argument from inside before modification: ', input1)\n",
    "    \n",
    "    #modify input argument\n",
    "    input1=12;\n",
    "    \n",
    "    #print modified argument\n",
    "    print('Input argument from inside after modification: ', input1)\n",
    "    \n",
    "someFunction5(outsideVariable) #call function with variable as an argument\n",
    "\n",
    "#print variable after function call\n",
    "print('Input argument after function call',outsideVariable)"
   ]
  },
  {
   "cell_type": "markdown",
   "metadata": {},
   "source": [
    "Therefore, input arguments that are modified inside a function are not modified outside it. If you want to modify input arguments inside functions you can do it as follows:\n",
    "\n",
    "```Python\n",
    "    def someFunction(inputArgument)\n",
    "        commands\n",
    "        return inputArgument\n",
    "```\n",
    "\n",
    "**<div class=\"alert alert-block alert-success\">\n",
    "EXAMPLE - For example:**\n",
    "</div>"
   ]
  },
  {
   "cell_type": "code",
   "execution_count": null,
   "metadata": {},
   "outputs": [],
   "source": [
    "outsideVariable=17\n",
    "\n",
    "def increaseByOne(input1):\n",
    "    input1+=1\n",
    "    return input1\n",
    "\n",
    "outsideVariable=increaseByOne(outsideVariable)\n",
    "\n",
    "print(outsideVariable)"
   ]
  },
  {
   "cell_type": "markdown",
   "metadata": {},
   "source": [
    "The reason for the above behavior is that, within functions, local copies of the input arguments are made. However, for mutable objects, mutable object copy rules apply, meaning that local copies of mutable objects are not actual copies.\n",
    "\n",
    "\n",
    "\n",
    "**<div class=\"alert alert-block alert-success\">\n",
    "EXAMPLE - This should explain the following behavior:**\n",
    "</div>"
   ]
  },
  {
   "cell_type": "code",
   "execution_count": null,
   "metadata": {},
   "outputs": [],
   "source": [
    "aList = [1,10,100]    #Define a list\n",
    "\n",
    "def listFunction1(listArgument): #define function taking a list as an input argument\n",
    "    listArgument[0]=7 #modify the list entry from within the function\n",
    "\n",
    "listFunction1(aList) #call first function with defined list as argument\n",
    "\n",
    "#print list after function call, the list is changed\n",
    "print(aList)  \n",
    "\n",
    "\n",
    "def listFunction2(listArgument): #define function taking a list as an input argument\n",
    "    listArgument= [5,20,200] #modify the list from within the function\n",
    "    return listArgument\n",
    "    \n",
    "aList = listFunction2(aList) #call second function with defined list as argument will change here\n",
    "print(aList) # will change to [5,20,200]\n",
    "\n",
    "listFunction2(aList) # call like this and will not change\n",
    "print(aList) #print list after function call, the list is unchanged"
   ]
  },
  {
   "cell_type": "markdown",
   "metadata": {},
   "source": [
    "If you are confused by the above behavour ask Mike to show you the `id` function and illustrate what is going on !"
   ]
  },
  {
   "cell_type": "markdown",
   "metadata": {},
   "source": [
    "### Duck typing\n",
    "\n",
    "In all of the above examples, we did not specify the data type of the input and output arguments. This is because it is not needed! A function will work with any data type, as along as the operations performed in the function are defined for this data type. \n",
    "\n",
    "**<div class=\"alert alert-block alert-success\">\n",
    "EXAMPLE - For example:**\n",
    "</div>"
   ]
  },
  {
   "cell_type": "code",
   "execution_count": null,
   "metadata": {},
   "outputs": [],
   "source": [
    "#define a function that performs addition\n",
    "\n",
    "def addition(a,b):\n",
    "    return a+b\n",
    "\n",
    "#call and print the function with two numbers:\n",
    "print(addition(1,7))\n",
    "\n",
    "#call and print the function with two lists:\n",
    "print(addition([1,2,5],[5,7,8]))\n",
    "\n",
    "#call and print the function with two strings:\n",
    "print(addition('Hello,',' how are you?'))"
   ]
  },
  {
   "cell_type": "code",
   "execution_count": null,
   "metadata": {},
   "outputs": [],
   "source": []
  }
 ],
 "metadata": {
  "kernelspec": {
   "display_name": "Python 3 (ipykernel)",
   "language": "python",
   "name": "python3"
  },
  "language_info": {
   "codemirror_mode": {
    "name": "ipython",
    "version": 3
   },
   "file_extension": ".py",
   "mimetype": "text/x-python",
   "name": "python",
   "nbconvert_exporter": "python",
   "pygments_lexer": "ipython3",
   "version": "3.10.4"
  }
 },
 "nbformat": 4,
 "nbformat_minor": 4
}
