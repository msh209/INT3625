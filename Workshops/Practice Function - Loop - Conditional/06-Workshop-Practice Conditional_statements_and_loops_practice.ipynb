{
 "cells": [
  {
   "cell_type": "markdown",
   "metadata": {},
   "source": [
    "# Workshop\n",
    "# Conditional statements, loops practice & Function Practice"
   ]
  },
  {
   "cell_type": "markdown",
   "metadata": {},
   "source": [
    "## Conditional statements"
   ]
  },
  {
   "cell_type": "markdown",
   "metadata": {},
   "source": [
    "### Assignment 1: Roots of a quadratic polynomial\n",
    "\n",
    "**Prerequisites:**\n",
    "\n",
    "* Variables\n",
    "* Numerical operations\n",
    "* `if` statements\n",
    "* Rational thinking!\n",
    "\n",
    "**Description**\n",
    "\n",
    "Roots of quadratic equations of the form:\n",
    "\n",
    "$a x^2 + b x + c = 0$\n",
    "\n",
    "can be obtained as follows:\n",
    "\n",
    "- Compute discriminant as $D = b^2 - 4 a c$\n",
    "- Check the value of the discriminant:\n",
    "    * If $D>0$, then there are two roots:\n",
    "       $x_1 = \\dfrac{-b+\\sqrt{D}}{2a}$ and $x_2 = \\dfrac{-b-\\sqrt{D}}{2a}$\n",
    "    * If $D=0$, then there is only one root: $x = \\dfrac{-b}{2a}$\n",
    "    * If $D<0$, then there are no real roots\n",
    "   \n",
    "**Tasks**\n",
    "\n",
    "Write a program that performs the following tasks:\n",
    "\n",
    "- **Task 1** Request from the user the values of coefficients $a,b,c$\n",
    "- **Task 2** Compute discriminant\n",
    "- **Task 3** Check value of the discriminant and print the roots or a message"
   ]
  },
  {
   "cell_type": "code",
   "execution_count": 6,
   "metadata": {},
   "outputs": [
    {
     "name": "stdout",
     "output_type": "stream",
     "text": [
      "Enter the values of a b and c10 4 2\n",
      "10 4 2\n"
     ]
    }
   ],
   "source": [
    "#Task 1\n",
    "a, b, c = input('Enter the values of a b and c').split()\n",
    "print(a, b, c)"
   ]
  },
  {
   "cell_type": "markdown",
   "metadata": {},
   "source": [
    "### Assignment 2: Wrong `if` statement for triangle classification\n",
    "\n",
    "**Prerequisites:**\n",
    "\n",
    "* Variables\n",
    "* Comparisons\n",
    "* `if` statements\n",
    "\n",
    "**Description**\n",
    "\n",
    "In Euclidean geometry, triangles are classified as follows:\n",
    "\n",
    "- **Equilateral:** Triangles with all their sides equal\n",
    "- **Isosceles:** Triangles with two of their sides equal\n",
    "- **Scalene:** Triangles all of whose sides have different lengths.\n",
    "\n",
    "The code in the following cell attempts to classify triangles given the length of all of their sides. However, it is not working properly. For example the provided sides correspond to an isosceles triangle, but the code classifies it as a scalene. Moreover, some redundant commands have been added.\n",
    "\n",
    "**Task**\n",
    "\n",
    "Correct the code such that it produces the correct result for every case and remove the redundant code. You can test a few different sets of side lengths to verify your final code."
   ]
  },
  {
   "cell_type": "code",
   "execution_count": null,
   "metadata": {},
   "outputs": [],
   "source": [
    "#Original code\n",
    "# Read in the lengths of the sides from the user\n",
    "side1 = 1\n",
    "side2 = 3\n",
    "side3 = 1\n",
    "\n",
    "if side1 == side2 and side2 == side3 and side1==side3:\n",
    "    # All sides are equal\n",
    "    print(\"Your triangle is equilateral\")\n",
    "elif side1 == side2:\n",
    "    # Two sides are equal\n",
    "    print(\"Your triangle is isoceles\")\n",
    "else:\n",
    "    # All sides are different\n",
    "    print(\"Your triangle is scalene\")"
   ]
  },
  {
   "cell_type": "code",
   "execution_count": null,
   "metadata": {},
   "outputs": [],
   "source": [
    "#Corrected code\n"
   ]
  },
  {
   "cell_type": "markdown",
   "metadata": {},
   "source": [
    "### Assignment 3 - Leap years\n",
    "\n",
    "**Prerequisites:**\n",
    "\n",
    "* Variables\n",
    "* Comparisons\n",
    "* `if` statements\n",
    "\n",
    "**Description**\n",
    "\n",
    "[Leap years](https://en.wikipedia.org/wiki/Leap_year) are calendar years that contain one additional day. They are introduced to account for the fact that astronomical years are not exact multiples of calendar days.\n",
    "\n",
    "The algorithm to determine whether a year is a leap year, for years after 1582, is the following:\n",
    "\n",
    "**if** (year is not divisible by 4) **then** it is a common year\n",
    "\n",
    "**else if** (year is not divisible by 100) **then** it is a leap year\n",
    "\n",
    "**else if** (year is not divisible by 400) **then** it is a common year\n",
    "\n",
    "**else** it is a leap year\n",
    "\n",
    "**Tasks**\n",
    "\n",
    "Write a program to determine whether a given year is a leap year by performing the following tasks:\n",
    "\n",
    "* **Task 1:** Request from the user the year and store it in a variable\n",
    "* **Task 2:** Test whether the year provided is less than 1582 and, in case it is, print a message mentioning that the program works only for years after 1582  \n",
    "* **Task 2:** Determine whether the year is a leap year by converting the algorithm provided above to Python\n",
    "* **Task 3:** Print an appropriate message for each case\n",
    "* **Task 4:** Test the program using the years of the following table:\n",
    "    |Year| Leap/Common/Not supported |\n",
    "    |----|---------------------------|\n",
    "    |901 | Not Supported             |\n",
    "    |1900| Common                    |\n",
    "    |1924| Leap                      |\n",
    "    |2016| Leap                      |\n",
    "    |2100| Common                    |"
   ]
  },
  {
   "cell_type": "code",
   "execution_count": null,
   "metadata": {},
   "outputs": [],
   "source": []
  },
  {
   "cell_type": "markdown",
   "metadata": {},
   "source": [
    "## `for` loops"
   ]
  },
  {
   "cell_type": "markdown",
   "metadata": {},
   "source": [
    "### Assignment 4: List minimum and maximum\n",
    "\n",
    "**Prerequisites:**\n",
    "\n",
    "* Variables\n",
    "* Numerical operations\n",
    "* `for` loops\n",
    "* `if` statements\n",
    "* Lists\n",
    "\n",
    "**Description**\n",
    "\n",
    "Given a set of numbers, the minimum or maximum of the set can be found as follows:\n",
    "\n",
    "- Set initial value of minimum/maximum to the value of a random element in the set\n",
    "- Test every element of the set and if it is less/greater than current minimum/maximum, then replace minimum/maximum with that element\n",
    "\n",
    "**Tasks**\n",
    "\n",
    "Consider the following list:"
   ]
  },
  {
   "cell_type": "code",
   "execution_count": null,
   "metadata": {},
   "outputs": [],
   "source": [
    "aList = [394, 985, 421, 572, 1, 658, 820, 107, 255, 619, 17, 932, 346, 817, 32, 584, 151, 686, 425, 488, 740, 694, 839, 193, 889]"
   ]
  },
  {
   "cell_type": "markdown",
   "metadata": {},
   "source": [
    "Write a program to compute and print its minimum and maximum by completing the following tasks:\n",
    "\n",
    "- **Task 1:** Create variables for minimum and maximum and set both equal to the first element of the list\n",
    "- **Task 2:** Use a `for` loop to check all elements of the list and for each element:\n",
    "    + If it is less than the current minimum, assign its value to the minimum\n",
    "    + If it is greater than the current maximum, assign its value to the maximum\n",
    "- **Task 3:** At the end of the loop, the variables created contain the minimum and maximum of the list. A statement can be printed along with these variables"
   ]
  },
  {
   "cell_type": "code",
   "execution_count": null,
   "metadata": {},
   "outputs": [],
   "source": []
  },
  {
   "cell_type": "markdown",
   "metadata": {},
   "source": [
    "### Assignment 5: Element-by-element list addition\n",
    "\n",
    "**Prerequisites:**\n",
    "\n",
    "* Variables\n",
    "* Numerical operations\n",
    "* `for` loops\n",
    "* `if` statements\n",
    "* Lists\n",
    "* Rational thinking!\n",
    "\n",
    "**Description**\n",
    "\n",
    "As mentioned in previous workshops, when the addition (`+`) operator is used for lists, it creates a new list containing the original lists. However, there might be cases where we want to add all elements of one list to all elements of another list, producing a list containing these element-by-element sums. For instance, this could be the case if the lists represented vectors and we needed to perform vector addition.\n",
    "\n",
    "**Tasks**\n",
    "\n",
    "Write Python code that, given two lists of equal length, performs the following tasks:\n",
    "\n",
    "- **Task 1:** Create a third list of equal length to the previous two\n",
    "- **Task 2:** Loop all elements of the lists and assign the sum of each element of the first two lists to the corresponding element of the third one.\n",
    "- **Task 3:** Print the list containing the element by element sum.\n",
    "\n",
    "**Bonus task**\n",
    "\n",
    "Assume that the provided lists are not of the same length. Extend your original code to do the following:\n",
    "\n",
    "- Find the larger out of the two lists\n",
    "- Increase the size of the smaller list to match the larger one and set the new elements to zero"
   ]
  },
  {
   "cell_type": "code",
   "execution_count": null,
   "metadata": {},
   "outputs": [],
   "source": []
  },
  {
   "cell_type": "markdown",
   "metadata": {},
   "source": [
    "### Assignment 6 - 9,99,999,9999,99999,...\n",
    "\n",
    "**Description**\n",
    "\n",
    "Consider the following sequence:\n",
    "\n",
    "$9, 99, 999, 9999, \\dots $\n",
    "\n",
    "It can be created, starting from the first element as follows:\n",
    "\n",
    "$a_0 = 9$\n",
    "\n",
    "$a_1 = 99 = 90 + 9 = 10 \\times 9 + 9 = 10^{1} \\times 9 + a_0$\n",
    "\n",
    "$a_2 = 999 = 900 + 99 = 100 \\times 9 + 99 = 10^{2} \\times 9 + a_1$\n",
    "\n",
    "$a_3 = 9999 = 9000 + 999 = 1000 \\times 9 + 999 = 10^{3} \\times 9 + a_2$\n",
    "\n",
    "$\\dots$\n",
    "\n",
    "$a_i = 10^{i} \\times 9 + a_{i-1}$\n",
    "\n",
    "Similar sequencies can be generated for every digit $n$ using a similar pattern:\n",
    "\n",
    "$a_0 = n$\n",
    "\n",
    "$a_i = 10^{i} n + a_{i-1}$\n",
    "\n",
    "**Tasks**\n",
    "\n",
    "Print the first 10 elements of the sequence $9,99,999,999,\\dots$ by completing the following tasks:\n",
    "\n",
    "* **Task 1:** Create a variable to store $n$ from the above formulas and assign it the value 9\n",
    "* **Task 2:** Create a variable to store the ith element of the sequence and initialise it with the value of $n$\n",
    "* **Task 3:** Write a `for` loop to generate and print the 10 first elements of the sequence. The loop variable should assume the values $1,2,\\dots, 10$, while, at each repetition, the next element of the sequence should be computed using the provided formula\n"
   ]
  },
  {
   "cell_type": "code",
   "execution_count": null,
   "metadata": {},
   "outputs": [],
   "source": []
  },
  {
   "cell_type": "markdown",
   "metadata": {},
   "source": [
    "## `while` loops"
   ]
  },
  {
   "cell_type": "markdown",
   "metadata": {},
   "source": [
    "### Assignment 7 - Reading lists with a `while` loop\n",
    "\n",
    "**Prerequisites:**\n",
    "\n",
    "* Variables\n",
    "* Comparisons\n",
    "* `while` loops\n",
    "* `if` statements\n",
    "* Lists\n",
    "\n",
    "**Tasks**\n",
    "\n",
    "Write a program to read lists of arbitrary length:\n",
    "\n",
    "* **Task 1:** Create an empty list\n",
    "* **Task 2:** Request from the user to provide either a number to add to the list, or a string to stop adding elements (for instance an empty string '') and store the answer to a variable\n",
    "* **Task 3:** Create a while loop that repeats for as long as the provided answer is not the string used to stop input and, at each repetition:\n",
    "    - Append the number to the end of the created list\n",
    "    - Request from the user to provide either the next element of the list, or a string to stop adding elements (for instance an empty string '') and store the answer to a variable\n",
    "* **Task 4:** Print provided list"
   ]
  },
  {
   "cell_type": "code",
   "execution_count": null,
   "metadata": {},
   "outputs": [],
   "source": []
  },
  {
   "cell_type": "markdown",
   "metadata": {},
   "source": [
    "### Assignment 8: `while` loop for compound interest\n",
    "\n",
    "**Prerequisites:**\n",
    "\n",
    "* Variables\n",
    "* Operations\n",
    "* Comparisons\n",
    "* `while` loops\n",
    "* Lists\n",
    "\n",
    "**Description**\n",
    "\n",
    "The accumulated amount $P_n$ in an account with an interest rate $r$, after $n$ years can be computed from the initial deposited account $P_0$ as:\n",
    "\n",
    "$P_n = P_0 \\left( 1 + r \\right)^{n}$\n",
    "\n",
    "**Tasks**\n",
    "\n",
    "Write a program to compute the evolution of an initial amount, as well as the time taken to reach or exceed a target amount, given the interest rate, by completing the following tasks:\n",
    "\n",
    "* **Task 1:** Create variables to store the initial amount, interest rate and target amount. Initialise these variables with values of your choice.\n",
    "* **Task 2:** Create a list to store the accumulated amount for every year and a variable to store the year number. Initialise the list with a single element containing the initial amount and the the year variable to 0.\n",
    "* **Task 3:** Write a `while` loop to keep increasing the year and the accumulated amount until the target amount is reached. At each iteration of the loop:\n",
    "    - Compute the accumulated amount at the end of the year using the provided formula\n",
    "    - Print the accumulated amount and year\n",
    "    - Store the new amount as the last element of the created list\n",
    "    - Increase the year by 1\n",
    "\n",
    "* **Task 4:** The evolution of the amount and the number of years taken to reach the target amount"
   ]
  },
  {
   "cell_type": "code",
   "execution_count": null,
   "metadata": {},
   "outputs": [],
   "source": []
  },
  {
   "cell_type": "markdown",
   "metadata": {},
   "source": [
    "### Assignment 9 - Extract digits from arbitrary number\n",
    "\n",
    "**Prerequisites:**\n",
    "\n",
    "* Variables\n",
    "* Operations\n",
    "* Comparisons\n",
    "* `while` loops\n",
    "\n",
    "**Description**\n",
    "\n",
    "The digits of any given integer represent multiples of powers of 10, for instance:\n",
    "\n",
    "$5839 = 5 \\times 10^3 + 8 \\times 10^2 + 3 \\times 10^1 + 9 \\times 10^0$\n",
    "\n",
    "**Tasks**\n",
    "\n",
    "Write a program to extract inividual digits from arbitrary integers by completing the following tasks:\n",
    "\n",
    "* **Task 1:** Request from the user, read and store an arbitrary integer\n",
    "* **Task 2:** Create an empty list\n",
    "* **Task 3:** Write a `while` loop with an appropriate condition to extract individual digits using the above property. Store each individual digit as an element of the list\n",
    "* **Task 4:** Print the list containing the individual digits"
   ]
  },
  {
   "cell_type": "code",
   "execution_count": null,
   "metadata": {},
   "outputs": [],
   "source": []
  },
  {
   "cell_type": "markdown",
   "metadata": {},
   "source": [
    "## Function practice\n",
    "\n",
    "Here we put the coding you have learnt to test. You need to complete the two assignments so that Amy and I can get a handle on how your programming skills are developing.\n",
    "\n",
    "Please feel free to ask if you need any advice or do not understand anything here. For example we are assuming that you know what trigonometric functions like sin(x) and cos(x) are and that you can work out a module to import and find a function to calculate these and also that you know what vectors are. But do ask if you need some hints.\n",
    "\n",
    "Clearly  $\\sum\\limits_{n=0}^{\\infty}$ will mean applying a loop and that could be a for or a while loop.\n",
    "\n",
    "Before you start coding take a while to pencil out a plan for the code you will be writing and so you need to break the problems down.\n",
    "\n",
    "I look forward to checking your solutions. Make sure to validate your solutions by testing your code thoroughly and if you do not understand any aspect ask!"
   ]
  },
  {
   "cell_type": "code",
   "execution_count": null,
   "metadata": {},
   "outputs": [],
   "source": []
  },
  {
   "cell_type": "markdown",
   "metadata": {},
   "source": [
    "## Assignment 10\n",
    "\n",
    "**Prerequisites**\n",
    "\n",
    "* Numerical operations\n",
    "* Loops\n",
    "* Lists\n",
    "* Functions\n",
    "* Rational thinking\n",
    "\n",
    "**Problem Description**\n",
    "\n",
    "Computers can only perform a few basic operations. Have you ever wondered how can your calculator compute trigonometric, exponential and other complicated functions? Would you be able to write a python function returning the sinus or cosinus of an angle?\n",
    "\n",
    "**Some insight**\n",
    "\n",
    "In general, there are different methods and algorithms that allow the computation of these functions using only elementary operations. For trigonometric functions in particular, the [CORDIC](https://en.wikipedia.org/wiki/CORDIC#:~:text=CORDIC%20(for%20COordinate%20Rotation%20DIgital,efficient%20algorithm%20to%20calculate%20trigonometric)) algorithm is typically used, which relies on vector rotations. However, there is a way to compute trigonometric functions, e.g. the $\\sin$ function, using only elementary operations based on math that we already know. This would involve using Taylor series. From the theory of the course we know that the $\\sin$ function can be written as:\n",
    "\n",
    "$$\\sin\\left( x \\right) = x - \\dfrac{x^{3}}{3!} + \\dfrac{x^{5}}{5!} - \\dfrac{x^{7}}{7!} + \\dots$$\n",
    "\n",
    "This can be written also as:\n",
    "\n",
    "$$\\sin\\left( x \\right) = \\sum\\limits_{n=0}^{\\infty} \\dfrac{\\left( -1 \\right)^n}{\\left(2n+1 \\right)!} x^{2n+1}$$\n",
    "\n",
    "This expression should:\n",
    "\n",
    "* Be more accurate close to 0, and become less and less accurate away from it\n",
    "* Become more accurate if more terms are added\n",
    "\n",
    "This is also illustrated in the figures below:\n",
    "\n",
    "[]()                    |[]()                       \n",
    ":-------------------------:|:-------------------------:\n",
    "![](./Figures/sine2.png)   |  ![](./Figures/sine4.png) \n",
    "![](./Figures/sine8.png)   |  ![](./Figures/sine16.png)\n",
    "\n",
    "Additionally, the sine function is periodic:\n",
    "\n",
    "$$\\sin\\left( x + 2\\pi \\right) = \\sin\\left( x \\right)$$\n",
    "\n",
    "Therefore, we only need to compute it accurately within the interval $\\left[0,2\\pi \\right]$. For values outside this interval, we can exploit this periodicity by shifting the values of $x$ by multiples of $2\\pi$ and returning the corresponding value of the function from within this interval.\n",
    "\n",
    "**Tasks**\n",
    "\n",
    "* **Task 1** Write a function that computes the factorial of a given integer\n",
    "* **Task 2** Write a function that returns the sine of a given angle using a Taylor expansion\n",
    "* **Task 3** Use a keyword argument to determine the number of terms to be used.\n",
    "* **Task 4** Exploit the periodicity of the sine function to increase accuracy\n",
    "* **Task 5** Increase the function's efficiency by storing and re-using the factorials of integers up to 20\n",
    "* **Task 6** Find additional to improve the accuracy and efficiency of the function\n",
    "\n",
    "Use the following known values of the sine function to validate your function at each step:\n",
    "\n",
    "* $\\sin\\left( 0 \\right) = 0$\n",
    "* $\\sin\\left( \\dfrac{\\pi}{4} \\right) = \\dfrac{\\sqrt{2}}{2}$\n",
    "* $\\sin\\left( \\dfrac{\\pi}{2} \\right) = 1$\n",
    "* $\\sin\\left( 16 \\pi + \\dfrac{\\pi}{4} \\right) = \\sin\\left( \\dfrac{\\pi}{4} \\right) = \\dfrac{\\sqrt{2}}{2}$\n",
    "\n",
    "with $\\pi=3.14159265359$"
   ]
  },
  {
   "cell_type": "code",
   "execution_count": null,
   "metadata": {},
   "outputs": [],
   "source": []
  },
  {
   "cell_type": "markdown",
   "metadata": {},
   "source": [
    "## Assignment 11\n",
    "\n",
    "**Prerequisites**\n",
    "\n",
    "* Numerical operations\n",
    "* Loops\n",
    "* Conditional statements\n",
    "* Lists\n",
    "* Functions\n",
    "* Rational thinking\n",
    "\n",
    "**Problem Description**\n",
    "\n",
    "Given two vectors $\\mathbf{u}$ and $\\mathbf{v}$, and two scalars $a$ and $b$, compute the linear combination $\\mathbf{w} = a \\mathbf{u} + b \\mathbf{v}$.\n",
    "\n",
    "Each element of the resulting vector should be given by the expression: $w_i = a u_i + b v_i$\n",
    "\n",
    "**Tasks**\n",
    "\n",
    "* **Task 1** Represent vectors $\\mathbf{u}$ and $\\mathbf{v}$ using lists, and scalars $a$ and $b$ using floats\n",
    "* **Task 2** Write a function that:\n",
    "    - Takes two positional arguments, representing the vectors\n",
    "    - Takes two keyword arguments with default values 1, representing the scalars\n",
    "    - Computes and returns as a result the linear combination $a \\mathbf{u} + b \\mathbf{v}$\n",
    "* **Task 3** Add a conditional statement before the computation to ensure that both provided vectors are of the same size. If not, increase the size of the smaller vector to match the larger and set the value of all new elements to 0"
   ]
  },
  {
   "cell_type": "markdown",
   "metadata": {},
   "source": []
  },
  {
   "cell_type": "code",
   "execution_count": null,
   "metadata": {},
   "outputs": [],
   "source": []
  }
 ],
 "metadata": {
  "kernelspec": {
   "display_name": "Python 3 (ipykernel)",
   "language": "python",
   "name": "python3"
  },
  "language_info": {
   "codemirror_mode": {
    "name": "ipython",
    "version": 3
   },
   "file_extension": ".py",
   "mimetype": "text/x-python",
   "name": "python",
   "nbconvert_exporter": "python",
   "pygments_lexer": "ipython3",
   "version": "3.10.4"
  }
 },
 "nbformat": 4,
 "nbformat_minor": 4
}
