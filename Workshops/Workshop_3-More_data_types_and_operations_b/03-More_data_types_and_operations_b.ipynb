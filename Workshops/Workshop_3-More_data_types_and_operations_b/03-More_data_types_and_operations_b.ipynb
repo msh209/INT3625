{
 "cells": [
  {
   "cell_type": "markdown",
   "metadata": {
    "slideshow": {
     "slide_type": "slide"
    }
   },
   "source": [
    "# Workshop 3\n",
    "\n",
    "# - Basic data types and operations continued\n",
    "\n",
    "### Programming is like cooking \n",
    "\n",
    " We want to understand <u>List variables</u> and <u>Dictionary variables</u> because these are frequently used in Machine Learning and how we can manipulate these variables like accessing their contents\n",
    "\n",
    " We also want to understand logical operations like AND and OR\n",
    "\n",
    " You may have noticed by now that Python is case sensitive so variables named, 'a' and 'A' are two different variables.\n",
    "\n",
    " You must take care with your typing 😉\n",
    "\n",
    "**Cooking**\n",
    "\n",
    "The act of cooking requires two essential elements:\n",
    "\n",
    "* Ingredients: tomatoes, onions, water etc.\n",
    "* Actions to be performed on these ingredients: slicing onions, boiling potatoes etc.\n",
    "\n",
    "A large part of cooking revolves around recipies.\n",
    "\n",
    "<ins> Definition of a recipe: </ins>\n",
    "\n",
    "A set of instructions for preparing a particular dish, including a list of the ingredients required.\n",
    "\n",
    "**Programming**\n",
    "\n",
    "Similarly, in programming there are two essential elements:\n",
    "\n",
    "* Data: numbers, text, selfies from your holidays etc.\n",
    "* Code, i.e. a set of instructions to the computer: multiply numbers, sort a set of numbers, find a word in a document\n",
    "\n",
    "A large part of programming revolves around algorithms.\n",
    "\n",
    "<ins> Definition of an algorithm: </ins>\n",
    "\n",
    "A finite sequence of well-defined, computer-implementable instructions, typically to solve a class of problems or to perform a computation, including the reuired input and output data.\n",
    "\n",
    "<div class=\"alert alert-block alert-info\">\n",
    "Recipies are algorithms!\n",
    "</div>"
   ]
  },
  {
   "cell_type": "markdown",
   "metadata": {},
   "source": [
    "### Logical operations\n",
    "\n",
    "Logical operations are performed between Boolean variables and result in Booleans.\n",
    "\n",
    "* Logical and:\n",
    "  ```Python\n",
    "     value1 and value2\n",
    "  ```\n",
    "  - Yields True if **both** value1 and value2 are True\n",
    "  - Yields False otherwise\n",
    "  \n",
    "* Logical or\n",
    "  ```Python\n",
    "     value1 or value2\n",
    "  ```\n",
    "  - Yields True if **either** value1 or value2 are True\n",
    "  - Yields False otherwise\n",
    "* Logical not\n",
    "  ```Python\n",
    "     not value\n",
    "  ```\n",
    "  - Yields True if value is False\n",
    "  - Yields False otherwise\n",
    "  \n",
    "For example:"
   ]
  },
  {
   "cell_type": "code",
   "execution_count": null,
   "metadata": {},
   "outputs": [],
   "source": [
    "# Note the way True and False are spelt, python is case sensitive so a=true is invalid\n",
    "a=True\n",
    "b=False"
   ]
  },
  {
   "cell_type": "code",
   "execution_count": null,
   "metadata": {},
   "outputs": [],
   "source": [
    "a and b"
   ]
  },
  {
   "cell_type": "code",
   "execution_count": null,
   "metadata": {},
   "outputs": [],
   "source": [
    "a or b"
   ]
  },
  {
   "cell_type": "code",
   "execution_count": null,
   "metadata": {},
   "outputs": [],
   "source": [
    "not a"
   ]
  },
  {
   "cell_type": "markdown",
   "metadata": {},
   "source": [
    "Parentheses can be used to change the order of the operations\n",
    "\n",
    "For example:"
   ]
  },
  {
   "cell_type": "code",
   "execution_count": null,
   "metadata": {},
   "outputs": [],
   "source": [
    "a=True\n",
    "b=False"
   ]
  },
  {
   "cell_type": "code",
   "execution_count": null,
   "metadata": {},
   "outputs": [],
   "source": [
    "a and not a and b"
   ]
  },
  {
   "cell_type": "code",
   "execution_count": null,
   "metadata": {},
   "outputs": [],
   "source": [
    "a and not(a and b)"
   ]
  },
  {
   "cell_type": "markdown",
   "metadata": {},
   "source": [
    "### String operations\n",
    "\n",
    "Some of the numerical operations defined already can bused for strings too with a different meaning.\n",
    "\n",
    "* Addition (`+`) will concatenate strings\n",
    "* Multiplication (`*`) with an integer will repeat the string multiple times\n",
    "\n",
    "For example:"
   ]
  },
  {
   "cell_type": "code",
   "execution_count": null,
   "metadata": {},
   "outputs": [],
   "source": [
    "a='Hi! '\n",
    "b='How are you? '"
   ]
  },
  {
   "cell_type": "code",
   "execution_count": null,
   "metadata": {},
   "outputs": [],
   "source": [
    "a+b"
   ]
  },
  {
   "cell_type": "code",
   "execution_count": null,
   "metadata": {},
   "outputs": [],
   "source": [
    "4*(a+b)"
   ]
  },
  {
   "cell_type": "markdown",
   "metadata": {},
   "source": [
    "### String methods\n",
    "\n",
    "Strings are Python objects, this means they consist of:\n",
    "\n",
    "* The stored data\n",
    "* Methods to manipulate data. These can be accessed as:\n",
    "  ```Python\n",
    "     object.method()\n",
    "  ```\n",
    "  or\n",
    "  ```Python\n",
    "     object.method(argument1,argument2,etc.)\n",
    "  ```\n",
    "  `argument1`,`argument2`, etc. might be additional data required to manimpulate the data\n",
    "\n",
    "<div class=\"alert alert-block alert-info\">\n",
    " You can quickly inspect the methods offered by an object by typing the name of the object followed by a dot ('.') and then pressing Tab.\n",
    "</div>\n",
    "Think of methods as being functions that work on specific data types for the moment.\n",
    "But we will probably come back to touch on the topic of objects and methods later in the course and will look at functions soon. \n",
    "\n",
    "A method is a function that is bound to an object, it can access and modify the object's data and state, a function is a standalone block of code that can be called by name, it does not have access to the object's data and state.\n"
   ]
  },
  {
   "cell_type": "markdown",
   "metadata": {},
   "source": [
    "Just FYI: Ive added this cell to explain a little more about objects, methods and functions. I hope it helps 🤞 \n",
    "\n",
    "Some examples of built in python objects are:\n",
    "\n",
    "* str (string)\n",
    "* int (integer)\n",
    "* float (floating-point number)\n",
    "* list\n",
    "* tuple\n",
    "* dict (dictionary)\n",
    "* bool (boolean)\n",
    "\n",
    "think of these as 'data types' but python is an object-orientated code which means that we can create our own objects that are not really like data-types\n",
    "\n",
    "A method in Python is a function that is associated with an object. It is used to perform a specific action or task on that object. So in simple terms, a method is like a little program that works specifically on objects. Each python object will have several such methods that all do different things\n",
    "\n",
    "In Python, a function is a block of code that can be reused multiple times throughout a program. The code block within the function is executed when the function is called. Functions can also accept inputs called parameters and can return output. They are used to organize and modularize code, making it easier to read and maintain. We will look at functions and write some simple ones in the coming weeks\n"
   ]
  },
  {
   "cell_type": "markdown",
   "metadata": {},
   "source": [
    "Here are some examples of string methods --> methods that act on string variables (aka string objects) , notice how they are applied:\n",
    "\n",
    "variablename.<b>methodname()</b>........"
   ]
  },
  {
   "cell_type": "code",
   "execution_count": null,
   "metadata": {},
   "outputs": [],
   "source": [
    "someString = 'some TEXT. some other text'"
   ]
  },
  {
   "cell_type": "code",
   "execution_count": null,
   "metadata": {},
   "outputs": [],
   "source": [
    "someString.capitalize() #Turn the first character into uppercase and everything else lower case"
   ]
  },
  {
   "cell_type": "code",
   "execution_count": null,
   "metadata": {},
   "outputs": [],
   "source": [
    "someString.lower() #Turn everything to lowercase"
   ]
  },
  {
   "cell_type": "code",
   "execution_count": null,
   "metadata": {},
   "outputs": [],
   "source": [
    "someString.replace('some', 'a lot of')"
   ]
  },
  {
   "cell_type": "markdown",
   "metadata": {},
   "source": [
    "Methods can be used even for strings that are not stored in variables, while multiple methods can also be called:"
   ]
  },
  {
   "cell_type": "code",
   "execution_count": null,
   "metadata": {},
   "outputs": [],
   "source": [
    "#Replace Missisipi with Exe and spaces with underscores\n",
    "'One Missisipi, two Missisipi, three Missisipi'.replace('Missisipi','Exe').replace(' ','_')"
   ]
  },
  {
   "cell_type": "markdown",
   "metadata": {},
   "source": [
    "<div class=\"alert alert-block alert-warning\">\n",
    " These methods will not modify the original object, rather they will create new objects.\n",
    "</div>\n",
    "\n",
    "For example:"
   ]
  },
  {
   "cell_type": "code",
   "execution_count": null,
   "metadata": {},
   "outputs": [],
   "source": [
    "someString = 'original lower case string'\n",
    "\n",
    "print(someString.capitalize())                       #call capitalize method\n",
    "print(someString.replace('original', 'modified'))    #call replace method\n",
    "print(someString)                                    #the original string remains unaffected"
   ]
  },
  {
   "cell_type": "markdown",
   "metadata": {},
   "source": [
    "### List operations\n",
    "\n",
    "Lists, similar to strings, are also sequences, therefore operations can be used in a similar way.\n",
    "\n",
    "* Addition (`+`) will concatenate lists\n",
    "* Multiplication (`*`) with an integer will repeat the list multiple times\n",
    "\n",
    "For example:"
   ]
  },
  {
   "cell_type": "code",
   "execution_count": null,
   "metadata": {},
   "outputs": [],
   "source": [
    "a=[1,3,4]\n",
    "b=[True,'Bananas',17,28.3]"
   ]
  },
  {
   "cell_type": "code",
   "execution_count": null,
   "metadata": {},
   "outputs": [],
   "source": [
    "a+b"
   ]
  },
  {
   "cell_type": "code",
   "execution_count": null,
   "metadata": {},
   "outputs": [],
   "source": [
    "4*a"
   ]
  },
  {
   "cell_type": "code",
   "execution_count": null,
   "metadata": {},
   "outputs": [],
   "source": [
    "a=10*[0]\n",
    "print(a)"
   ]
  },
  {
   "cell_type": "markdown",
   "metadata": {},
   "source": [
    "### List Manipulation\n",
    "\n",
    "Python offers several ways of manipulating lists.\n",
    "\n",
    "<ins> Accessing list elements </ins>\n",
    "\n",
    "You can access elements of a list as follows:\n",
    "\n",
    "```Python\n",
    "   aList[index]\n",
    "```\n",
    "\n",
    "This will give the element of the list specified by `index`.\n",
    "\n",
    "<div class=\"alert alert-block alert-danger\">\n",
    " Python uses 0 based numbering. This means that the first element of a list has index 0, not 1. Also, negative indices will take you to the end of a list, meaning that -1 will give you the last element, -2 the second last etc.\n",
    "</div>\n",
    "\n",
    "For example:"
   ]
  },
  {
   "cell_type": "code",
   "execution_count": null,
   "metadata": {},
   "outputs": [],
   "source": [
    "a=[20,51,2,3,65,4,812]"
   ]
  },
  {
   "cell_type": "code",
   "execution_count": null,
   "metadata": {},
   "outputs": [],
   "source": [
    "a[0]"
   ]
  },
  {
   "cell_type": "code",
   "execution_count": null,
   "metadata": {},
   "outputs": [],
   "source": [
    "a[2]"
   ]
  },
  {
   "cell_type": "code",
   "execution_count": null,
   "metadata": {},
   "outputs": [],
   "source": [
    "a[-1]"
   ]
  },
  {
   "cell_type": "code",
   "execution_count": null,
   "metadata": {},
   "outputs": [],
   "source": [
    "a[-2]"
   ]
  },
  {
   "cell_type": "markdown",
   "metadata": {
    "slideshow": {
     "slide_type": "slide"
    }
   },
   "source": [
    "#### Slicing lists\n",
    "\n",
    "You can select multiple elements from a list by slicing it. The general syntax for doing so is:\n",
    "\n",
    "```Python\n",
    "    slice = aList[start:stop:step]\n",
    "```\n",
    "\n",
    "where:\n",
    "\n",
    "* `start` is the first element to be selected. If none provided, the first element of the list will be selected.\n",
    "* `stop` is the first element not to be selected. If none provided, the rest of the list will be selected\n",
    "* `step` is the step to be used between two consecutive selected elements. This argument is optional, if only `start` and `stop` are provided with or without a second colon, a value of 1 will be used.\n",
    "\n",
    "For example:"
   ]
  },
  {
   "cell_type": "code",
   "execution_count": null,
   "metadata": {},
   "outputs": [],
   "source": [
    "a=[8,12,20,15,32,54,21,24,32,64] #Define a list"
   ]
  },
  {
   "cell_type": "code",
   "execution_count": null,
   "metadata": {},
   "outputs": [],
   "source": [
    "a[3:] #Slice the list from the fourthe element onwards, remember the first element has index 0"
   ]
  },
  {
   "cell_type": "code",
   "execution_count": null,
   "metadata": {},
   "outputs": [],
   "source": [
    "a[0:4] #Slice the list with only start and stop"
   ]
  },
  {
   "cell_type": "code",
   "execution_count": null,
   "metadata": {},
   "outputs": [],
   "source": [
    "a[2::] #Slice a list with start and default stop and step"
   ]
  },
  {
   "cell_type": "code",
   "execution_count": null,
   "metadata": {},
   "outputs": [],
   "source": [
    "a[0:4:] #Slice a list with start, stop and default step"
   ]
  },
  {
   "cell_type": "code",
   "execution_count": null,
   "metadata": {},
   "outputs": [],
   "source": [
    "a[0:8:2] #Slice a list with start, stop and step"
   ]
  },
  {
   "cell_type": "markdown",
   "metadata": {
    "slideshow": {
     "slide_type": "slide"
    }
   },
   "source": [
    "#### Length of a list\n",
    "\n",
    "The number of elements in a list (length of the list) can be obtained as:\n",
    "\n",
    "```Python\n",
    "    listLength=len(aList)\n",
    "```\n",
    "\n",
    "For example:"
   ]
  },
  {
   "cell_type": "code",
   "execution_count": null,
   "metadata": {},
   "outputs": [],
   "source": [
    "len(a)"
   ]
  },
  {
   "cell_type": "markdown",
   "metadata": {},
   "source": [
    "#### List methods\n",
    "\n",
    "Similar to strings, Lists are objects and offer a series of methods.\n",
    "\n",
    "\n",
    "Here are some examples of useful List methods:"
   ]
  },
  {
   "cell_type": "code",
   "execution_count": null,
   "metadata": {},
   "outputs": [],
   "source": [
    "a = [1,2,3,4,5,6,7,8,9]"
   ]
  },
  {
   "cell_type": "code",
   "execution_count": null,
   "metadata": {},
   "outputs": [],
   "source": [
    "a.append(10)    #append inserts the privided element at the end of the List\n",
    "print(a)"
   ]
  },
  {
   "cell_type": "code",
   "execution_count": null,
   "metadata": {},
   "outputs": [],
   "source": [
    "a.count(4)      #count returns the number of times the provided element appears in a list"
   ]
  },
  {
   "cell_type": "code",
   "execution_count": null,
   "metadata": {},
   "outputs": [],
   "source": [
    "a.remove(7)     #remove removes all occurencies of the provided element from the List\n",
    "print(a)"
   ]
  },
  {
   "cell_type": "code",
   "execution_count": null,
   "metadata": {},
   "outputs": [],
   "source": [
    "a.reverse()     #reverse reverses the order of the elements in the List\n",
    "print(a)"
   ]
  },
  {
   "cell_type": "code",
   "execution_count": null,
   "metadata": {},
   "outputs": [],
   "source": [
    "a.sort()        #sort sorts all elements of the List in ascending order\n",
    "print(a)"
   ]
  },
  {
   "cell_type": "code",
   "execution_count": null,
   "metadata": {},
   "outputs": [],
   "source": [
    "a.sort(reverse=True) #sort witn reverse=True sorts the list in descending order\n",
    "print(a)"
   ]
  },
  {
   "cell_type": "code",
   "execution_count": null,
   "metadata": {},
   "outputs": [],
   "source": [
    "a.clear()       #clear removes all the contents from the List, leaving an empty List\n",
    "print(a)"
   ]
  },
  {
   "cell_type": "markdown",
   "metadata": {},
   "source": [
    "### Copying lists\n",
    "\n",
    "For certain data types, when the value of a variable is assigned to another, the data is copied. However, this is not the case for all data types. Lists are an example, where data is not copied.\n",
    "\n",
    "For example:"
   ]
  },
  {
   "cell_type": "code",
   "execution_count": null,
   "metadata": {},
   "outputs": [],
   "source": [
    "originalList=[1,2,3]     #Define a list\n",
    "listCopy = originalList  #Copy to another list\n",
    "\n",
    "#print both lists\n",
    "print(originalList)\n",
    "print(listCopy)\n",
    "\n",
    "originalList[0]=100      #modify original list\n",
    "\n",
    "#print both lists again, the original list changed BUT the copy has too !! surprising 🤷‍♂️\n",
    "print(originalList)\n",
    "print(listCopy)"
   ]
  },
  {
   "cell_type": "markdown",
   "metadata": {},
   "source": [
    "When the value of a list is assigned to a variable, data is not copied just referenced. In other words, the memory location of the original list is shared. Both lists are pointing to the same bit of memory. So for list variables the entries of a list are not truely copied when it is assigned to a variable. The list 'keeps track' of the location of its entries in memory and when a copy is made, only this memory location is copied. Then, if some modification is made to the entries, since all copies of the list contain references to the same memory location, they will all change.\n",
    "\n",
    "<div class=\"alert alert-block alert-info\">\n",
    " You can think of lists as treasure maps and their entries as the treasure. Having a map of the treasure, is almost the same as having the treasure. For example, you can repay a pirate for his services with the map rather than the treasure. Also, if the map is copied, all copies will refer to the same treasure, which will remain unaltered. However, if someone with a map removes some coins from the treasure, then the content of the treasure will change for everyone with a map.\n",
    "</div>\n",
    "\n",
    "Based on the above, it might seem counter intuitive that the following happens:"
   ]
  },
  {
   "cell_type": "code",
   "execution_count": null,
   "metadata": {},
   "outputs": [],
   "source": [
    "originalList=[1,2,3]     #Define a list\n",
    "listCopy = originalList  #Copy to another list\n",
    "\n",
    "#print both lists\n",
    "print(originalList)\n",
    "print(listCopy)\n",
    "\n",
    "listCopy = 2*listCopy    #Modify list\n",
    "\n",
    "#print both lists again, the original list doesn't change\n",
    "print(originalList)\n",
    "print(listCopy)"
   ]
  },
  {
   "cell_type": "markdown",
   "metadata": {},
   "source": [
    "This can be explained as follows:\n",
    "\n",
    "* In the first example the entries of the list were changed, and since both lists contain references to the same data (memory) they both changed.\n",
    "* In the second example `2*listCopy` creates a new list variable with new entries, a new piece of memory is created and this memory is assigned to the variable `listCopy`. Therefore, listCopy changes it no longer points to the same piece of memory as originalList. They are now two different list variables. The `originalList` however, remains unaffected.\n",
    "\n",
    "<div class=\"alert alert-block alert-info\">\n",
    " In terms of treasure maps, the first example corresponds to changing the contents of the treasure. The second example, corresponds to burring a second treasure at a different location and modifying one of the maps to point in that location. Of course, the remaining maps and the original treasure will remain unaffected.\n",
    "</div>"
   ]
  },
  {
   "cell_type": "markdown",
   "metadata": {},
   "source": [
    "## Mutable and immutable objects\n",
    "\n",
    "Generalising from the above discussion, the behavior observed for lists is exhibited by all mutable objects, while the behavior observed for, e.g. integers and floats, is exhibited by immutable objects.\n",
    "\n",
    "Based on that, the data groups that we have seen so far are grouped as follows:\n",
    "\n",
    "|    Data type    |  Mutable  | Immutable |\n",
    "|-----------------|-----------|-----------|\n",
    "|    integer      |           | &#9745;   |\n",
    "|    float        |           | &#9745;   |\n",
    "|    complex      |           | &#9745;   |\n",
    "|    boolean      |           | &#9745;   |\n",
    "|    string       |           | &#9745;   |\n",
    "|    list         | &#9745;   |           |\n",
    "\n",
    "In future workshops, we will see more examples of mutable objects."
   ]
  },
  {
   "cell_type": "markdown",
   "metadata": {},
   "source": [
    "## Dictionary variables \n",
    "In Python, a dictionary is a collection of key-value pairs. It is similar to a real-world dictionary, where each word has a meaning (value), and you can look up the meaning by searching for the word (key).\n",
    "\n",
    "* In Python, a dictionary is enclosed in curly braces {} and is created using the dict() constructor or by using curly braces {} with key-value pairs separated by a colon :\n",
    "\n",
    "Python dictionary objects are often used to store data passed back through API's in JSON format. JSON and Python Dictionaries: A Perfect Match"
   ]
  },
  {
   "cell_type": "code",
   "execution_count": null,
   "metadata": {},
   "outputs": [],
   "source": [
    "# creating an empty dictonary\n",
    "myDict = dict()"
   ]
  },
  {
   "cell_type": "code",
   "execution_count": null,
   "metadata": {},
   "outputs": [],
   "source": [
    "# You can add or update the elements in a dictionary by using \n",
    "# the square bracket []. The key is used as the index to access the value.\n",
    "\n",
    "# add an entry to the dictionary\n",
    "myDict[\"fruit\"] = \"apple\"\n",
    "print(myDict)"
   ]
  },
  {
   "cell_type": "code",
   "execution_count": null,
   "metadata": {},
   "outputs": [],
   "source": [
    "# You can also use the update() method to add \n",
    "# multiple key-value pairs to the dictionary at once.\n",
    "myDict.update({\"color\":\"red\", \"shape\":\"round\"})\n",
    "print(myDict)"
   ]
  },
  {
   "cell_type": "code",
   "execution_count": null,
   "metadata": {},
   "outputs": [],
   "source": [
    "#You can also use the dict constructor to create a new dictionary \n",
    "# and add key-value pairs at the same time, like this\n",
    "\n",
    "myDict = dict(fruit=\"orange\", color=\"blue\", shape=\"square\")\n",
    "print(myDict)"
   ]
  },
  {
   "cell_type": "code",
   "execution_count": null,
   "metadata": {},
   "outputs": [],
   "source": [
    "#You can also create a dictionary by passing a list of \n",
    "# key-value pairs, separated by colons, enclosed in square brackets, like this:\n",
    "\n",
    "myDict = dict([(\"fruit\", \"apple\"), (\"color\", \"red\")])\n",
    "print(myDict)\n",
    "\n",
    "# Note this does the same thing\n",
    "myDict2 = dict(fruit=\"apple\", color=\"red\")\n",
    "print(myDict2)\n",
    "\n",
    "\n",
    "# so there are quite a few ways to set up a dictionary object in python"
   ]
  },
  {
   "cell_type": "code",
   "execution_count": null,
   "metadata": {},
   "outputs": [],
   "source": [
    "# one last thing!\n",
    "# You can also use the  `dict.fromkeys() ` method to create a dictionary with the same \n",
    "# value for all keys.\n",
    "myDict3 = dict.fromkeys([\"fruit\",\"color\"],\"unknown\")\n",
    "print(myDict3)"
   ]
  },
  {
   "cell_type": "markdown",
   "metadata": {},
   "source": [
    "## What are dictionary objects used for?\n",
    "\n",
    "In Python, dictionaries are used for several purposes, some examples are:\n",
    "\n",
    "* Storing and Retrieving Data: Dictionaries are often used to store and retrieve data in a structured way. The keys act as an index to access the values. This makes it easy to retrieve data quickly, without having to search through a large dataset.\n",
    "\n",
    "* Counting and Grouping: Dictionaries are a useful data structure for counting and grouping items. For example, you can use a dictionary to count the number of occurrences of each word in a text file.\n",
    "\n",
    "* Mapping: Dictionaries can be used to map one set of values to another. For example, you can use a dictionary to map country codes to country names, or to map words to their meanings.\n",
    "\n",
    "and many other things. I introduce them here so that you may recognise the syntax if the see it later in the course 😉"
   ]
  },
  {
   "cell_type": "code",
   "execution_count": null,
   "metadata": {},
   "outputs": [],
   "source": [
    "# Here is a simple example of how to use a dictionary in Python:\n",
    "\n",
    "# create a dictionary of phone numbers\n",
    "phoneBook = {\"Alice\": \"01803-520651\", \"Bob\": \"01392-246615\", \"Charlie\": \"0203-314927\"}\n",
    "\n",
    "# print a phone number by searching for a name\n",
    "name = \"Bob\"\n",
    "print(name + \"'s phone number is \" + phoneBook[name])\n",
    "# Output: Bob's phone number is 01392-246615\n",
    "\n",
    "# add a new entry to the dictionary\n",
    "phoneBook[\"David\"] = \"01297-132465\"\n",
    "\n",
    "# update an existing entry, she has moved to Exeter \n",
    "phoneBook[\"Alice\"] = \"01392-224163\"\n",
    "\n",
    "# delete an entry\n",
    "del phoneBook[\"Charlie\"]\n",
    "\n",
    "# check if a name is in the phone book\n",
    "# The code below is an 'if statement' , we will learn about these later \n",
    "# this is a block of code that is used to make decisions. \n",
    "\n",
    "if \"Bob\" in phoneBook:\n",
    "    print(\"Bob's in the book, his phone number is \" + phoneBook[\"Bob\"])\n",
    "else:\n",
    "    print(\"Bob is not in the phone book.\")"
   ]
  },
  {
   "cell_type": "markdown",
   "metadata": {
    "slideshow": {
     "slide_type": "slide"
    }
   },
   "source": [
    "## Summary\n",
    "\n",
    "In this workshop we:\n",
    "\n",
    "- Have expanded our knowledeg of data types and introduced `list` and `dictionary` objects\n",
    "- Learned about some of the the main ingredients of programming\n",
    "- Learned how to define and operate on logical, string and list variables\n",
    "- Learned about mutable and immutable objects\n",
    "\n",
    "Resources:\n",
    "\n",
    "- [Python website](https://docs.python.org/3/) and [tutorial](https://docs.python.org/3/tutorial/interpreter.html)\n"
   ]
  },
  {
   "cell_type": "markdown",
   "metadata": {},
   "source": [
    "## Assignment - Logical operations\n",
    "\n",
    "**Prerequisites**\n",
    "\n",
    "* Variables\n",
    "* Logical operators\n",
    "* Logic!\n",
    "\n",
    "**Description**\n",
    "\n",
    "You are trying to arrange a night out with some friends, however, after a first round of discussions, you realise relationships among them might not be ideal. More specifically, the following comments were made:\n",
    "\n",
    "|   Friend   |   Comment                                                                                                                |\n",
    "|------------|--------------------------------------------------------------------------------------------------------------------------|\n",
    "|   John     |  \"I can't stand Steven. If he is coming, I am not joining.\"                                                              |\n",
    "|   Sandra   |  \"I have other plans, but I haven't seen Anna in ages. If she joins, I will come.\"                                       |\n",
    "|   Paul     |  \"I don't really like most of the guys, but I also don't have anything better to do. I will let you know later.\"                         |\n",
    "|   Steven   |  \"I don't like Billy, and Kostas wants to talk about music the whole time. I can manage one of them at a time but if they are both coming I don't think I can handle it\" |\n",
    "|   Anna     |  \"Kostas talks way too much. If he is there I am not joining, unless Steven is coming too, in which case they will probably spend the whole night talking about music and leave us alone\"                                                                           |\n",
    "|   Kathrine |  \"If John and Steven are there they will start fighting and ruin the night again. If they are both coming, I won't join.\"|\n",
    "|   Kostas   |  \"Is Billy coming? I owe him some money and I am sort of avoiding him.\"                                                  |\n",
    "|   Billy    |  \"Is Paul coming? If yes, I won't join. Most of the guys don't like him and it will be weird. By the way, have you seen Kostas? He owes me some money and I can't find him.\" |\n",
    "\n",
    "It seems that all answers, except Paul's who is uncertain, depend on other answers. Can you determine which of the friends are coming, depending on Paul's final answer?\n",
    "\n",
    "**Tasks**\n",
    "\n",
    "Write a Python program that performs the following tasks:\n",
    "\n",
    "* **Task 1** Request Paul's final answer as a y/n string. This can be done as usual by printing a statement and reading the user's answer.\n",
    "* **Task 2** Convert the answer to a boolean. To do this a variable should be created that assumes the value `True` if the users answer is 'y' and false otherwise. This can be accomplished using comparison operators.\n",
    "* **Task 3** Based on their statements, determine which of the invited friends will be joining. This consists of converting each of the statements into a series of logical operations that will result in `True` if the friend is joining and `False` otherwise. The result for each friend can be stored in a boolean variable and used for subsequent operations. During this process, it is important to determine the correct order in which the outcome for each friend can be obtained.\n",
    "* **Task 4** Print each friend's name followed by True or False, depending on whether they are coming or not. This simply consists of printing the logical variables created at the previous task."
   ]
  },
  {
   "cell_type": "code",
   "execution_count": null,
   "metadata": {},
   "outputs": [],
   "source": []
  }
 ],
 "metadata": {
  "kernelspec": {
   "display_name": "Python 3 (ipykernel)",
   "language": "python",
   "name": "python3"
  },
  "language_info": {
   "codemirror_mode": {
    "name": "ipython",
    "version": 3
   },
   "file_extension": ".py",
   "mimetype": "text/x-python",
   "name": "python",
   "nbconvert_exporter": "python",
   "pygments_lexer": "ipython3",
   "version": "3.9.12"
  }
 },
 "nbformat": 4,
 "nbformat_minor": 4
}
