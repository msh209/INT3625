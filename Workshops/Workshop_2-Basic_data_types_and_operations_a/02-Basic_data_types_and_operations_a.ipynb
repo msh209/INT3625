{
 "cells": [
  {
   "cell_type": "markdown",
   "metadata": {
    "slideshow": {
     "slide_type": "slide"
    }
   },
   "source": [
    "# Workshop 2 - Basic Data Types and Operations\n",
    "\n",
    "First, a brief guide to using these resources. These documents are called Jupyter Notebooks. They contain text, figures, and Python code that can be edited and executed within them.\n",
    "\n",
    "**<div class=\"alert alert-block alert-info\">\n",
    "KEY POINT -\n",
    "    Text in a blue background will be important things you NEED to know.**\n",
    "</div>\n",
    "\n",
    "**<div class=\"alert alert-block alert-success\">\n",
    "EXAMPLE - Text in a green background will be examples of code that you SHOULD study and run.**\n",
    "</div>\n",
    "\n",
    "**<div class=\"alert alert-block alert-danger\">\n",
    "EXERCISE - Text in a red background will be exercises you SHOULD attempt.**\n",
    "</div>\n",
    "\n",
    "**<div class=\"alert alert-block alert-info\">\n",
    "KEY POINT - You should read through these Notebooks, paying particularly close attention to the blocks as described above. Once you feel like things are making sense, you should attempt the Assignments at the bottom, which will involve the material in the first part. Remember you can always scroll back up to look up useful information.**\n",
    "</div>\n",
    "\n",
    "**<div class=\"alert alert-block alert-info\">\n",
    "KEY POINT - When you get stuck, wave your hand and ask for help!**\n",
    "</div>\n",
    "\n",
    "<b>Introduction: Programming is like cooking</b>\n",
    "\n",
    "The act of cooking requires two essential elements:\n",
    "\n",
    "* Ingredients: tomatoes, onions, water etc.\n",
    "* Actions to be performed on these ingredients: slicing onions, boiling potatoes etc.\n",
    "\n",
    "A large part of cooking revolves around recipes.\n",
    "\n",
    "<ins> Definition of a recipe: </ins>\n",
    "\n",
    "A set of instructions for preparing a particular dish, including a list of the ingredients required.\n",
    "\n",
    "**Programming**\n",
    "\n",
    "Similarly, in programming there are two essential elements:\n",
    "\n",
    "* Data: numbers, text, photographs from your holidays etc.\n",
    "* Code, i.e. a set of instructions to the computer: multiply numbers, sort a set of numbers, find a word in a document\n",
    "\n",
    "A large part of programming revolves around algorithms.\n",
    "\n",
    "<ins> Definition of an algorithm: </ins>\n",
    "\n",
    "A finite sequence of well-defined, computer-implementable instructions, typically to solve a class of problems or to perform a computation, including the required input and output data.\n",
    "\n",
    "**Recipes are algorithms!**\n",
    "\n",
    "**<div class=\"alert alert-block alert-info\">\n",
    "KEY POINT - Programming is a method of turning some initial input into some desired output.**\n",
    "</div>\n"
   ]
  },
  {
   "cell_type": "markdown",
   "metadata": {
    "slideshow": {
     "slide_type": "slide"
    }
   },
   "source": [
    "## Data types\n",
    "\n",
    "### Built in Python data types. There are more but these are the main ones.....\n",
    "\n",
    "Python supports several data types:\n",
    "\n",
    "* Integers \n",
    "  - Integer numbers\n",
    "  - For example: `1`, `2`, `3`\n",
    "* Floats\n",
    "  - Floating point numbers\n",
    "  - For example: `2.32`, `0.006`\n",
    "* Complex\n",
    "  - Complex numbers\n",
    "  - For example: `4+5j`, `2j`\n",
    "* Booleans\n",
    "  - Logical variables that only assume the values: `True`, `False`\n",
    "* Strings:\n",
    "  - Sequences of characters\n",
    "  - For example: `'Hello'`, `'Apple pie'`, `'ENG1002 is an awesome course!'`\n",
    "* Lists:\n",
    "  - Sequences of items of the same or different data type\n",
    "  - For example: `[1,2,5,7]`, `['John','David','Elizabeth']`, `[1,25.3,'Anna', True]`\n",
    "  - Empty lists can also be created as: `[]`\n",
    "* Dictionaries:\n",
    "  - Python's dictionaries are kind of hash table type. They consist of key-value pairs. A dictionary key can be almost any Python type, but are usually numbers or strings. Values, on the other hand, can be any arbitrary Python object.\n",
    "  - For example: mydict = {'name': 'john','code':6734, 'dept': 'sales'}\n",
    "  - Dictionaries are enclosed by curly braces { } and values can be assigned and accessed using square braces []\n",
    " \n",
    "  \n",
    "  \n",
    "**<div class=\"alert alert-block alert-info\">\n",
    "KEY POINT - A data type is exactly that - a type of data. Computers need to be told what type of data they are being given. The main data types we will see are Integers, Floats, Complex, Booleans, Strings, and Lists. There are lots more!**\n",
    "</div>"
   ]
  },
  {
   "cell_type": "markdown",
   "metadata": {
    "slideshow": {
     "slide_type": "slide"
    }
   },
   "source": [
    "## Variables\n",
    "\n",
    "In cooking we often use different types of containers to store or process different ingredients:\n",
    "\n",
    "* Bowls\n",
    "* Plates\n",
    "* Pots\n",
    "* Bottles\n",
    "\n",
    "In general:\n",
    "\n",
    "- Different ingredients are stored in different containers\n",
    "- The larger the amount of ingredients, the larger the container required\n",
    "\n",
    "In programming data are typically stored in variables, which represent locations in the computer's memory.\n",
    "\n",
    "In general:\n",
    "\n",
    "- Each data type requires the corresponding variable type\n",
    "- The larger the amount of data, the larger the memory required\n",
    "\n",
    "### Variables in Python\n",
    "\n",
    "In python, variables can be created as follows:\n",
    "\n",
    "```py\n",
    "variableName = expression\n",
    "```\n",
    "\n",
    "**<div class=\"alert alert-block alert-info\">\n",
    "KEY POINT - The above is very important! This is how we define variables. You will do this a lot.**\n",
    "</div>\n",
    "\n",
    "\n",
    "**<div class=\"alert alert-block alert-success\">\n",
    "EXAMPLE - The type of the variable is determined by the assigned data type. For example:**\n",
    "</div>\n"
   ]
  },
  {
   "cell_type": "code",
   "execution_count": null,
   "metadata": {},
   "outputs": [],
   "source": [
    "a = 12          #create an integer variable and assign to it the value 12\n",
    "b = 3.14        #create a floating point variable and assign to it the value 3.14\n",
    "c = 'Hi'        #create a string variable and assign to it the string 'Hi'\n",
    "d = True        #create a boolean variable and assign to it the value True\n",
    "e = [1,2,True]  #create a list variable and assign to it the list [1,2,True]\n",
    "\n",
    "#Print all variables\n",
    "print(a)\n",
    "print(b)\n",
    "print(c)\n",
    "print(d)\n",
    "print(e)"
   ]
  },
  {
   "cell_type": "markdown",
   "metadata": {
    "slideshow": {
     "slide_type": "subslide"
    }
   },
   "source": [
    "**<div class=\"alert alert-block alert-info\">\n",
    "KEY POINT - Look at the code above. The very first line is defining the variable \"a\" to have a value of 12. Python assumes that this has the data type Integer (as 12 is an integer). To the right of the code is a comment, explaining what the line of code does. It's very important you read these comments!**\n",
    "</div>\n",
    "\n",
    "**<div class=\"alert alert-block alert-danger\">\n",
    "EXERCISE - Click inside the box (cell) above - you can edit the code! Change a variable name to something you think is more descriptive, or a variable value to something you think is more interesting, then run the code. There is a run button at the top of your screen, or you can press CTRL + ENTER on your keyboard or SHIFT + ENTER if you want to run the cell and move to the next cell**\n",
    "</div>\n",
    "\n",
    "Multiple assignments can be performed at once using the following syntax:\n",
    "\n",
    "```py\n",
    "variableName1, variableName2, variableName3, etc. = expression1, expression2, expression3, etc.\n",
    "```\n",
    "\n",
    "**<div class=\"alert alert-block alert-success\">\n",
    "EXAMPLE - This way, values can be assigned to all variables of the previous example at once:**\n",
    "</div>\n",
    "\n"
   ]
  },
  {
   "cell_type": "code",
   "execution_count": null,
   "metadata": {
    "slideshow": {
     "slide_type": "subslide"
    }
   },
   "outputs": [],
   "source": [
    "a,b,c,d,e=12,3.14,'Hi',True,[1,2,True]\n",
    "\n",
    "print(a)\n",
    "print(b)\n",
    "print(c)\n",
    "print(d)\n",
    "print(e)"
   ]
  },
  {
   "cell_type": "markdown",
   "metadata": {
    "slideshow": {
     "slide_type": "slide"
    }
   },
   "source": [
    "**<div class=\"alert alert-block alert-danger\">\n",
    "EXERCISE - Again, you can click inside the cell above and edit the code! \"Playing\" with code is fundamental to learning how to program - experiment with changing/removing/adding things whenever you see code to help you understand how it works. There is a run button at the top of your screen, or you can press CTRL + ENTER on your keyboard.**\n",
    "</div>"
   ]
  },
  {
   "cell_type": "markdown",
   "metadata": {
    "slideshow": {
     "slide_type": "subslide"
    }
   },
   "source": [
    "**<div class=\"alert alert-block alert-success\">\n",
    "    EXAMPLE - Variables can also be reassigned values, of the same or different data type:**\n",
    "</div>"
   ]
  },
  {
   "cell_type": "code",
   "execution_count": null,
   "metadata": {
    "slideshow": {
     "slide_type": "subslide"
    }
   },
   "outputs": [],
   "source": [
    "a=28        #assign the value 12 to variable a\n",
    "b='John'    #assign the string 'John' to variable b, this will also change its type\n",
    "c=1032.098  #assign the value 1032.098 to variable c, now c is a float\n",
    "d=False     #assign the value false to variable d\n",
    "e=[]        #assign an empty list to e\n",
    "\n",
    "print(a)\n",
    "print(b)\n",
    "print(c)\n",
    "print(d)\n",
    "print(e)"
   ]
  },
  {
   "cell_type": "markdown",
   "metadata": {
    "slideshow": {
     "slide_type": "subslide"
    }
   },
   "source": [
    "**<div class=\"alert alert-block alert-success\">\n",
    "    EXAMPLE - The values of variables can be assigned to other variables, for instance:**\n",
    "</div>"
   ]
  },
  {
   "cell_type": "code",
   "execution_count": null,
   "metadata": {
    "scrolled": true,
    "slideshow": {
     "slide_type": "subslide"
    }
   },
   "outputs": [],
   "source": [
    "a=7    #assign the value 7 to variable a\n",
    "b=a    #assign the value of variable a to variable b\n",
    "\n",
    "print(a)\n",
    "print(b)"
   ]
  },
  {
   "cell_type": "markdown",
   "metadata": {
    "slideshow": {
     "slide_type": "subslide"
    }
   },
   "source": [
    "It seems that when the value of one variable is assigned to an another, the data is copied. As we will see next week, this is not always the case. For now, it should be enough to mention that data is copied for floats, integers, booleans and strings."
   ]
  },
  {
   "cell_type": "markdown",
   "metadata": {},
   "source": [
    "#### Deleting variables and memory\n",
    "\n",
    "Once a variable is created it is stored in memory and unless any action is taken it will stay there.\n",
    "\n",
    "Variables can be deleted using the following syntax:\n",
    "\n",
    "```Python\n",
    "    del variableName\n",
    "```\n",
    "\n",
    "Or for multiple variables:\n",
    "\n",
    "```Python\n",
    "    del variableName1, variableName2, ...\n",
    "```\n",
    "\n",
    "<div class=\"alert alert-block alert-info\">\n",
    "    <b>KEY POINT - Warning! In Jupyter Notebooks, memory is common among all cells, therefore, a variable defined in a cell is accessible from all other cells, while deleting a variable in a cell will also delete it globally. Moreover, variables will remain in memory even if the cell where they were initially defined are deleted. This can sometimes cause confusion!\n",
    "    If in doubt, you can restart the Kernel to clear all memory and start fresh. You can do that by selecting one of the restart options from the Kernel menu:\n",
    "    \n",
    "<div>    \n",
    "    <img src=\"./Figures/jupyter_restart.png\" width=\"150\">\n",
    "</div>\n",
    "        \n",
    "or using the <code> 0,0 </code> keyboard shortcut.</b>\n",
    "</div>\n",
    "\n",
    "**<div class=\"alert alert-block alert-danger\">\n",
    "EXERCISE - Run every cell in order to see this in process. What do you expect to happen before you run each cell?**\n",
    "</div>"
   ]
  },
  {
   "cell_type": "code",
   "execution_count": null,
   "metadata": {},
   "outputs": [],
   "source": [
    "#Define variables a and b\n",
    "a=12\n",
    "b=13"
   ]
  },
  {
   "cell_type": "code",
   "execution_count": null,
   "metadata": {},
   "outputs": [],
   "source": [
    "#a and b can be accesed from a different cell\n",
    "\n",
    "print(a)\n",
    "print(b)"
   ]
  },
  {
   "cell_type": "code",
   "execution_count": null,
   "metadata": {},
   "outputs": [],
   "source": [
    "del a,b #delete a and b"
   ]
  },
  {
   "cell_type": "code",
   "execution_count": null,
   "metadata": {},
   "outputs": [],
   "source": [
    "#a and b have been deleted, this should result in...\n",
    "print(a)\n",
    "print(b)"
   ]
  },
  {
   "cell_type": "markdown",
   "metadata": {
    "slideshow": {
     "slide_type": "slide"
    }
   },
   "source": [
    "### Naming rules and conventions\n",
    "\n",
    "#### Rules\n",
    "\n",
    "In general, you can get creative when naming variables. However, you have to follow some rules since variable names:\n",
    "\n",
    "* **Can** contain any letter, digit or underscore\n",
    "* **Cannot** be longer than 256 characters\n",
    "* **Cannot** contain a space\n",
    "* **Cannot** contain math symbols: +, -, /, *, %, (), [], {}\n",
    "* **Cannot** be a reserved word\n",
    "\n",
    "What are reserved words?\n",
    "\n",
    "Reserved words are keywords that are used as built in python commands:\n",
    "\n",
    "|              |              |              |              |              |\n",
    "|--------------|--------------|--------------|--------------|--------------|\n",
    "|    `False`   |    `await`   |    `else`    |  `import`    |   `pass`     |\n",
    "|    `None`    |    `break`   |    `except`  |  `in`        |   `raise`    |\n",
    "|    `True`    |    `class`   |    `finally` |  `is`        |   `return`   |\n",
    "|    `and`     |    `continue`|    `for`     |  `lambda`    |   `try`      |\n",
    "|    `as`      |    `def`     |    `from`    |  `nonlocal`  |   `while`    |\n",
    "|    `assert`  |    `del`     |    `global`  |  `not`       |   `with`     |\n",
    "|    `async`   |    `elif`    |    `if`      |  `or`        |   `yield`    |\n"
   ]
  },
  {
   "cell_type": "markdown",
   "metadata": {
    "slideshow": {
     "slide_type": "subslide"
    }
   },
   "source": [
    "<div class=\"alert alert-block alert-success\">\n",
    "    <b>EXAMPLE - Legal variable name examples but not sensible:</b></div>"
   ]
  },
  {
   "cell_type": "code",
   "execution_count": null,
   "metadata": {
    "slideshow": {
     "slide_type": "subslide"
    }
   },
   "outputs": [],
   "source": [
    "an_unusually_long_but_still_legal_variable_name = 12.369\n",
    "a_variable_name_containing_CAPITAL_LETTERS_and_numbers_0123456789 = 17\n",
    "a_still_legal_variable_name_including_reserved_words_for_if_else = 4"
   ]
  },
  {
   "cell_type": "markdown",
   "metadata": {
    "slideshow": {
     "slide_type": "subslide"
    }
   },
   "source": [
    "<div class=\"alert alert-block alert-success\">\n",
    "    <b>EXAMPLE - Illegal variable name examples:</b></div>"
   ]
  },
  {
   "cell_type": "code",
   "execution_count": null,
   "metadata": {
    "slideshow": {
     "slide_type": "subslide"
    }
   },
   "outputs": [],
   "source": [
    "for=4   # this is a key syntax for loops (code syntax for repetition)\n",
    "else=2  # this is key syntax in conditionals (if statements to make decisions)\n",
    "an illegal variable name containing spaces = 2   # this one has spaces inbetween"
   ]
  },
  {
   "cell_type": "markdown",
   "metadata": {},
   "source": [
    "<div class=\"alert alert-block alert-info\">\n",
    "    <b>KEY POINT - Notice that running the above two cells results in different outputs. In the second cell, we have used illegal variable names, so Python returns an error to tell us we need to be better programmers. However, in the first cell where we use legal variable names Python says nothing! In general this is how Python behaves - only giving us feedback (in the form of errors) when we make mistakes.</b></div>"
   ]
  },
  {
   "cell_type": "markdown",
   "metadata": {
    "slideshow": {
     "slide_type": "slide"
    }
   },
   "source": [
    "#### Conventions - Good variable naming practice\n",
    "\n",
    "It is good practice to use descriptive names for your variables to avoid confusion. \n",
    "\n",
    "This can lead to variable names consisting of multiple words. In this case, there are two popular naming conventions you can use:\n",
    "\n",
    "<ins>Camelcase</ins>\n",
    "\n",
    " * The first word starts with a lowercase letter\n",
    " * Each subsequent word starts withe an uppercase letter\n",
    "\n",
    "For example:\n",
    "\n",
    "```Python\n",
    "triangleArea\n",
    "cubeVolume\n",
    "userName\n",
    "```\n",
    "\n",
    "<ins>Lowercase with underscores </ins>\n",
    "\n",
    " * All words consist of lowercase letters\n",
    " * Underscores are placed between words\n",
    "\n",
    "For example:\n",
    "\n",
    "```Python\n",
    "triangle_area\n",
    "cube_volume\n",
    "user_name\n",
    "```\n",
    "\n",
    "Other alternatives are, of course, possible, for instance uppercase with underscores.\n",
    "\n",
    "<div class=\"alert alert-block alert-info\">\n",
    " <b>KEY POINT - For the remainder of the course let's try and agree to use camelcase, mainly because it has such a cool name!</b>\n",
    "</div>\n",
    "\n",
    "<div class=\"alert alert-block alert-info\">\n",
    " <b>KEY POINT - Worried about variable names getting too long? You can speed up your workflow by partially typing the name of the variable and then pressing Tab for autocomplete suggestions.</b>\n",
    "</div>"
   ]
  },
  {
   "cell_type": "markdown",
   "metadata": {
    "slideshow": {
     "slide_type": "slide"
    }
   },
   "source": [
    "## Operations\n",
    "\n",
    "### Numerical operations\n",
    "\n",
    "Python supports standard numerical operations using the following symbols:\n",
    "\n",
    "* Addition: `+`\n",
    "* Subtraction: `-`\n",
    "* Multiplication: `*`\n",
    "* Division: `/`\n",
    "* Integer division: `//`\n",
    "* Power: `**`\n",
    "* Modulus: `%`\n",
    "\n",
    "<div class=\"alert alert-block alert-success\">\n",
    " <b>EXAMPLE - These can be applied to numbers, allowing you to use Python as a calculator:</b>\n",
    "</div>"
   ]
  },
  {
   "cell_type": "code",
   "execution_count": null,
   "metadata": {},
   "outputs": [],
   "source": [
    "14*(15-4)*(7+6)+20"
   ]
  },
  {
   "cell_type": "markdown",
   "metadata": {},
   "source": [
    "<div class=\"alert alert-block alert-danger\">\n",
    " <b>EXERCISE - Use the cell below to calculate your age in days - do it as you would do on a calculator!</b>\n",
    "</div>"
   ]
  },
  {
   "cell_type": "code",
   "execution_count": null,
   "metadata": {},
   "outputs": [],
   "source": []
  },
  {
   "cell_type": "markdown",
   "metadata": {},
   "source": [
    "<div class=\"alert alert-block alert-danger\">\n",
    " <b>EXERCISE - Use the cell below to investigate the difference between the operations \"/\" and \"//\". When, if ever, do they return the same value? </b>\n",
    "</div>"
   ]
  },
  {
   "cell_type": "code",
   "execution_count": null,
   "metadata": {},
   "outputs": [],
   "source": [
    "\n"
   ]
  },
  {
   "cell_type": "markdown",
   "metadata": {},
   "source": [
    "<div class=\"alert alert-block alert-danger\">\n",
    " <b>EXERCISE - Use the cell below to calculate the area of a circle with radius 7, and take pi to be 3.14.\n",
    "</div>"
   ]
  },
  {
   "cell_type": "code",
   "execution_count": null,
   "metadata": {},
   "outputs": [],
   "source": []
  },
  {
   "cell_type": "markdown",
   "metadata": {},
   "source": [
    "Parentheses `()` can be used to change the order of execution of the operations.\n",
    "\n",
    "The order in which operations are prioritised is the following:\n",
    "\n",
    "Parentheses &rarr; Powers &rarr; Multiplication/Division &rarr; Addition/subtraction\n",
    "\n",
    "<div class=\"alert alert-block alert-danger\">\n",
    " <b>EXERCISE - Try to predict the result of the following operations before you run the cells to see if you are right!</b>\n",
    "</div>"
   ]
  },
  {
   "cell_type": "code",
   "execution_count": null,
   "metadata": {},
   "outputs": [],
   "source": [
    "3**2/2+1"
   ]
  },
  {
   "cell_type": "code",
   "execution_count": null,
   "metadata": {},
   "outputs": [],
   "source": [
    "3**(2/2)+1"
   ]
  },
  {
   "cell_type": "code",
   "execution_count": null,
   "metadata": {},
   "outputs": [],
   "source": [
    "3**2/(2+1)"
   ]
  },
  {
   "cell_type": "markdown",
   "metadata": {},
   "source": [
    "Operations can be performed with variables in the exact same way.\n",
    "\n",
    "\n",
    "\n",
    "<div class=\"alert alert-block alert-success\">\n",
    " <b>EXAMPLE - Compute the area of a triangle with variable base and height:</b>\n",
    "</div>"
   ]
  },
  {
   "cell_type": "code",
   "execution_count": null,
   "metadata": {},
   "outputs": [],
   "source": [
    "base=5   #assign some value to base\n",
    "height=8 #assign some value to height\n",
    "\n",
    "triangleArea=0.5*base*height\n",
    "\n",
    "print(triangleArea)"
   ]
  },
  {
   "cell_type": "markdown",
   "metadata": {},
   "source": [
    "<div class=\"alert alert-block alert-danger\">\n",
    " <b>EXERCISE - Use the cell below to calculate the area of a circle with the given values. You will need to remove the # symbols and change BLANKBLANKBLANK to appropriate code.</b>\n",
    "    <br><br>\n",
    "    <b>Highlight the two commented lines together and press CTRL + / to see what happens. Do it again and take note of this useful shortcut.</b> \n",
    "</div>"
   ]
  },
  {
   "cell_type": "code",
   "execution_count": null,
   "metadata": {},
   "outputs": [],
   "source": [
    "radius = 4\n",
    "piEstimate = 3.1416\n",
    "\n",
    "# circleArea = BLANKBLANKBLANK\n",
    "\n",
    "# print(BLANKBLANKBLANK)"
   ]
  },
  {
   "cell_type": "markdown",
   "metadata": {},
   "source": [
    "### Compound assignments\n",
    "\n",
    "These can be used to quickly modify existing variables. The general syntax is:\n",
    "\n",
    "```Python\n",
    "variableName operator= value\n",
    "```\n",
    "\n",
    "For example:"
   ]
  },
  {
   "cell_type": "code",
   "execution_count": null,
   "metadata": {},
   "outputs": [],
   "source": [
    "a=1      #assign value 1 to variable a, , same effect as \"a = a + 1\"\n",
    "a+=3     #add the value 3 to the existing value of a, you could do this as \"a = a + 3\"\n",
    "\n",
    "print(a)\n",
    "\n",
    "a*=5     #multiply the existing value of a by 5, you could do the same with \"a = a * 5\"\n",
    "\n",
    "print(a)"
   ]
  },
  {
   "cell_type": "markdown",
   "metadata": {},
   "source": [
    "### Comparisons\n",
    "\n",
    "Comparisons can be performed between any kind of variables and result in a Boolean. The following operators can be used:\n",
    "\n",
    "* Equal: `value1 == value2`\n",
    "* Not equal: `value1 != value2`\n",
    "* Greater/less than: `value1 > value2`, `value1 < value2`\n",
    "* Greater/less than or equal to: `value1 >= value2`,`value1 <= value2`\n",
    "\n",
    "<div class=\"alert alert-block alert-success\">\n",
    " <b>EXAMPLE - For example: (run each cell in order)</b>\n",
    "</div>"
   ]
  },
  {
   "cell_type": "code",
   "execution_count": null,
   "metadata": {},
   "outputs": [],
   "source": [
    "a=1\n",
    "b=2\n",
    "c=6\n",
    "d=2"
   ]
  },
  {
   "cell_type": "markdown",
   "metadata": {},
   "source": [
    "<div class=\"alert alert-block alert-success\">\n",
    " <b>EXAMPLE - We might want to check if a is the same as b, so we ask Python to evaluate the statement \"a==b\". Python compares the two variables and tells us if that statement is true or false.</b>\n",
    "</div>"
   ]
  },
  {
   "cell_type": "code",
   "execution_count": null,
   "metadata": {},
   "outputs": [],
   "source": [
    "a==b"
   ]
  },
  {
   "cell_type": "markdown",
   "metadata": {},
   "source": [
    "<div class=\"alert alert-block alert-info\">\n",
    " <b>KEY POINT - Notice that we use DOUBLE equals signs here, otherwise we would be redefining the variable \"a\" as the same value as \"b\".</b>\n",
    "</div>"
   ]
  },
  {
   "cell_type": "markdown",
   "metadata": {},
   "source": [
    "<div class=\"alert alert-block alert-danger\">\n",
    " <b>EXERCISE - Use the cell below to check if \"b\" is not equal to \"d\". Again, remove the # symbol and replace BLANKBLANKBLANK with the correct code.\n",
    "    </b>\n",
    "</div>"
   ]
  },
  {
   "cell_type": "code",
   "execution_count": null,
   "metadata": {},
   "outputs": [],
   "source": [
    "# b BLANKBLANKBLANK d"
   ]
  },
  {
   "cell_type": "markdown",
   "metadata": {},
   "source": [
    "<div class=\"alert alert-block alert-danger\">\n",
    " <b>EXERCISE - Use the cell below to check if \"c\" is greater than \"a\".</b>\n",
    "</div>"
   ]
  },
  {
   "cell_type": "code",
   "execution_count": null,
   "metadata": {},
   "outputs": [],
   "source": []
  },
  {
   "cell_type": "markdown",
   "metadata": {},
   "source": [
    "<div class=\"alert alert-block alert-danger\">\n",
    " <b>EXERCISE - Use the cell\n",
    "     below to check if \"d\" is less than or equal to \"b\".</b>\n",
    "</div>"
   ]
  },
  {
   "cell_type": "code",
   "execution_count": null,
   "metadata": {},
   "outputs": [],
   "source": []
  },
  {
   "cell_type": "markdown",
   "metadata": {},
   "source": [
    "The result of a comparison can also be assigned to a variable:"
   ]
  },
  {
   "cell_type": "code",
   "execution_count": null,
   "metadata": {},
   "outputs": [],
   "source": [
    "comparisonResult=a<b  #assign the result of the comparison a<b to the variable comparisonResult\n",
    "\n",
    "print(comparisonResult)"
   ]
  },
  {
   "cell_type": "markdown",
   "metadata": {},
   "source": [
    "<div class=\"alert alert-block alert-info\">\n",
    " <b>KEY POINT - When we make a comparison we are essentially asking Python if the statement is true or false, and so Python returns a value of True or False (which is a Boolean data type).</b>\n",
    "</div>"
   ]
  },
  {
   "cell_type": "markdown",
   "metadata": {},
   "source": [
    "## Type conversions\n",
    "\n",
    "Data can be converted from one format to another (when possible) using the following commands:\n",
    "\n",
    "```Python\n",
    "    bool(someData)\n",
    "    int(someData)\n",
    "    float(someData)\n",
    "    str(someData)\n",
    "    complex(someData)\n",
    "```\n",
    "\n",
    "<div class=\"alert alert-block alert-success\">\n",
    " <b>EXAMPLE - For example: (run each cell in order)</b>\n",
    "</div>"
   ]
  },
  {
   "cell_type": "code",
   "execution_count": null,
   "metadata": {},
   "outputs": [],
   "source": [
    "bool(0)  #Convert a number to a boolean (everything except 0 is converted to true)"
   ]
  },
  {
   "cell_type": "code",
   "execution_count": null,
   "metadata": {},
   "outputs": [],
   "source": [
    "int(7.3) #Convert float to int"
   ]
  },
  {
   "cell_type": "code",
   "execution_count": null,
   "metadata": {},
   "outputs": [],
   "source": [
    "float(2) #Convert int to float"
   ]
  },
  {
   "cell_type": "code",
   "execution_count": null,
   "metadata": {},
   "outputs": [],
   "source": [
    "str(17) #Convert float to string"
   ]
  },
  {
   "cell_type": "code",
   "execution_count": null,
   "metadata": {},
   "outputs": [],
   "source": [
    "float('165.4') #Convert string to float"
   ]
  },
  {
   "cell_type": "markdown",
   "metadata": {},
   "source": [
    "<div class=\"alert alert-block alert-info\">\n",
    " <b>KEY POINT - Warning! Not all conversions will work! We can't convert apples to oranges 😁\n",
    "    </b></div>\n",
    "\n",
    "\n",
    "<div class=\"alert alert-block alert-success\">\n",
    " <b>EXAMPLE - For example:</b>\n",
    "</div>"
   ]
  },
  {
   "cell_type": "code",
   "execution_count": null,
   "metadata": {},
   "outputs": [],
   "source": [
    "float('apple') #This will not work!"
   ]
  },
  {
   "cell_type": "markdown",
   "metadata": {},
   "source": [
    "## Summary\n",
    "\n",
    "In this workshop we:\n",
    "\n",
    "- Learned about the main ingredients of programming\n",
    "- Learned about the main data types\n",
    "- Learned how to define, name and operate on numerical variables\n",
    "- Learned how to convert data and variables of different types\n",
    "\n",
    "Resources:\n",
    "\n",
    "- [Python website](https://docs.python.org/3/) and [tutorial](https://docs.python.org/3/tutorial/interpreter.html)\n",
    "\n",
    "\n",
    "<div class=\"alert alert-block alert-danger\">\n",
    " <b>EXERCISE - Now try the assignments below.\n",
    "    </b>\n",
    "</div>\n",
    "\n",
    "<div class=\"alert alert-block alert-info\">\n",
    " <b>KEY POINT - Learning a programming language is similar in some ways to learning a foreign language. The best way to learn is to keep trying, and learn from your mistakes.\n",
    "    </b></div>\n",
    "    \n",
    "<div class=\"alert alert-block alert-danger\">\n",
    " <b>EXERCISE - Make lots of mistakes.\n",
    "    </b>\n",
    "</div>"
   ]
  },
  {
   "cell_type": "markdown",
   "metadata": {},
   "source": [
    "## Assignment - Trapezoids\n",
    "\n",
    "**Prerequisites**\n",
    "\n",
    "* User input\n",
    "* Variables\n",
    "* Numerical operations\n",
    "\n",
    "**Description**\n",
    "\n",
    "<div>    \n",
    "    <img src=\"./Figures/trapezoid.png\" width=\"250\">\n",
    "</div>\n",
    "\n",
    "As we know, the area of a trapezoid can be computed as:\n",
    "\n",
    "$A = \\dfrac{(a+b)}{2} h$\n",
    "\n",
    "**Tasks**\n",
    "\n",
    "Write a Python program to compute the area of a trapezoid by performing the following tasks:\n",
    "\n",
    "* **Task 1:** Define a variable $a$, with a value of your choosing.\n",
    "* **Task 2:** Repeat the above task for base $b$ and the height $h$ of the trapezoid\n",
    "* **Taks 3:** Compute the area of the trapezoid using the provided formula and store it to an appropriately named variable\n",
    "* **Task 4:** Print the area of the trapezoid along with an appropriate message"
   ]
  },
  {
   "cell_type": "code",
   "execution_count": null,
   "metadata": {},
   "outputs": [],
   "source": [
    "#Task 1\n",
    "# a = BLANKBLANKBLANK\n",
    "\n",
    "#Task 2\n",
    "# BLANKBLANKBLANK\n",
    "# BLANKBLANKBLANK\n",
    "\n",
    "#Task 3\n",
    "# BLANKBLANKBLANK\n",
    "\n",
    "#Task 4\n",
    "# print(BLANKBLANKBLANK)"
   ]
  },
  {
   "cell_type": "markdown",
   "metadata": {},
   "source": [
    "## Assignment - Even and odd numbers\n",
    "\n",
    "**Prerequisites**\n",
    "\n",
    "* User input\n",
    "* Variables\n",
    "* Numerical operations\n",
    "* Comparisons\n",
    "\n",
    "**Tasks**\n",
    "\n",
    "Write a Python program to determine whether a number is odd or even by performing the following tasks:\n",
    "\n",
    "* **Task 1:** Define the variable `myNumber`, with an integer value of your choosing.\n",
    "* **Task 2:** Perform appropriate numerical operations and comparisons to determine whether the provided number is even and create a Boolean variable assuming the value `True` in case the number is even and `False` otherwise\n",
    "* **Task 3:** Print a message of the form 'The provided number is even: ', followed by `True` or `False` depending on the number provided"
   ]
  },
  {
   "cell_type": "code",
   "execution_count": null,
   "metadata": {},
   "outputs": [],
   "source": [
    "#Task 1\n",
    "\n",
    "\n",
    "#Task 2\n",
    "\n",
    "\n",
    "#Task 3\n",
    "\n"
   ]
  },
  {
   "cell_type": "markdown",
   "metadata": {
    "slideshow": {
     "slide_type": "slide"
    }
   },
   "source": [
    "## Assignment - Digit extraction\n",
    "\n",
    "**Prerequisites**\n",
    "\n",
    "* Variables\n",
    "* Numerical operations\n",
    "* Rational thinking\n",
    "\n",
    "**Description**\n",
    "\n",
    "In several applications, and children's games, it is necessary to perform operations with individual digits of a number consisting of multiple digits. For example:\n",
    "\n",
    "\"Think of a number between 1 and 999, now add the digits and repeat until you get a number between 1 and 24. The letter of the alphabet corresponding to that number is the first letter of the name of your true love.\"\n",
    "\n",
    "In this assignment we will attempt something similar, using basic numerical operations and comparisons. In particular think 'integer division //' and 'modulus %'\n",
    "\n",
    "**Tasks**\n",
    "\n",
    "Write a Python program to perform the following tasks:\n",
    "\n",
    "* **Task 1:** Define a variable with a value that is a 4 digit integer.\n",
    "* **Task 2:** Extract and print individual digits of this number. This should consist of first computing the digits, namely units, tens, hundreds and thousands, assigning them into variables, and subsequently printing them on screen.\n",
    "* **Task 3:** Determine whether the sum of these digits is a single digit number. This should consist of computing the sum of the variables containing individual digits, comparing the sum to 10 and storing the result of the comparison to a logical variable\n",
    "* **Task 4:** Print a statement. This consists of printing a message in the style of: 'The sum of the individual digits of the provided number is a single digit number:', followed by `True` or `False` depending on whether the sum is a single digit number.\n",
    "\n",
    "There are a few different ways to extract individual digits, let's see how many you can come up with!"
   ]
  },
  {
   "cell_type": "code",
   "execution_count": null,
   "metadata": {},
   "outputs": [],
   "source": []
  }
 ],
 "metadata": {
  "kernelspec": {
   "display_name": "Python 3 (ipykernel)",
   "language": "python",
   "name": "python3"
  },
  "language_info": {
   "codemirror_mode": {
    "name": "ipython",
    "version": 3
   },
   "file_extension": ".py",
   "mimetype": "text/x-python",
   "name": "python",
   "nbconvert_exporter": "python",
   "pygments_lexer": "ipython3",
   "version": "3.9.12"
  }
 },
 "nbformat": 4,
 "nbformat_minor": 4
}
